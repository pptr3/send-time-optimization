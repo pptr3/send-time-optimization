{
 "cells": [
  {
   "cell_type": "code",
   "execution_count": 169,
   "id": "2455ab5f",
   "metadata": {},
   "outputs": [],
   "source": [
    "import pandas as pd\n",
    "import numpy as np\n",
    "import matplotlib.pyplot as plt\n",
    "import statistics\n",
    "import math\n",
    "from sklearn.model_selection import train_test_split\n",
    "from sklearn.ensemble import RandomForestRegressor"
   ]
  },
  {
   "cell_type": "code",
   "execution_count": 170,
   "id": "8bb1f3f0",
   "metadata": {},
   "outputs": [
    {
     "name": "stderr",
     "output_type": "stream",
     "text": [
      "/home/ec2-user/anaconda3/envs/python3/lib/python3.6/site-packages/IPython/core/interactiveshell.py:3072: DtypeWarning: Columns (8) have mixed types.Specify dtype option on import or set low_memory=False.\n",
      "  interactivity=interactivity, compiler=compiler, result=result)\n"
     ]
    }
   ],
   "source": [
    "data = pd.read_csv(\"s3://ai-diennea/data/export_wonkit_20210630102441.csv.gz\")\n",
    "# add the day of the week column\n",
    "day_of_week = []\n",
    "for i in range(len(data)):\n",
    "    day_of_week.append(pd.to_datetime(data[\"EVENT.DATE\"][i], format='%Y/%m/%d %H:%M').day_name())\n",
    "data['day_of_week'] = pd.DataFrame(day_of_week)"
   ]
  },
  {
   "cell_type": "code",
   "execution_count": 251,
   "id": "24532949",
   "metadata": {},
   "outputs": [],
   "source": [
    "def sent_date_to_min(sents):\n",
    "    return sents.hour*60 + sents.minute\n",
    "\n",
    "def from_min_to_hour_and_min(mins):\n",
    "    hours = round(mins) // 60\n",
    "    minutes = round(mins) % 60\n",
    "    return \"{}:{}\".format(hours, minutes)\n",
    "\n",
    "\n",
    "def exp_decay_fit(x, sent_open_hour_range):\n",
    "    if x > sent_open_hour_range*60:\n",
    "        return .0\n",
    "    if x < 0:\n",
    "        return 1\n",
    "    return math.exp(((-math.log(2)/(sent_open_hour_range*60))*x) + math.log(2))-1\n",
    "\n",
    "\n",
    "def compute_fitSA(hash_mex, hash_contact, sent_open_hour_range, data):\n",
    "    sents, opens, clicks = [], [], []\n",
    "    list_index = get_all_indexes(hash_mex, hash_contact, data)\n",
    "    for i in list_index:\n",
    "        if data['EVENT.TYPE'][i] == 'Sent':\n",
    "            sents.append(pd.to_datetime(data[\"EVENT.DATE\"][i], format='%Y/%m/%d %H:%M'))\n",
    "        elif data['EVENT.TYPE'][i] == 'Open':\n",
    "            opens.append(pd.to_datetime(data[\"EVENT.DATE\"][i], format='%Y/%m/%d %H:%M'))\n",
    "        elif data['EVENT.TYPE'][i] == 'Click':\n",
    "            clicks.append(pd.to_datetime(data[\"EVENT.DATE\"][i], format='%Y/%m/%d %H:%M'))\n",
    "    \n",
    "    y = sent_date_to_min(sents[0]) # since this function gives me for free the y, I return it here\n",
    "    # if there are multiple opens/clicks, take the oldest one (the first that has been opened/clicked)\n",
    "    oldest = None\n",
    "    if opens != []:\n",
    "        for i in opens:\n",
    "            if oldest is None:\n",
    "                oldest = i\n",
    "            elif i < oldest:\n",
    "                oldest = i\n",
    "    elif clicks != []:\n",
    "        for i in clicks:\n",
    "            if oldest is None:\n",
    "                oldest = i\n",
    "            elif i < oldest:\n",
    "                oldest = i\n",
    "    else: # this means that the mail has never been opened/clicked\n",
    "        return .0, y\n",
    "\n",
    "    # compute minutes of the distance between sent-open/sent-click\n",
    "    mins = ((oldest - sents[0]).days*24*60) + ((oldest - sents[0]).seconds//3600)*60 + ((oldest - sents[0]).seconds//60)%60\n",
    "\n",
    "    return exp_decay_fit(mins, sent_open_hour_range), y\n",
    "\n",
    "def compute_fitAC(hash_mex, hash_contact, open_click_hour_range, data):\n",
    "    opens, clicks = [], []\n",
    "\n",
    "    list_index = get_all_indexes(hash_mex, hash_contact, data)\n",
    "    for i in list_index:\n",
    "        if data['EVENT.TYPE'][i] == 'Open':\n",
    "            opens.append(pd.to_datetime(data[\"EVENT.DATE\"][i], format='%Y/%m/%d %H:%M'))\n",
    "        elif data['EVENT.TYPE'][i] == 'Click':\n",
    "            clicks.append(pd.to_datetime(data[\"EVENT.DATE\"][i], format='%Y/%m/%d %H:%M'))\n",
    "    \n",
    "    oldest_open = None\n",
    "    oldest_click = None\n",
    "\n",
    "    if opens == [] and clicks != []: # messege clicked but open is not detected: I assign -1 and then a function\n",
    "        return -1                    # computes the avg\n",
    "    \n",
    "    if clicks == []: # covers cases when a message is sent and is never open and never clicked\n",
    "        return .0\n",
    "    elif opens != [] and clicks != []:\n",
    "        for i in opens: # get oldest open\n",
    "            if oldest_open is None:\n",
    "                oldest_open = i\n",
    "            elif i < oldest_open:\n",
    "                oldest_open = i\n",
    "        for i in clicks: # get oldest click\n",
    "            if oldest_click is None:\n",
    "                oldest_click = i\n",
    "            elif i < oldest_click:\n",
    "                oldest_click = i\n",
    "    # compute minutes of the distance between open-click\n",
    "    mins = ((oldest_click - oldest_open).days*24*60) + ((oldest_click - oldest_open).seconds//3600)*60 + ((oldest_click - oldest_open).seconds//60)%60\n",
    "    return exp_decay_fit(mins, open_click_hour_range)\n",
    "\n",
    "def avg_fitAC(df):\n",
    "    fitAC_column = df['fitAC'].to_list()\n",
    "    l = []\n",
    "    for i in fitAC_column:\n",
    "        if i != -1:\n",
    "            l.append(i)\n",
    "    return statistics.mean(l)\n",
    "\n",
    "\n",
    "# (messaggi aperti fascia oraria 0-1 / numero totali di mail aperte in generale dal contatto)\n",
    "def open_rate_mex_time_slot(hash_contact, data):\n",
    "    mex_plus_contact_distinct = []\n",
    "    dates = []\n",
    "    list_index = get_all_indexes_contact(hash_contact, data)\n",
    "    for i in list_index:\n",
    "        if \"nan\" not in str(data[\"EVENT.DATE\"][i]) and str(data[\"EVENT.TYPE\"][i]) == 'Open' and (data[\"HashMessaggio\"][i] + data['HashContatto'][i]) not in mex_plus_contact_distinct:\n",
    "            mex_plus_contact_distinct.append(data[\"HashMessaggio\"][i] + data['HashContatto'][i])\n",
    "            dates.append(pd.to_datetime(data[\"EVENT.DATE\"][i], format='%Y/%m/%d %H:%M'))\n",
    "    # add messages clicked but not opened\n",
    "    for i in list_index:\n",
    "        if \"nan\" not in str(data[\"EVENT.DATE\"][i]) and str(data[\"EVENT.TYPE\"][i]) == 'Click' and (data[\"HashMessaggio\"][i] + data['HashContatto'][i]) not in mex_plus_contact_distinct:\n",
    "            mex_plus_contact_distinct.append(data[\"HashMessaggio\"][i] + data['HashContatto'][i])\n",
    "            dates.append(pd.to_datetime(data[\"EVENT.DATE\"][i], format='%Y/%m/%d %H:%M'))\n",
    "\n",
    "    tot_mex_opened = len(mex_plus_contact_distinct)\n",
    "    if len(dates) == 0: # it means that the user has never opened messages\n",
    "        return np.zeros((24,))\n",
    "    df = pd.DataFrame(dates, columns =['dates'])\n",
    "\n",
    "    df = df.assign(session=pd.cut(df[\"dates\"].dt.hour,\n",
    "                                [0,1,2,3,4,5,6,7,8,9,10,11,12,13,14,15,16,17,18,19,20,21,22,23,24],\n",
    "                                labels=['0-1','1-2','2-3','3-4','4-5','5-6','6-7', '7-8', '8-9', '9-10', '10-11', '11-12', '12-13', '13-14', '14-15', '15-16', '16-17', '17-18', '18-19', '19-20', '20-21', '21-22', '22-23', '23-24'],\n",
    "                                include_lowest=True))\n",
    "    numpy_output = df['session'].value_counts().sort_index().to_numpy() / tot_mex_opened\n",
    "\n",
    "    return numpy_output\n",
    "\n",
    "\n",
    "def dp_open_rate_mex_time_slot(data):\n",
    "    d = {}\n",
    "    for i in data[\"HashContatto\"].unique():\n",
    "        if i not in d:\n",
    "            d[i] = None\n",
    "    for key in d:\n",
    "        d[key] = open_rate_mex_time_slot(key, data)\n",
    "\n",
    "    return d\n",
    "\n",
    "\n",
    "# (messaggi clickati fascia oraria 0-1 / numero totali di mail clickate in generale)\n",
    "def click_rate_mex_time_slot(hash_contact, data):\n",
    "    mex_plus_contact_distinct = []\n",
    "    dates = []\n",
    "    list_index = get_all_indexes_contact(hash_contact, data)\n",
    "    for i in list_index:\n",
    "        if \"nan\" not in str(data[\"EVENT.DATE\"][i]) and str(data[\"EVENT.TYPE\"][i]) == 'Click' and (data[\"HashMessaggio\"][i] + data['HashContatto'][i]) not in mex_plus_contact_distinct:\n",
    "            mex_plus_contact_distinct.append(data[\"HashMessaggio\"][i] + data['HashContatto'][i])\n",
    "            dates.append(pd.to_datetime(data[\"EVENT.DATE\"][i], format='%Y/%m/%d %H:%M'))\n",
    "\n",
    "    tot_mex_opened = len(mex_plus_contact_distinct)\n",
    "    if len(dates) == 0: # it means that the user has never clicked messages\n",
    "        return np.zeros((24,))\n",
    "    df = pd.DataFrame(dates, columns =['dates'])\n",
    "\n",
    "    df = df.assign(session=pd.cut(df[\"dates\"].dt.hour,\n",
    "                                [0,1,2,3,4,5,6,7,8,9,10,11,12,13,14,15,16,17,18,19,20,21,22,23,24],\n",
    "                                labels=['0-1','1-2','2-3','3-4','4-5','5-6','6-7', '7-8', '8-9', '9-10', '10-11', '11-12', '12-13', '13-14', '14-15', '15-16', '16-17', '17-18', '18-19', '19-20', '20-21', '21-22', '22-23', '23-24'],\n",
    "                                include_lowest=True))\n",
    "    \n",
    "\n",
    "    numpy_output = df['session'].value_counts().sort_index().to_numpy() / tot_mex_opened\n",
    "    return numpy_output\n",
    "\n",
    "def dp_click_rate_mex_time_slot(data):\n",
    "    d = {}\n",
    "    for i in data[\"HashContatto\"].unique():\n",
    "        if i not in d:\n",
    "            d[i] = None\n",
    "    for key in d:\n",
    "        d[key] = click_rate_mex_time_slot(key, data)\n",
    "\n",
    "    return d\n",
    "\n",
    "# numero di messaggi aperti tra le 0-1 di quella Comm / Quanti messaggi distinti sono stati aperti/clickati in quella comunicazione\n",
    "# return a dict where in `d[key]['time_slot_distribution']` there is the 24 vector time slot distribution\n",
    "def rate_comm_time_slot(data, open_or_click):\n",
    "    if open_or_click != 'Open' and open_or_click != 'Click':\n",
    "        raise Exception('open_or_click value must be either \\'Open\\' or \\'Click\\'') \n",
    "    d = {}\n",
    "    for i in data[\"COMUNICATION.COMUNICATION_NAME\"].unique():\n",
    "        if i not in d:\n",
    "            d[i] = {'tot_open': 0, 'dates': [], 'time_slot_distribution': None}\n",
    "\n",
    "    for comm in data['COMUNICATION.COMUNICATION_NAME'].unique():\n",
    "        mex_plus_contact_distinct = []\n",
    "        list_index = get_indexes_of_comm(comm, data)\n",
    "        for i in list_index:\n",
    "            if str(data[\"EVENT.TYPE\"][i]) == open_or_click and (data[\"HashMessaggio\"][i] + data['HashContatto'][i]) not in mex_plus_contact_distinct:\n",
    "                mex_plus_contact_distinct.append(data[\"HashMessaggio\"][i] + data['HashContatto'][i])\n",
    "                d[data['COMUNICATION.COMUNICATION_NAME'][i]]['tot_open'] += 1\n",
    "                d[data['COMUNICATION.COMUNICATION_NAME'][i]]['dates'].append(pd.to_datetime(data[\"EVENT.DATE\"][i], format='%Y/%m/%d %H:%M'))\n",
    "    for key, value in d.items():\n",
    "        if len(d[key]['dates']) == 0: # it means that the communication has never been opened\n",
    "            return np.zeros((24,))\n",
    "        df = pd.DataFrame(d[key]['dates'], columns =['dates'])\n",
    "\n",
    "        df = df.assign(session=pd.cut(df[\"dates\"].dt.hour,\n",
    "                                    [0,1,2,3,4,5,6,7,8,9,10,11,12,13,14,15,16,17,18,19,20,21,22,23,24],\n",
    "                                    labels=['0-1','1-2','2-3','3-4','4-5','5-6','6-7', '7-8', '8-9', '9-10', '10-11', '11-12', '12-13', '13-14', '14-15', '15-16', '16-17', '17-18', '18-19', '19-20', '20-21', '21-22', '22-23', '23-24'],\n",
    "                                    include_lowest=True))\n",
    "\n",
    "        d[key]['time_slot_distribution'] = df['session'].value_counts().sort_index().to_numpy() / d[key]['tot_open']\n",
    "\n",
    "    return d\n",
    "\n",
    "def compute_fitSA_evaluation(hash_mex, hash_contact, sent_open_hour_range, data, sent_pred):\n",
    "    opens, clicks = [], []\n",
    "    sent_pred = from_min_to_hour_and_min(sent_pred)\n",
    "    list_index = get_all_indexes(hash_mex, hash_contact, data)\n",
    "    for i in list_index:\n",
    "        if data['EVENT.TYPE'][i] == 'Open':\n",
    "            opens.append(pd.to_datetime(data[\"EVENT.DATE\"][i], format='%Y/%m/%d %H:%M'))\n",
    "        elif data['EVENT.TYPE'][i] == 'Click':\n",
    "            clicks.append(pd.to_datetime(data[\"EVENT.DATE\"][i], format='%Y/%m/%d %H:%M'))\n",
    "    oldest = None\n",
    "    if opens != []:\n",
    "        for i in opens:\n",
    "            if oldest is None:\n",
    "                oldest = i\n",
    "            elif i < oldest:\n",
    "                oldest = i\n",
    "    elif clicks != []:\n",
    "        for i in clicks:\n",
    "            if oldest is None:\n",
    "                oldest = i\n",
    "            elif i < oldest:\n",
    "                oldest = i\n",
    "    else: # this means that the mail has never been opened/clicked\n",
    "        return .0\n",
    "    oldest = str(oldest.hour) +\":\"+ str(oldest.minute)\n",
    "    oldest = pd.to_datetime(oldest, format='%H:%M')\n",
    "    sent_pred = pd.to_datetime(sent_pred, format='%H:%M')\n",
    "    # compute minutes of the distance between sent-open/sent-click\n",
    "    mins = ((oldest - sent_pred).days*24*60) + ((oldest - sent_pred).seconds//3600)*60 + ((oldest - sent_pred).seconds//60)%60\n",
    "    return exp_decay_fit(mins, sent_open_hour_range)\n",
    "'''\n",
    "# TODO: the fitAC with a new sent pred is actually the same, so I do not compute it. Maybe compute it\n",
    "# taking into account sent-click difference?\n",
    "def compute_fitAC_evaluation(hash_mex, hash_contact, open_click_hour_range, data, sent_pred):\n",
    "    opens, clicks = [], []\n",
    "    sent_pred = from_min_to_hour_and_min(sent_pred)\n",
    "    list_index = get_all_indexes(hash_mex, hash_contact, data)\n",
    "    for i in list_index:\n",
    "        if data['EVENT.TYPE'][i] == 'Open':\n",
    "            opens.append(pd.to_datetime(data[\"EVENT.DATE\"][i], format='%Y/%m/%d %H:%M'))\n",
    "        elif data['EVENT.TYPE'][i] == 'Click':\n",
    "            clicks.append(pd.to_datetime(data[\"EVENT.DATE\"][i], format='%Y/%m/%d %H:%M'))\n",
    "    \n",
    "    oldest_open = None\n",
    "    oldest_click = None\n",
    "\n",
    "    if opens == [] and clicks != []: # messege clicked but open is not detected: I assign -1 and then a function\n",
    "        return -1                    # computes the avg\n",
    "    \n",
    "    if clicks == []: # covers cases when a message is sent and is never open and never clicked\n",
    "        return .0\n",
    "    elif opens != [] and clicks != []:\n",
    "        for i in opens: # get oldest open\n",
    "            if oldest_open is None:\n",
    "                oldest_open = i\n",
    "            elif i < oldest_open:\n",
    "                oldest_open = i\n",
    "        for i in clicks: # get oldest click\n",
    "            if oldest_click is None:\n",
    "                oldest_click = i\n",
    "            elif i < oldest_click:\n",
    "                oldest_click = i\n",
    "    # compute minutes of the distance between open-click\n",
    "    mins = ((oldest_click - oldest_open).days*24*60) + ((oldest_click - oldest_open).seconds//3600)*60 + ((oldest_click - oldest_open).seconds//60)%60\n",
    "    return exp_decay_fit(mins, open_click_hour_range)\n",
    "'''\n",
    "\n",
    "def evaluate(df, X, data, sent_open_hour_range, preds):  \n",
    "    # from [0, 1] to mins\n",
    "    for i in range(len(preds)):\n",
    "        preds[i] *= 24*60 # this 24*60 is requierd to convert mins from [0, 1] into real mins\n",
    "    \n",
    "    # dict that contains for each contact, its messages\n",
    "    dk = {}\n",
    "    for cont in df['HashContatto'].unique():\n",
    "        if cont not in dk:\n",
    "            dk[cont] = {'HashMessaggio': []}\n",
    "\n",
    "    for i in range(len(df)):\n",
    "        dk[df['HashContatto'][i]]['HashMessaggio'].append(df['HashMessaggio'][i])\n",
    "\n",
    "    curr = 0\n",
    "    # get fitSA using the predicted sent\n",
    "    fitSA_preds = []                                   \n",
    "    for cont in dk:\n",
    "        for mex in dk[cont]['HashMessaggio']:\n",
    "            fitSA_preds.append(compute_fitSA_evaluation(mex, cont, sent_open_hour_range, data, preds[curr]))\n",
    "            curr += 1\n",
    "    total_mex = len(fitSA_preds)\n",
    "    predicted_sent_better_than_usual_sent = 0\n",
    "    predicted_sent_equal_usual_sent = 0\n",
    "    predicted_sent_worst_usual_sent = 0\n",
    "    for i in range(total_mex):\n",
    "        if fitSA_preds[i] > X.iloc[i, 97]: # new postion of fitSA\n",
    "            predicted_sent_better_than_usual_sent += 1\n",
    "        elif fitSA_preds[i] == X.iloc[i, 97]:\n",
    "            predicted_sent_equal_usual_sent += 1\n",
    "        else:\n",
    "            predicted_sent_worst_usual_sent += 1\n",
    "    return predicted_sent_better_than_usual_sent/total_mex, predicted_sent_equal_usual_sent/total_mex, predicted_sent_worst_usual_sent/total_mex\n",
    "\n",
    "def avg_for_new_contact(X):\n",
    "    open_rate_avg = X[[\"OR 0-1\", \"OR 1-2\", \"OR 2-3\", \"OR 3-4\", \"OR 4-5\", \"OR 5-6\", \"OR 6-7\", \"OR 7-8\", \"OR 8-9\", \"OR 9-10\", \"OR 10-11\", \"OR 11-12\",\n",
    "    \"OR 12-13\", \"OR 13-14\", \"OR 14-15\", \"OR 15-16\", \"OR 16-17\", \"OR 17-18\", \"OR 18-19\", \"OR 19-20\", \"OR 20-21\", \"OR 21-22\", \"OR 22-23\", \"OR 23-24\"]].mean()\n",
    "\n",
    "    click_rate_avg = X[[\"CR 0-1\", \"CR 1-2\", \"CR 2-3\", \"CR 3-4\", \"CR 4-5\", \"CR 5-6\", \"CR 6-7\", \"CR 7-8\", \"CR 8-9\", \"CR 9-10\", \"CR 10-11\", \"CR 11-12\",\n",
    "    \"CR 12-13\", \"CR 13-14\", \"CR 14-15\", \"CR 15-16\", \"CR 16-17\", \"CR 17-18\", \"CR 18-19\", \"CR 19-20\", \"CR 20-21\", \"CR 21-22\", \"CR 22-23\", \"CR 23-24\"]].mean()\n",
    "\n",
    "    open_rate_comm = X[[\"OR-C 0-1\", \"OR-C 1-2\", \"OR-C 2-3\", \"OR-C 3-4\", \"OR-C 4-5\", \"OR-C 5-6\", \"OR-C 6-7\", \"OR-C 7-8\", \"OR-C 8-9\", \"OR-C 9-10\", \"OR-C 10-11\", \"OR-C 11-12\", \n",
    "    \"OR-C 12-13\", \"OR-C 13-14\", \"OR-C 14-15\", \"OR-C 15-16\", \"OR-C 16-17\", \"OR-C 17-18\", \"OR-C 18-19\", \"OR-C 19-20\", \"OR-C 20-21\", \"OR-C 21-22\", \"OR-C 22-23\", \"OR-C 23-24\"]].mean()\n",
    "\n",
    "    click_rate_comm = X[[\"CR-C 0-1\", \"CR-C 1-2\", \"CR-C 2-3\", \"CR-C 3-4\", \"CR-C 4-5\", \"CR-C 5-6\", \"CR-C 6-7\", \"CR-C 7-8\", \"CR-C 8-9\", \"CR-C 9-10\", \"CR-C 10-11\", \"CR-C 11-12\", \n",
    "    \"CR-C 12-13\", \"CR-C 13-14\", \"CR-C 14-15\", \"CR-C 15-16\", \"CR-C 16-17\", \"CR-C 17-18\", \"CR-C 18-19\", \"CR-C 19-20\", \"CR-C 20-21\", \"CR-C 21-22\", \"CR-C 22-23\", \"CR-C 23-24\"]].mean()\n",
    "    return open_rate_avg, click_rate_avg, open_rate_comm, click_rate_comm\n",
    "\n",
    "def get_sent_hour(model, hash_contatto, comm, df, X):\n",
    "    features_contatto = X_train.iloc[df_train.index[(df_train['HashContatto'] == hash_contatto) & (df_train['COMUNICATION.COMUNICATION_NAME'] == comm)], :].to_numpy()\n",
    "    if features_contatto.size != 0:\n",
    "        features_contatto = features_contatto[0] # take just the first since the other rows are equal\n",
    "        features_contatto = features_contatto.reshape(-1, 1).T\n",
    "        features_contatto[0, 96] = 1 # fitSA\n",
    "        features_contatto[0, 97] = 1 # fitCA\n",
    "        preds = model.predict(features_contatto)\n",
    "        # from [0, 1] to mins\n",
    "        mins = preds[0] * 24*60 # this 24*60 is required to convert mins from [0, 1] into real mins\n",
    "        return from_min_to_hour_and_min(mins)\n",
    "    elif hash_contatto in df['HashContatto'].unique(): # case where comm for that contact does not exist. In this case I take all the rows for the contact and take the mean.\n",
    "        features_contatto = X_train.iloc[df_train.index[(df_train['HashContatto'] == hash_contatto)], :].to_numpy()\n",
    "        features_contatto = features_contatto.mean(axis=0)\n",
    "        features_contatto = features_contatto.reshape(-1, 1).T\n",
    "        features_contatto[0, 96] = 1 # fitSA\n",
    "        features_contatto[0, 97] = 1 # fitCA\n",
    "        preds = regr.predict(features_contatto)\n",
    "        # from [0, 1] to mins\n",
    "        mins = preds[0] * 24*60 # this 24*60 is required to convert mins from [0, 1] into real mins\n",
    "        return from_min_to_hour_and_min(mins)\n",
    "    else:\n",
    "        open_rate_avg, click_rate_avg, open_rate_comm, click_rate_comm = avg_for_new_contact(X)\n",
    "        new_row = pd.DataFrame(0, index=np.arange(1), columns=X.columns) \n",
    "        new_row.iloc[0, 0:24] = open_rate_avg\n",
    "        new_row.iloc[0, 24:48] = click_rate_avg\n",
    "        new_row.iloc[0, 48:72] = open_rate_comm\n",
    "        new_row.iloc[0, 72:96] = click_rate_comm\n",
    "        # for inference, we put the fits to 1\n",
    "        new_row.iloc[0, 96] = 1 # fitSA\n",
    "        new_row.iloc[0, 97] = 1 # fitCA\n",
    "        preds = model.predict(new_row)\n",
    "        # from [0, 1] to mins\n",
    "        mins = preds[0] * 1022 # this 1022 is the max_y that was needed to convert mins into [0, 1]\n",
    "        return from_min_to_hour_and_min(mins)\n",
    "\n",
    "\n",
    "def get_all_indexes(hash_mex, hash_contact, data):\n",
    "    return data.index[(data['HashMessaggio'] == hash_mex) & (data['HashContatto'] == hash_contact)]\n",
    "\n",
    "def get_all_indexes_contact(hash_contact, data):\n",
    "    return data.index[(data['HashContatto'] == hash_contact)]\n",
    "\n",
    "def get_indexes_of_comm(comm, data):\n",
    "    return data.index[(data['COMUNICATION.COMUNICATION_NAME'] == comm)]"
   ]
  },
  {
   "cell_type": "code",
   "execution_count": 172,
   "id": "a375301a",
   "metadata": {},
   "outputs": [],
   "source": [
    "column_names = [\"COMUNICATION.COMUNICATION_NAME\", \"HashContatto\",  \"HashMessaggio\", \"OR 0-1\", \"OR 1-2\", \"OR 2-3\", \"OR 3-4\", \"OR 4-5\", \"OR 5-6\", \"OR 6-7\", \"OR 7-8\", \"OR 8-9\", \"OR 9-10\", \"OR 10-11\", \"OR 11-12\",\n",
    "\"OR 12-13\", \"OR 13-14\", \"OR 14-15\", \"OR 15-16\", \"OR 16-17\", \"OR 17-18\", \"OR 18-19\", \"OR 19-20\", \"OR 20-21\", \"OR 21-22\", \"OR 22-23\", \"OR 23-24\",\n",
    "\n",
    "\"CR 0-1\", \"CR 1-2\", \"CR 2-3\", \"CR 3-4\", \"CR 4-5\", \"CR 5-6\", \"CR 6-7\", \"CR 7-8\", \"CR 8-9\", \"CR 9-10\", \"CR 10-11\", \"CR 11-12\",\n",
    "\"CR 12-13\", \"CR 13-14\", \"CR 14-15\", \"CR 15-16\", \"CR 16-17\", \"CR 17-18\", \"CR 18-19\", \"CR 19-20\", \"CR 20-21\", \"CR 21-22\", \"CR 22-23\", \"CR 23-24\",\n",
    "\n",
    "\"OR-C 0-1\", \"OR-C 1-2\", \"OR-C 2-3\", \"OR-C 3-4\", \"OR-C 4-5\", \"OR-C 5-6\", \"OR-C 6-7\", \"OR-C 7-8\", \"OR-C 8-9\", \"OR-C 9-10\", \"OR-C 10-11\", \"OR-C 11-12\", \n",
    "\"OR-C 12-13\", \"OR-C 13-14\", \"OR-C 14-15\", \"OR-C 15-16\", \"OR-C 16-17\", \"OR-C 17-18\", \"OR-C 18-19\", \"OR-C 19-20\", \"OR-C 20-21\", \"OR-C 21-22\", \"OR-C 22-23\", \"OR-C 23-24\",\n",
    "\n",
    "\"CR-C 0-1\", \"CR-C 1-2\", \"CR-C 2-3\", \"CR-C 3-4\", \"CR-C 4-5\", \"CR-C 5-6\", \"CR-C 6-7\", \"CR-C 7-8\", \"CR-C 8-9\", \"CR-C 9-10\", \"CR-C 10-11\", \"CR-C 11-12\", \n",
    "\"CR-C 12-13\", \"CR-C 13-14\", \"CR-C 14-15\", \"CR-C 15-16\", \"CR-C 16-17\", \"CR-C 17-18\", \"CR-C 18-19\", \"CR-C 19-20\", \"CR-C 20-21\", \"CR-C 21-22\", \"CR-C 22-23\", \"CR-C 23-24\",\n",
    "\"fitSA\", \"fitAC\", \"Label\"]\n",
    "\n",
    "sent_open_hour_range = 36\n",
    "open_click_hour_range = 24\n",
    "\n",
    "def create_dataset(data, sent_open_hour_range, open_click_hour_range, column_names):\n",
    "    df = pd.DataFrame(0, index=np.arange((len(data['HashContatto'].unique()) + len(data['HashMessaggio'].unique()))), columns=column_names) \n",
    "    open_rate_comm_dict = rate_comm_time_slot(data, 'Open')\n",
    "    click_rate_comm_dict = rate_comm_time_slot(data, 'Click')\n",
    "    # dict that contains for each contact, its messages\n",
    "    dk = {}\n",
    "    for cont in data['HashContatto'].unique():\n",
    "        if cont not in dk:\n",
    "            dk[cont] = {'HashMessaggio': []}\n",
    "\n",
    "    for i in range(len(data)):\n",
    "        dk[data['HashContatto'][i]]['HashMessaggio'].append(data['HashMessaggio'][i])\n",
    "\n",
    "    for key in dk:\n",
    "        vals = list(set(dk[key]['HashMessaggio']))\n",
    "        dk[key]['HashMessaggio'] = vals\n",
    "    # create dataset row by row\n",
    "    current = 0\n",
    "    for cont in dk:\n",
    "        for mex in dk[cont]['HashMessaggio']:\n",
    "            # Comm name\n",
    "            df.iloc[current, 0] = data['COMUNICATION.COMUNICATION_NAME'][current]\n",
    "            # HashContatto\n",
    "            df.iloc[current, 1] = cont\n",
    "            # HashMessaggio\n",
    "            df.iloc[current, 2] = mex\n",
    "            fitSA, y = compute_fitSA(mex, cont, sent_open_hour_range, data)\n",
    "            # Label \"Sent\"\n",
    "            df.iloc[current, 101] = y\n",
    "            # fitSA\n",
    "            df.iloc[current, 99] = fitSA\n",
    "            # fitAC\n",
    "            fitAC = compute_fitAC(mex, cont, open_click_hour_range, data)\n",
    "            df.iloc[current, 100] = fitAC\n",
    "            # open rate communication\n",
    "            df.iloc[current, 51:75] = open_rate_comm_dict[df.iloc[current, 0]]['time_slot_distribution'] # df.iloc[current, 0] represents the comm name\n",
    "            # click rate communication\n",
    "            df.iloc[current, 75:99] = click_rate_comm_dict[df.iloc[current, 0]]['time_slot_distribution']\n",
    "            current += 1\n",
    "            if current % 10000 == 0:\n",
    "                print(current)\n",
    "    \n",
    "    df = df.iloc[:current, :] # delete le row di troppo\n",
    "    # convert in minutes and then into [0, 1]. To do so, I convert the hour 0 to 0 and the hour 24 to 1, and this is done by dividing the numbers by 24*60\n",
    "    max_y = 24*60\n",
    "    for i in range(len(df)):\n",
    "        df.iloc[i, 101] /= max_y\n",
    "    # open 24\n",
    "    d = dp_open_rate_mex_time_slot(data) # dict that contains the open rate time slot for each contact\n",
    "    for i in range(len(df)):\n",
    "         df.iloc[i, 3:27] = d[df.iloc[i, 1]] # df.iloc[i, 1] is HashContatto\n",
    "    # click 24\n",
    "    d2 = dp_click_rate_mex_time_slot(data) # dict that contains the click rate time slot for each contact\n",
    "    for i in range(len(df)):\n",
    "         df.iloc[i, 27:51] = d2[df.iloc[i, 1]] # df.iloc[i, 1] is HashContatto\n",
    "    # clicked but not opened have fitAC as -1, so we assign the average of the fitAC of mex cicked and opened\n",
    "    avgAC = avg_fitAC(df)\n",
    "    # messege clicked but open is not detected\n",
    "    for i in range(len(df)):\n",
    "        if df['fitAC'][i] == -1:\n",
    "            df['fitAC'][i] = avgAC\n",
    "    y = df['Label']\n",
    "    X = df.drop(['HashMessaggio', 'HashContatto', 'Label', 'COMUNICATION.COMUNICATION_NAME'], axis=1)\n",
    "    return df, X, y"
   ]
  },
  {
   "cell_type": "code",
   "execution_count": 173,
   "id": "15643e85",
   "metadata": {},
   "outputs": [
    {
     "name": "stdout",
     "output_type": "stream",
     "text": [
      "10000\n",
      "20000\n",
      "30000\n",
      "40000\n",
      "50000\n",
      "60000\n"
     ]
    },
    {
     "name": "stderr",
     "output_type": "stream",
     "text": [
      "/home/ec2-user/anaconda3/envs/python3/lib/python3.6/site-packages/ipykernel/__main__.py:77: SettingWithCopyWarning: \n",
      "A value is trying to be set on a copy of a slice from a DataFrame\n",
      "\n",
      "See the caveats in the documentation: https://pandas.pydata.org/pandas-docs/stable/user_guide/indexing.html#returning-a-view-versus-a-copy\n"
     ]
    }
   ],
   "source": [
    "df, X, y = create_dataset(data, sent_open_hour_range, open_click_hour_range, column_names)"
   ]
  },
  {
   "cell_type": "markdown",
   "id": "d05a0a9c",
   "metadata": {},
   "source": [
    "## Save things"
   ]
  },
  {
   "cell_type": "code",
   "execution_count": 174,
   "id": "2a2f0f77",
   "metadata": {},
   "outputs": [],
   "source": [
    "df.to_csv(\"s3://ai-diennea/data/df.csv\")"
   ]
  },
  {
   "cell_type": "code",
   "execution_count": 175,
   "id": "c44e36c9",
   "metadata": {},
   "outputs": [],
   "source": [
    "X.to_csv(\"s3://ai-diennea/data/X.csv\")"
   ]
  },
  {
   "cell_type": "code",
   "execution_count": 176,
   "id": "ab3bdb73",
   "metadata": {},
   "outputs": [],
   "source": [
    "y.to_csv(\"s3://ai-diennea/data/y.csv\")"
   ]
  },
  {
   "cell_type": "markdown",
   "id": "91fa010e",
   "metadata": {},
   "source": [
    "## Load things"
   ]
  },
  {
   "cell_type": "code",
   "execution_count": 177,
   "id": "e4825212",
   "metadata": {},
   "outputs": [],
   "source": [
    "df = pd.read_csv(\"s3://ai-diennea/data/df.csv\")\n",
    "df = df.drop(['Unnamed: 0'], axis=1)"
   ]
  },
  {
   "cell_type": "code",
   "execution_count": 178,
   "id": "85cd6737",
   "metadata": {},
   "outputs": [],
   "source": [
    "X = pd.read_csv(\"s3://ai-diennea/data/X.csv\")\n",
    "X = X.drop(['Unnamed: 0'], axis=1)"
   ]
  },
  {
   "cell_type": "code",
   "execution_count": 179,
   "id": "7b21066a",
   "metadata": {},
   "outputs": [],
   "source": [
    "y = pd.read_csv(\"s3://ai-diennea/data/y.csv\")\n",
    "y = y.drop(['Unnamed: 0'], axis=1)"
   ]
  },
  {
   "cell_type": "markdown",
   "id": "ec99c2e6",
   "metadata": {},
   "source": [
    "## Test on training set"
   ]
  },
  {
   "cell_type": "code",
   "execution_count": 180,
   "id": "b0cfcb77",
   "metadata": {},
   "outputs": [
    {
     "data": {
      "text/plain": [
       "(0.23465862835265902, 0.7455389557526019, 0.019802415894739158)"
      ]
     },
     "execution_count": 180,
     "metadata": {},
     "output_type": "execute_result"
    }
   ],
   "source": [
    "preds = regr.predict(X_train)\n",
    "evaluate(df_train, X_train, data, sent_open_hour_range, preds)"
   ]
  },
  {
   "cell_type": "markdown",
   "id": "edb00ff2",
   "metadata": {},
   "source": [
    "## Test on test set"
   ]
  },
  {
   "cell_type": "code",
   "execution_count": null,
   "id": "73ffbc26",
   "metadata": {},
   "outputs": [],
   "source": [
    "preds = regr.predict(X_test)\n",
    "evaluate(df_test, X_test, data, sent_open_hour_range, preds)"
   ]
  },
  {
   "cell_type": "markdown",
   "id": "8a90263d",
   "metadata": {},
   "source": [
    "## Fit model"
   ]
  },
  {
   "cell_type": "code",
   "execution_count": 57,
   "id": "0e2ffe63",
   "metadata": {},
   "outputs": [],
   "source": [
    "df_train, df_test = train_test_split(df, test_size=0.30, random_state=42)\n",
    "df_train.reset_index(drop=True, inplace=True)\n",
    "df_test.reset_index(drop=True, inplace=True)"
   ]
  },
  {
   "cell_type": "code",
   "execution_count": 58,
   "id": "3622a095",
   "metadata": {},
   "outputs": [],
   "source": [
    "X_train, X_test, y_train, y_test = train_test_split(X, y, test_size=0.30, random_state=42)\n",
    "X_train.reset_index(drop=True, inplace=True)\n",
    "X_test.reset_index(drop=True, inplace=True)"
   ]
  },
  {
   "cell_type": "code",
   "execution_count": 59,
   "id": "3e243d73",
   "metadata": {},
   "outputs": [
    {
     "name": "stderr",
     "output_type": "stream",
     "text": [
      "/home/ec2-user/anaconda3/envs/python3/lib/python3.6/site-packages/ipykernel/__main__.py:2: DataConversionWarning: A column-vector y was passed when a 1d array was expected. Please change the shape of y to (n_samples,), for example using ravel().\n",
      "  from ipykernel import kernelapp as app\n"
     ]
    },
    {
     "data": {
      "text/plain": [
       "RandomForestRegressor(max_depth=2)"
      ]
     },
     "execution_count": 59,
     "metadata": {},
     "output_type": "execute_result"
    }
   ],
   "source": [
    "regr = RandomForestRegressor(max_depth=2)\n",
    "regr.fit(X_train, y_train)"
   ]
  },
  {
   "cell_type": "markdown",
   "id": "7cf9f022",
   "metadata": {},
   "source": [
    "## Predict hour for a given contact"
   ]
  },
  {
   "cell_type": "code",
   "execution_count": 254,
   "id": "1a882004",
   "metadata": {},
   "outputs": [
    {
     "data": {
      "text/plain": [
       "'14:56'"
      ]
     },
     "execution_count": 254,
     "metadata": {},
     "output_type": "execute_result"
    }
   ],
   "source": [
    "hash_contatto = df_train['HashContatto'].unique()[0]\n",
    "comm = df_train['COMUNICATION.COMUNICATION_NAME'].unique()[2]\n",
    "get_sent_hour(regr, hash_contatto, comm, df_train, X_train)"
   ]
  },
  {
   "cell_type": "code",
   "execution_count": null,
   "id": "2a9f7e14",
   "metadata": {},
   "outputs": [],
   "source": [
    "ll = []\n",
    "for i in df_train['HashContatto'].unique():\n",
    "    for j in df_train['COMUNICATION.COMUNICATION_NAME'].unique():\n",
    "        ll.append(get_sent_hour(regr, i, j, df_train, X_train))"
   ]
  },
  {
   "cell_type": "code",
   "execution_count": null,
   "id": "fbf7a014",
   "metadata": {},
   "outputs": [],
   "source": [
    "pd.Series(l).value_counts().plot(kind='bar')"
   ]
  },
  {
   "cell_type": "code",
   "execution_count": null,
   "id": "1a0461b1",
   "metadata": {},
   "outputs": [],
   "source": []
  },
  {
   "cell_type": "code",
   "execution_count": null,
   "id": "9acaa4bc",
   "metadata": {},
   "outputs": [],
   "source": [
    "# FI"
   ]
  }
 ],
 "metadata": {
  "kernelspec": {
   "display_name": "conda_python3",
   "language": "python",
   "name": "conda_python3"
  },
  "language_info": {
   "codemirror_mode": {
    "name": "ipython",
    "version": 3
   },
   "file_extension": ".py",
   "mimetype": "text/x-python",
   "name": "python",
   "nbconvert_exporter": "python",
   "pygments_lexer": "ipython3",
   "version": "3.6.13"
  }
 },
 "nbformat": 4,
 "nbformat_minor": 5
}
