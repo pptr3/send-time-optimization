{
 "cells": [
  {
   "cell_type": "code",
   "execution_count": 1,
   "id": "d271469a",
   "metadata": {},
   "outputs": [],
   "source": [
    "import pandas as pd\n",
    "import numpy as np\n",
    "import matplotlib.pyplot as plt\n",
    "import statistics\n",
    "import math\n",
    "from sklearn.model_selection import train_test_split\n",
    "from sklearn.ensemble import RandomForestRegressor"
   ]
  },
  {
   "cell_type": "code",
   "execution_count": 44,
   "id": "3bda0683",
   "metadata": {},
   "outputs": [
    {
     "name": "stderr",
     "output_type": "stream",
     "text": [
      "/home/ec2-user/anaconda3/envs/python3/lib/python3.6/site-packages/IPython/core/interactiveshell.py:3072: DtypeWarning: Columns (8) have mixed types.Specify dtype option on import or set low_memory=False.\n",
      "  interactivity=interactivity, compiler=compiler, result=result)\n"
     ]
    }
   ],
   "source": [
    "data = pd.read_csv(\"s3://ai-diennea/data/export_wonkit_20210630102441.csv.gz\")\n",
    "# add the day of the week column\n",
    "day_of_week = []\n",
    "for i in range(len(data)):\n",
    "    day_of_week.append(pd.to_datetime(data[\"EVENT.DATE\"][i], format='%Y/%m/%d %H:%M').day_name())\n",
    "data['day_of_week'] = pd.DataFrame(day_of_week)"
   ]
  },
  {
   "cell_type": "code",
   "execution_count": 49,
   "id": "7f2ad432",
   "metadata": {},
   "outputs": [],
   "source": [
    "def sent_date_to_min(sents):\n",
    "    return sents.hour*60 + sents.minute\n",
    "\n",
    "def from_min_to_hour_and_min(mins):\n",
    "    hours = round(mins) // 60\n",
    "    minutes = round(mins) % 60\n",
    "    return \"{}:{}\".format(hours, minutes)\n",
    "\n",
    "\n",
    "def exp_decay_fit(x, sent_open_hour_range):\n",
    "    if x > sent_open_hour_range*60:\n",
    "        return .0\n",
    "    if x < 0:\n",
    "        return 1\n",
    "    return math.exp(((-math.log(2)/(sent_open_hour_range*60))*x) + math.log(2))-1\n",
    "\n",
    "\n",
    "def compute_fitSA(hash_mex, hash_contact, sent_open_hour_range, data):\n",
    "    sents, opens, clicks = [], [], []\n",
    "    list_index = get_all_indexes(hash_mex, hash_contact, data)\n",
    "    for i in list_index:\n",
    "        if data['EVENT.TYPE'][i] == 'Sent':\n",
    "            sents.append(pd.to_datetime(data[\"EVENT.DATE\"][i], format='%Y/%m/%d %H:%M'))\n",
    "        elif data['EVENT.TYPE'][i] == 'Open':\n",
    "            opens.append(pd.to_datetime(data[\"EVENT.DATE\"][i], format='%Y/%m/%d %H:%M'))\n",
    "        elif data['EVENT.TYPE'][i] == 'Click':\n",
    "            clicks.append(pd.to_datetime(data[\"EVENT.DATE\"][i], format='%Y/%m/%d %H:%M'))\n",
    "    \n",
    "    y = sent_date_to_min(sents[0]) # since this function gives me for free the y, I return it here\n",
    "    # if there are multiple opens/clicks, take the oldest one (the first that has been opened/clicked)\n",
    "    oldest = None\n",
    "    if opens != []:\n",
    "        for i in opens:\n",
    "            if oldest is None:\n",
    "                oldest = i\n",
    "            elif i < oldest:\n",
    "                oldest = i\n",
    "    elif clicks != []:\n",
    "        for i in clicks:\n",
    "            if oldest is None:\n",
    "                oldest = i\n",
    "            elif i < oldest:\n",
    "                oldest = i\n",
    "    else: # this means that the mail has never been opened/clicked\n",
    "        return .0, y\n",
    "\n",
    "    # compute minutes of the distance between sent-open/sent-click\n",
    "    mins = ((oldest - sents[0]).days*24*60) + ((oldest - sents[0]).seconds//3600)*60 + ((oldest - sents[0]).seconds//60)%60\n",
    "\n",
    "    return exp_decay_fit(mins, sent_open_hour_range), y\n",
    "\n",
    "def compute_fitAC(hash_mex, hash_contact, open_click_hour_range, data):\n",
    "    opens, clicks = [], []\n",
    "\n",
    "    list_index = get_all_indexes(hash_mex, hash_contact, data)\n",
    "    for i in list_index:\n",
    "        if data['EVENT.TYPE'][i] == 'Open':\n",
    "            opens.append(pd.to_datetime(data[\"EVENT.DATE\"][i], format='%Y/%m/%d %H:%M'))\n",
    "        elif data['EVENT.TYPE'][i] == 'Click':\n",
    "            clicks.append(pd.to_datetime(data[\"EVENT.DATE\"][i], format='%Y/%m/%d %H:%M'))\n",
    "    \n",
    "    oldest_open = None\n",
    "    oldest_click = None\n",
    "\n",
    "    if opens == [] and clicks != []: # messege clicked but open is not detected: I assign -1 and then a function\n",
    "        return -1                    # computes the avg\n",
    "    \n",
    "    if clicks == []: # covers cases when a message is sent and is never open and never clicked\n",
    "        return .0\n",
    "    elif opens != [] and clicks != []:\n",
    "        for i in opens: # get oldest open\n",
    "            if oldest_open is None:\n",
    "                oldest_open = i\n",
    "            elif i < oldest_open:\n",
    "                oldest_open = i\n",
    "        for i in clicks: # get oldest click\n",
    "            if oldest_click is None:\n",
    "                oldest_click = i\n",
    "            elif i < oldest_click:\n",
    "                oldest_click = i\n",
    "    # compute minutes of the distance between sent-open/sent-click\n",
    "    mins = ((oldest_click - oldest_open).days*24*60) + ((oldest_click - oldest_open).seconds//3600)*60 + ((oldest_click - oldest_open).seconds//60)%60\n",
    "    return exp_decay_fit(mins, open_click_hour_range)\n",
    "\n",
    "def avg_fitAC(df):\n",
    "    fitAC_column = df['fitAC'].to_list()\n",
    "    l = []\n",
    "    for i in fitAC_column:\n",
    "        if i != -1:\n",
    "            l.append(i)\n",
    "    return statistics.mean(l)\n",
    "\n",
    "\n",
    "# (messaggi aperti fascia oraria 0-1 / numero totali di mail aperte in generale dal contatto)\n",
    "def open_rate_mex_time_slot(hash_contact, data): # TODO: add parameter for [0, 24]\n",
    "    mex_plus_contact_distinct = []\n",
    "    dates = []\n",
    "    list_index = get_all_indexes_contact(hash_contact, data)\n",
    "    for i in list_index:\n",
    "        if \"nan\" not in str(data[\"EVENT.DATE\"][i]) and str(data[\"EVENT.TYPE\"][i]) == 'Open' and (data[\"HashMessaggio\"][i] + data['HashContatto'][i]) not in mex_plus_contact_distinct:\n",
    "            mex_plus_contact_distinct.append(data[\"HashMessaggio\"][i] + data['HashContatto'][i])\n",
    "            dates.append(pd.to_datetime(data[\"EVENT.DATE\"][i], format='%Y/%m/%d %H:%M'))\n",
    "    # add messages clicked but not opened\n",
    "    for i in list_index:\n",
    "        if \"nan\" not in str(data[\"EVENT.DATE\"][i]) and str(data[\"EVENT.TYPE\"][i]) == 'Click' and (data[\"HashMessaggio\"][i] + data['HashContatto'][i]) not in mex_plus_contact_distinct:\n",
    "            mex_plus_contact_distinct.append(data[\"HashMessaggio\"][i] + data['HashContatto'][i])\n",
    "            dates.append(pd.to_datetime(data[\"EVENT.DATE\"][i], format='%Y/%m/%d %H:%M'))\n",
    "\n",
    "    tot_mex_opened = len(mex_plus_contact_distinct)\n",
    "    if len(dates) == 0: # it means that the user has never opened messages\n",
    "        return np.zeros((24,))\n",
    "    df = pd.DataFrame(dates, columns =['dates'])\n",
    "\n",
    "    df = df.assign(session=pd.cut(df[\"dates\"].dt.hour,\n",
    "                                [0,1,2,3,4,5,6,7,8,9,10,11,12,13,14,15,16,17,18,19,20,21,22,23,24],\n",
    "                                labels=['0-1','1-2','2-3','3-4','4-5','5-6','6-7', '7-8', '8-9', '9-10', '10-11', '11-12', '12-13', '13-14', '14-15', '15-16', '16-17', '17-18', '18-19', '19-20', '20-21', '21-22', '22-23', '23-24'],\n",
    "                                include_lowest=True))\n",
    "    numpy_output = df['session'].value_counts().sort_index().to_numpy() / tot_mex_opened\n",
    "\n",
    "    return numpy_output\n",
    "\n",
    "\n",
    "def dp_open_rate_mex_time_slot(data):\n",
    "    d = {}\n",
    "    for i in data[\"HashContatto\"].unique():\n",
    "        if i not in d:\n",
    "            d[i] = None\n",
    "    for key in d:\n",
    "        d[key] = open_rate_mex_time_slot(key, data)\n",
    "\n",
    "    return d\n",
    "\n",
    "\n",
    "# (messaggi clickati fascia oraria 0-1 / numero totali di mail clickate in generale)\n",
    "def click_rate_mex_time_slot(hash_contact, data): # TODO: add parameter for [0, 24]\n",
    "    mex_plus_contact_distinct = []\n",
    "    dates = []\n",
    "    list_index = get_all_indexes_contact(hash_contact, data)\n",
    "    for i in list_index:\n",
    "        if \"nan\" not in str(data[\"EVENT.DATE\"][i]) and str(data[\"EVENT.TYPE\"][i]) == 'Click' and (data[\"HashMessaggio\"][i] + data['HashContatto'][i]) not in mex_plus_contact_distinct:\n",
    "            mex_plus_contact_distinct.append(data[\"HashMessaggio\"][i] + data['HashContatto'][i])\n",
    "            dates.append(pd.to_datetime(data[\"EVENT.DATE\"][i], format='%Y/%m/%d %H:%M'))\n",
    "\n",
    "    tot_mex_opened = len(mex_plus_contact_distinct)\n",
    "    if len(dates) == 0: # it means that the user has never clicked messages\n",
    "        return np.zeros((24,))\n",
    "    df = pd.DataFrame(dates, columns =['dates'])\n",
    "\n",
    "    df = df.assign(session=pd.cut(df[\"dates\"].dt.hour,\n",
    "                                [0,1,2,3,4,5,6,7,8,9,10,11,12,13,14,15,16,17,18,19,20,21,22,23,24],\n",
    "                                labels=['0-1','1-2','2-3','3-4','4-5','5-6','6-7', '7-8', '8-9', '9-10', '10-11', '11-12', '12-13', '13-14', '14-15', '15-16', '16-17', '17-18', '18-19', '19-20', '20-21', '21-22', '22-23', '23-24'],\n",
    "                                include_lowest=True))\n",
    "    \n",
    "\n",
    "    numpy_output = df['session'].value_counts().sort_index().to_numpy() / tot_mex_opened\n",
    "    return numpy_output\n",
    "\n",
    "def dp_click_rate_mex_time_slot(data):\n",
    "    d = {}\n",
    "    for i in data[\"HashContatto\"].unique():\n",
    "        if i not in d:\n",
    "            d[i] = None\n",
    "    for key in d:\n",
    "        d[key] = click_rate_mex_time_slot(key, data)\n",
    "\n",
    "    return d\n",
    "\n",
    "# numero di messaggi aperti tra le 0-1 di quella Comm / Quanti messaggi distinti sono stati aperti/clickati in quella comunicazione\n",
    "# return a dict where in `d[key]['time_slot_distribution']` there is the 24 vector time slot distribution\n",
    "def rate_comm_time_slot(data, open_or_click):\n",
    "    if open_or_click != 'Open' and open_or_click != 'Click':\n",
    "        raise Exception('open_or_click value must be either \\'Open\\' or \\'Click\\'') \n",
    "    d = {}\n",
    "    for i in data[\"COMUNICATION.COMUNICATION_NAME\"].unique():\n",
    "        if i not in d:\n",
    "            d[i] = {'tot_open': 0, 'dates': [], 'time_slot_distribution': None}\n",
    "\n",
    "    for comm in data['COMUNICATION.COMUNICATION_NAME'].unique():\n",
    "        mex_plus_contact_distinct = []\n",
    "        list_index = get_indexes_of_comm(comm, data)\n",
    "        for i in list_index:\n",
    "            if str(data[\"EVENT.TYPE\"][i]) == open_or_click and (data[\"HashMessaggio\"][i] + data['HashContatto'][i]) not in mex_plus_contact_distinct:\n",
    "                mex_plus_contact_distinct.append(data[\"HashMessaggio\"][i] + data['HashContatto'][i])\n",
    "                d[data['COMUNICATION.COMUNICATION_NAME'][i]]['tot_open'] += 1\n",
    "                d[data['COMUNICATION.COMUNICATION_NAME'][i]]['dates'].append(pd.to_datetime(data[\"EVENT.DATE\"][i], format='%Y/%m/%d %H:%M'))\n",
    "    for key, value in d.items():\n",
    "        if len(d[key]['dates']) == 0: # it means that the communcation has never been opened\n",
    "            return np.zeros((24,))\n",
    "        df = pd.DataFrame(d[key]['dates'], columns =['dates'])\n",
    "\n",
    "        df = df.assign(session=pd.cut(df[\"dates\"].dt.hour,\n",
    "                                    [0,1,2,3,4,5,6,7,8,9,10,11,12,13,14,15,16,17,18,19,20,21,22,23,24],\n",
    "                                    labels=['0-1','1-2','2-3','3-4','4-5','5-6','6-7', '7-8', '8-9', '9-10', '10-11', '11-12', '12-13', '13-14', '14-15', '15-16', '16-17', '17-18', '18-19', '19-20', '20-21', '21-22', '22-23', '23-24'],\n",
    "                                    include_lowest=True))\n",
    "\n",
    "        d[key]['time_slot_distribution'] = df['session'].value_counts().sort_index().to_numpy() / d[key]['tot_open']\n",
    "\n",
    "    return d\n",
    "\n",
    "def compute_fitSA_evaluation(hash_mex, hash_contact, sent_open_hour_range, data, sent_pred):\n",
    "    opens, clicks = [], []\n",
    "    sent_pred = from_min_to_hour_and_min(sent_pred)\n",
    "    list_index = get_all_indexes(hash_mex, hash_contact, data)\n",
    "    for i in list_index:\n",
    "        if data['EVENT.TYPE'][i] == 'Open':\n",
    "            opens.append(pd.to_datetime(data[\"EVENT.DATE\"][i], format='%Y/%m/%d %H:%M'))\n",
    "        elif data['EVENT.TYPE'][i] == 'Click':\n",
    "            clicks.append(pd.to_datetime(data[\"EVENT.DATE\"][i], format='%Y/%m/%d %H:%M'))\n",
    "    oldest = None\n",
    "    if opens != []:\n",
    "        for i in opens:\n",
    "            if oldest is None:\n",
    "                oldest = i\n",
    "            elif i < oldest:\n",
    "                oldest = i\n",
    "    elif clicks != []:\n",
    "        for i in clicks:\n",
    "            if oldest is None:\n",
    "                oldest = i\n",
    "            elif i < oldest:\n",
    "                oldest = i\n",
    "    else: # this means that the mail has never been opened/clicked\n",
    "        return .0\n",
    "    oldest = str(oldest.hour) +\":\"+ str(oldest.minute)\n",
    "    oldest = pd.to_datetime(oldest, format='%H:%M')\n",
    "    sent_pred = pd.to_datetime(sent_pred, format='%H:%M')\n",
    "    # compute minutes of the distance between sent-open/sent-click\n",
    "    mins = ((oldest - sent_pred).days*24*60) + ((oldest - sent_pred).seconds//3600)*60 + ((oldest - sent_pred).seconds//60)%60\n",
    "    return exp_decay_fit(mins, sent_open_hour_range)\n",
    "\n",
    "# TODO: \"la FOP si trova tra Open e Click reali\", this evaluate is based only on fitSA, need to compute also fitAC?\n",
    "def evaluate(df, X, data, sent_open_hour_range, preds):  \n",
    "    # from [0, 1] to mins, TODO: note that this going back produces \"a lot\" of discretization\n",
    "    for i in range(len(preds)):\n",
    "        preds[i] *= 1022 # this 1022 is the max_y that was needed to convert mins into [0, 1]\n",
    "    \n",
    "    # dict that contains for each contact, its messages\n",
    "    dk = {}\n",
    "    for cont in df['HashContatto'].unique():\n",
    "        if cont not in dk:\n",
    "            dk[cont] = {'HashMessaggio': []}\n",
    "\n",
    "    for i in range(len(df)):\n",
    "        dk[df['HashContatto'][i]]['HashMessaggio'].append(df['HashMessaggio'][i])\n",
    "\n",
    "    curr = 0                                           \n",
    "    fitSA_preds = []                                   \n",
    "    for cont in dk:\n",
    "        for mex in dk[cont]['HashMessaggio']:\n",
    "            fitSA_preds.append(compute_fitSA_evaluation(mex, cont, sent_open_hour_range, data, preds[curr]))\n",
    "            curr += 1\n",
    "    total_mex = len(fitSA_preds)\n",
    "    predicted_sent_better_than_usual_sent = 0\n",
    "\n",
    "    for i in range(total_mex):\n",
    "        if fitSA_preds[i] > X.iloc[i, 97]: # new postion of fitSA # TODO: what to do in case is equal?\n",
    "            predicted_sent_better_than_usual_sent += 1\n",
    "\n",
    "    return predicted_sent_better_than_usual_sent/total_mex\n",
    "\n",
    "def avg_for_new_contact(X):\n",
    "    open_rate_avg = X[[\"OR 0-1\", \"OR 1-2\", \"OR 2-3\", \"OR 3-4\", \"OR 4-5\", \"OR 5-6\", \"OR 6-7\", \"OR 7-8\", \"OR 8-9\", \"OR 9-10\", \"OR 10-11\", \"OR 11-12\",\n",
    "    \"OR 12-13\", \"OR 13-14\", \"OR 14-15\", \"OR 15-16\", \"OR 16-17\", \"OR 17-18\", \"OR 18-19\", \"OR 19-20\", \"OR 20-21\", \"OR 21-22\", \"OR 22-23\", \"OR 23-24\"]].mean()\n",
    "\n",
    "    click_rate_avg = X[[\"CR 0-1\", \"CR 1-2\", \"CR 2-3\", \"CR 3-4\", \"CR 4-5\", \"CR 5-6\", \"CR 6-7\", \"CR 7-8\", \"CR 8-9\", \"CR 9-10\", \"CR 10-11\", \"CR 11-12\",\n",
    "    \"CR 12-13\", \"CR 13-14\", \"CR 14-15\", \"CR 15-16\", \"CR 16-17\", \"CR 17-18\", \"CR 18-19\", \"CR 19-20\", \"CR 20-21\", \"CR 21-22\", \"CR 22-23\", \"CR 23-24\"]].mean()\n",
    "\n",
    "    open_rate_comm = X[[\"OR-C 0-1\", \"OR-C 1-2\", \"OR-C 2-3\", \"OR-C 3-4\", \"OR-C 4-5\", \"OR-C 5-6\", \"OR-C 6-7\", \"OR-C 7-8\", \"OR-C 8-9\", \"OR-C 9-10\", \"OR-C 10-11\", \"OR-C 11-12\", \n",
    "    \"OR-C 12-13\", \"OR-C 13-14\", \"OR-C 14-15\", \"OR-C 15-16\", \"OR-C 16-17\", \"OR-C 17-18\", \"OR-C 18-19\", \"OR-C 19-20\", \"OR-C 20-21\", \"OR-C 21-22\", \"OR-C 22-23\", \"OR-C 23-24\"]].mean()\n",
    "\n",
    "    click_rate_comm = X[[\"CR-C 0-1\", \"CR-C 1-2\", \"CR-C 2-3\", \"CR-C 3-4\", \"CR-C 4-5\", \"CR-C 5-6\", \"CR-C 6-7\", \"CR-C 7-8\", \"CR-C 8-9\", \"CR-C 9-10\", \"CR-C 10-11\", \"CR-C 11-12\", \n",
    "    \"CR-C 12-13\", \"CR-C 13-14\", \"CR-C 14-15\", \"CR-C 15-16\", \"CR-C 16-17\", \"CR-C 17-18\", \"CR-C 18-19\", \"CR-C 19-20\", \"CR-C 20-21\", \"CR-C 21-22\", \"CR-C 22-23\", \"CR-C 23-24\"]].mean()\n",
    "    return open_rate_avg, click_rate_avg, open_rate_comm, click_rate_comm\n",
    "\n",
    "def get_sent_hour(model, hash_contatto, df, X):\n",
    "    if hash_contatto in df['HashContatto'].unique():\n",
    "        features_contatto = X.iloc[df.index[(df['HashContatto'] == hash_contatto)][0], :].to_numpy() # TODO: here I take just the first feature. But a contact has different features because each contact has more messages and each message has different comunication. So, in order to choose the best hour for each contact, a possible option would be to take the one with the higest fitSA / fitAC, or the hour that appears more time.\n",
    "        features_contatto = features_contatto.reshape(-1, 1).T\n",
    "        preds = model.predict(features_contatto)\n",
    "        # from [0, 1] to mins\n",
    "        mins = preds[0] * 1022 # this 1022 is the max_y that was needed to convert mins into [0, 1]\n",
    "        return from_min_to_hour_and_min(mins)\n",
    "    else:\n",
    "        open_rate_avg, click_rate_avg, open_rate_comm, click_rate_comm = avg_for_new_contact(X)\n",
    "        new_row = pd.DataFrame(0, index=np.arange(1), columns=X.columns) \n",
    "        new_row.iloc[0, 0:24] = open_rate_avg\n",
    "        new_row.iloc[0, 24:48] = click_rate_avg\n",
    "        new_row.iloc[0, 48:72] = open_rate_comm\n",
    "        new_row.iloc[0, 72:96] = click_rate_comm\n",
    "        # for inference, we put the fits to 1 # TODO: do we need to set to one also in the upper case?\n",
    "        new_row.iloc[0, 96] = 1 # fitSA\n",
    "        new_row.iloc[0, 97] = 1 # fitCA\n",
    "        preds = model.predict(new_row)\n",
    "        # from [0, 1] to mins\n",
    "        mins = preds[0] * 1022 # this 1022 is the max_y that was needed to convert mins into [0, 1]\n",
    "        return from_min_to_hour_and_min(mins)\n",
    "\n",
    "\n",
    "def get_index_for_comm(hash_mex, hash_contact, data):\n",
    "    return data.index[(data['HashMessaggio'] == hash_mex) & (data['HashContatto'] == hash_contact)][0] # get first index because the others are the same\n",
    "\n",
    "def get_all_indexes(hash_mex, hash_contact, data):\n",
    "    return data.index[(data['HashMessaggio'] == hash_mex) & (data['HashContatto'] == hash_contact)]\n",
    "\n",
    "def get_all_indexes_contact(hash_contact, data):\n",
    "    return data.index[(data['HashContatto'] == hash_contact)]\n",
    "\n",
    "def get_indexes_of_comm(comm, data):\n",
    "    return data.index[(data['COMUNICATION.COMUNICATION_NAME'] == comm)]"
   ]
  },
  {
   "cell_type": "code",
   "execution_count": 46,
   "id": "c93cdba4",
   "metadata": {},
   "outputs": [],
   "source": [
    "column_names = [\"HashContatto\",  \"HashMessaggio\", \"OR 0-1\", \"OR 1-2\", \"OR 2-3\", \"OR 3-4\", \"OR 4-5\", \"OR 5-6\", \"OR 6-7\", \"OR 7-8\", \"OR 8-9\", \"OR 9-10\", \"OR 10-11\", \"OR 11-12\",\n",
    "\"OR 12-13\", \"OR 13-14\", \"OR 14-15\", \"OR 15-16\", \"OR 16-17\", \"OR 17-18\", \"OR 18-19\", \"OR 19-20\", \"OR 20-21\", \"OR 21-22\", \"OR 22-23\", \"OR 23-24\",\n",
    "\n",
    "\"CR 0-1\", \"CR 1-2\", \"CR 2-3\", \"CR 3-4\", \"CR 4-5\", \"CR 5-6\", \"CR 6-7\", \"CR 7-8\", \"CR 8-9\", \"CR 9-10\", \"CR 10-11\", \"CR 11-12\",\n",
    "\"CR 12-13\", \"CR 13-14\", \"CR 14-15\", \"CR 15-16\", \"CR 16-17\", \"CR 17-18\", \"CR 18-19\", \"CR 19-20\", \"CR 20-21\", \"CR 21-22\", \"CR 22-23\", \"CR 23-24\",\n",
    "\n",
    "\"OR-C 0-1\", \"OR-C 1-2\", \"OR-C 2-3\", \"OR-C 3-4\", \"OR-C 4-5\", \"OR-C 5-6\", \"OR-C 6-7\", \"OR-C 7-8\", \"OR-C 8-9\", \"OR-C 9-10\", \"OR-C 10-11\", \"OR-C 11-12\", \n",
    "\"OR-C 12-13\", \"OR-C 13-14\", \"OR-C 14-15\", \"OR-C 15-16\", \"OR-C 16-17\", \"OR-C 17-18\", \"OR-C 18-19\", \"OR-C 19-20\", \"OR-C 20-21\", \"OR-C 21-22\", \"OR-C 22-23\", \"OR-C 23-24\",\n",
    "\n",
    "\"CR-C 0-1\", \"CR-C 1-2\", \"CR-C 2-3\", \"CR-C 3-4\", \"CR-C 4-5\", \"CR-C 5-6\", \"CR-C 6-7\", \"CR-C 7-8\", \"CR-C 8-9\", \"CR-C 9-10\", \"CR-C 10-11\", \"CR-C 11-12\", \n",
    "\"CR-C 12-13\", \"CR-C 13-14\", \"CR-C 14-15\", \"CR-C 15-16\", \"CR-C 16-17\", \"CR-C 17-18\", \"CR-C 18-19\", \"CR-C 19-20\", \"CR-C 20-21\", \"CR-C 21-22\", \"CR-C 22-23\", \"CR-C 23-24\",\n",
    "\"fitSA\", \"fitAC\", \"Label\"]\n",
    "sent_open_hour_range = 36\n",
    "open_click_hour_range = 24\n",
    "\n",
    "df = pd.DataFrame(columns = column_names)\n",
    "\n",
    "def create_dataset(data, sent_open_hour_range, open_click_hour_range, column_names):\n",
    "    df = pd.DataFrame(0, index=np.arange((len(data['HashContatto'].unique()) + len(data['HashMessaggio'].unique()))), columns=column_names) \n",
    "    open_rate_comm_dict = rate_comm_time_slot(data, 'Open')\n",
    "    click_rate_comm_dict = rate_comm_time_slot(data, 'Click')\n",
    "    # dict that contains for each contact, its messages\n",
    "    dk = {}\n",
    "    for cont in data['HashContatto'].unique():\n",
    "        if cont not in dk:\n",
    "            dk[cont] = {'HashMessaggio': []}\n",
    "\n",
    "    for i in range(len(data)):\n",
    "        dk[data['HashContatto'][i]]['HashMessaggio'].append(data['HashMessaggio'][i])\n",
    "\n",
    "    for key in dk:\n",
    "        vals = list(set(dk[key]['HashMessaggio']))\n",
    "        dk[key]['HashMessaggio'] = vals\n",
    "    # create dataset row by row\n",
    "    current = 0\n",
    "    for cont in dk:\n",
    "        for mex in dk[cont]['HashMessaggio']:\n",
    "            # HashContatto\n",
    "            df.iloc[current, 0] = cont\n",
    "            # HashMessaggio\n",
    "            df.iloc[current, 1] = mex\n",
    "            fitSA, y = compute_fitSA(mex, cont, sent_open_hour_range, data)\n",
    "            # Label \"Sent\"\n",
    "            df.iloc[current, 100] = y\n",
    "            # fitSA\n",
    "            df.iloc[current, 98] = fitSA\n",
    "            # fitAC\n",
    "            fitAC = compute_fitAC(mex, cont, open_click_hour_range, data)\n",
    "            df.iloc[current, 99] = fitAC\n",
    "            # index for compute opens and clicks of communication\n",
    "            index_comm = get_index_for_comm(mex, cont, data)\n",
    "            # open rate communication\n",
    "            df.iloc[current, 50:74] = open_rate_comm_dict[data['COMUNICATION.COMUNICATION_NAME'][index_comm]]['time_slot_distribution']\n",
    "            # click rate communication\n",
    "            df.iloc[current, 74:98] = click_rate_comm_dict[data['COMUNICATION.COMUNICATION_NAME'][index_comm]]['time_slot_distribution']\n",
    "            current += 1\n",
    "            if current % 1000 == 0:\n",
    "                print(current)\n",
    "    \n",
    "    df = df.iloc[:current, :] # delete le row di troppo\n",
    "    # convert in minutes and then into [0, 1]\n",
    "    max_y = -1\n",
    "    for i in range(len(df)):\n",
    "        if df.iloc[i, 100] > max_y:\n",
    "            max_y = df.iloc[i, 100]\n",
    "    for i in range(len(df)):\n",
    "        df.iloc[i, 100] /= max_y\n",
    "    # open 24\n",
    "    d = dp_open_rate_mex_time_slot(data) # dict that contains the open rate time slot for each contact\n",
    "    for i in range(len(df)):\n",
    "         df.iloc[i, 2:26] = d[df.iloc[i, 0]] # df.iloc[i, 0] is HashContatto\n",
    "    # click 24\n",
    "    d2 = dp_click_rate_mex_time_slot(data) # dict that contains the click rate time slot for each contact\n",
    "    for i in range(len(df)):\n",
    "         df.iloc[i, 26:50] = d2[df.iloc[i, 0]] # df.iloc[i, 0] is HashContatto\n",
    "    # clicked but not opened have fitAC as -1, so we assign the average of the fitAC of mex cicked and opened\n",
    "    avgAC = avg_fitAC(df)\n",
    "\n",
    "    for i in range(len(df)):\n",
    "        if df['fitAC'][i] == -1:\n",
    "            df['fitAC'][i] = avgAC\n",
    "    hash_contact = df['HashContatto']\n",
    "    y = df['Label']\n",
    "    X = df.drop(['HashMessaggio', 'HashContatto', 'Label'], axis=1)\n",
    "    return df, X, y, hash_contact"
   ]
  },
  {
   "cell_type": "code",
   "execution_count": 53,
   "id": "8114ed39",
   "metadata": {},
   "outputs": [
    {
     "ename": "KeyboardInterrupt",
     "evalue": "",
     "output_type": "error",
     "traceback": [
      "\u001b[0;31m---------------------------------------------------------------------------\u001b[0m",
      "\u001b[0;31mKeyboardInterrupt\u001b[0m                         Traceback (most recent call last)",
      "\u001b[0;32m<ipython-input-53-3b8093c769e7>\u001b[0m in \u001b[0;36m<module>\u001b[0;34m\u001b[0m\n\u001b[0;32m----> 1\u001b[0;31m \u001b[0mdf\u001b[0m\u001b[0;34m,\u001b[0m \u001b[0mX\u001b[0m\u001b[0;34m,\u001b[0m \u001b[0my\u001b[0m\u001b[0;34m,\u001b[0m \u001b[0mhash_contact\u001b[0m\u001b[0;34m,\u001b[0m \u001b[0mmax_y\u001b[0m \u001b[0;34m=\u001b[0m \u001b[0mcreate_dataset\u001b[0m\u001b[0;34m(\u001b[0m\u001b[0mdata\u001b[0m\u001b[0;34m,\u001b[0m \u001b[0msent_open_hour_range\u001b[0m\u001b[0;34m,\u001b[0m \u001b[0mopen_click_hour_range\u001b[0m\u001b[0;34m,\u001b[0m \u001b[0mcolumn_names\u001b[0m\u001b[0;34m)\u001b[0m\u001b[0;34m\u001b[0m\u001b[0;34m\u001b[0m\u001b[0m\n\u001b[0m",
      "\u001b[0;32m<ipython-input-52-cd8e124cfdbf>\u001b[0m in \u001b[0;36mcreate_dataset\u001b[0;34m(data, sent_open_hour_range, open_click_hour_range, column_names)\u001b[0m\n\u001b[1;32m     52\u001b[0m             \u001b[0mindex_comm\u001b[0m \u001b[0;34m=\u001b[0m \u001b[0mget_index_for_comm\u001b[0m\u001b[0;34m(\u001b[0m\u001b[0mmex\u001b[0m\u001b[0;34m,\u001b[0m \u001b[0mcont\u001b[0m\u001b[0;34m,\u001b[0m \u001b[0mdata\u001b[0m\u001b[0;34m)\u001b[0m\u001b[0;34m\u001b[0m\u001b[0;34m\u001b[0m\u001b[0m\n\u001b[1;32m     53\u001b[0m             \u001b[0;31m# open rate communication\u001b[0m\u001b[0;34m\u001b[0m\u001b[0;34m\u001b[0m\u001b[0;34m\u001b[0m\u001b[0m\n\u001b[0;32m---> 54\u001b[0;31m             \u001b[0mdf\u001b[0m\u001b[0;34m.\u001b[0m\u001b[0miloc\u001b[0m\u001b[0;34m[\u001b[0m\u001b[0mcurrent\u001b[0m\u001b[0;34m,\u001b[0m \u001b[0;36m50\u001b[0m\u001b[0;34m:\u001b[0m\u001b[0;36m74\u001b[0m\u001b[0;34m]\u001b[0m \u001b[0;34m=\u001b[0m \u001b[0mopen_rate_comm_dict\u001b[0m\u001b[0;34m[\u001b[0m\u001b[0mdata\u001b[0m\u001b[0;34m[\u001b[0m\u001b[0;34m'COMUNICATION.COMUNICATION_NAME'\u001b[0m\u001b[0;34m]\u001b[0m\u001b[0;34m[\u001b[0m\u001b[0mindex_comm\u001b[0m\u001b[0;34m]\u001b[0m\u001b[0;34m]\u001b[0m\u001b[0;34m[\u001b[0m\u001b[0;34m'time_slot_distribution'\u001b[0m\u001b[0;34m]\u001b[0m\u001b[0;34m\u001b[0m\u001b[0;34m\u001b[0m\u001b[0m\n\u001b[0m\u001b[1;32m     55\u001b[0m             \u001b[0;31m# click rate communication\u001b[0m\u001b[0;34m\u001b[0m\u001b[0;34m\u001b[0m\u001b[0;34m\u001b[0m\u001b[0m\n\u001b[1;32m     56\u001b[0m             \u001b[0mdf\u001b[0m\u001b[0;34m.\u001b[0m\u001b[0miloc\u001b[0m\u001b[0;34m[\u001b[0m\u001b[0mcurrent\u001b[0m\u001b[0;34m,\u001b[0m \u001b[0;36m74\u001b[0m\u001b[0;34m:\u001b[0m\u001b[0;36m98\u001b[0m\u001b[0;34m]\u001b[0m \u001b[0;34m=\u001b[0m \u001b[0mclick_rate_comm_dict\u001b[0m\u001b[0;34m[\u001b[0m\u001b[0mdata\u001b[0m\u001b[0;34m[\u001b[0m\u001b[0;34m'COMUNICATION.COMUNICATION_NAME'\u001b[0m\u001b[0;34m]\u001b[0m\u001b[0;34m[\u001b[0m\u001b[0mindex_comm\u001b[0m\u001b[0;34m]\u001b[0m\u001b[0;34m]\u001b[0m\u001b[0;34m[\u001b[0m\u001b[0;34m'time_slot_distribution'\u001b[0m\u001b[0;34m]\u001b[0m\u001b[0;34m\u001b[0m\u001b[0;34m\u001b[0m\u001b[0m\n",
      "\u001b[0;32m~/anaconda3/envs/python3/lib/python3.6/site-packages/pandas/core/indexing.py\u001b[0m in \u001b[0;36m__setitem__\u001b[0;34m(self, key, value)\u001b[0m\n\u001b[1;32m    668\u001b[0m \u001b[0;34m\u001b[0m\u001b[0m\n\u001b[1;32m    669\u001b[0m         \u001b[0miloc\u001b[0m \u001b[0;34m=\u001b[0m \u001b[0mself\u001b[0m \u001b[0;32mif\u001b[0m \u001b[0mself\u001b[0m\u001b[0;34m.\u001b[0m\u001b[0mname\u001b[0m \u001b[0;34m==\u001b[0m \u001b[0;34m\"iloc\"\u001b[0m \u001b[0;32melse\u001b[0m \u001b[0mself\u001b[0m\u001b[0;34m.\u001b[0m\u001b[0mobj\u001b[0m\u001b[0;34m.\u001b[0m\u001b[0miloc\u001b[0m\u001b[0;34m\u001b[0m\u001b[0;34m\u001b[0m\u001b[0m\n\u001b[0;32m--> 670\u001b[0;31m         \u001b[0miloc\u001b[0m\u001b[0;34m.\u001b[0m\u001b[0m_setitem_with_indexer\u001b[0m\u001b[0;34m(\u001b[0m\u001b[0mindexer\u001b[0m\u001b[0;34m,\u001b[0m \u001b[0mvalue\u001b[0m\u001b[0;34m)\u001b[0m\u001b[0;34m\u001b[0m\u001b[0;34m\u001b[0m\u001b[0m\n\u001b[0m\u001b[1;32m    671\u001b[0m \u001b[0;34m\u001b[0m\u001b[0m\n\u001b[1;32m    672\u001b[0m     \u001b[0;32mdef\u001b[0m \u001b[0m_validate_key\u001b[0m\u001b[0;34m(\u001b[0m\u001b[0mself\u001b[0m\u001b[0;34m,\u001b[0m \u001b[0mkey\u001b[0m\u001b[0;34m,\u001b[0m \u001b[0maxis\u001b[0m\u001b[0;34m:\u001b[0m \u001b[0mint\u001b[0m\u001b[0;34m)\u001b[0m\u001b[0;34m:\u001b[0m\u001b[0;34m\u001b[0m\u001b[0;34m\u001b[0m\u001b[0m\n",
      "\u001b[0;32m~/anaconda3/envs/python3/lib/python3.6/site-packages/pandas/core/indexing.py\u001b[0m in \u001b[0;36m_setitem_with_indexer\u001b[0;34m(self, indexer, value)\u001b[0m\n\u001b[1;32m   1756\u001b[0m \u001b[0;34m\u001b[0m\u001b[0m\n\u001b[1;32m   1757\u001b[0m                     \u001b[0;32mfor\u001b[0m \u001b[0mloc\u001b[0m\u001b[0;34m,\u001b[0m \u001b[0mv\u001b[0m \u001b[0;32min\u001b[0m \u001b[0mzip\u001b[0m\u001b[0;34m(\u001b[0m\u001b[0milocs\u001b[0m\u001b[0;34m,\u001b[0m \u001b[0mvalue\u001b[0m\u001b[0;34m)\u001b[0m\u001b[0;34m:\u001b[0m\u001b[0;34m\u001b[0m\u001b[0;34m\u001b[0m\u001b[0m\n\u001b[0;32m-> 1758\u001b[0;31m                         \u001b[0misetter\u001b[0m\u001b[0;34m(\u001b[0m\u001b[0mloc\u001b[0m\u001b[0;34m,\u001b[0m \u001b[0mv\u001b[0m\u001b[0;34m)\u001b[0m\u001b[0;34m\u001b[0m\u001b[0;34m\u001b[0m\u001b[0m\n\u001b[0m\u001b[1;32m   1759\u001b[0m             \u001b[0;32melse\u001b[0m\u001b[0;34m:\u001b[0m\u001b[0;34m\u001b[0m\u001b[0;34m\u001b[0m\u001b[0m\n\u001b[1;32m   1760\u001b[0m \u001b[0;34m\u001b[0m\u001b[0m\n",
      "\u001b[0;32m~/anaconda3/envs/python3/lib/python3.6/site-packages/pandas/core/indexing.py\u001b[0m in \u001b[0;36misetter\u001b[0;34m(loc, v)\u001b[0m\n\u001b[1;32m   1686\u001b[0m                 \u001b[0;32melse\u001b[0m\u001b[0;34m:\u001b[0m\u001b[0;34m\u001b[0m\u001b[0;34m\u001b[0m\u001b[0m\n\u001b[1;32m   1687\u001b[0m                     \u001b[0;31m# set the item, possibly having a dtype change\u001b[0m\u001b[0;34m\u001b[0m\u001b[0;34m\u001b[0m\u001b[0;34m\u001b[0m\u001b[0m\n\u001b[0;32m-> 1688\u001b[0;31m                     \u001b[0mser\u001b[0m \u001b[0;34m=\u001b[0m \u001b[0mser\u001b[0m\u001b[0;34m.\u001b[0m\u001b[0mcopy\u001b[0m\u001b[0;34m(\u001b[0m\u001b[0;34m)\u001b[0m\u001b[0;34m\u001b[0m\u001b[0;34m\u001b[0m\u001b[0m\n\u001b[0m\u001b[1;32m   1689\u001b[0m                     \u001b[0mser\u001b[0m\u001b[0;34m.\u001b[0m\u001b[0m_mgr\u001b[0m \u001b[0;34m=\u001b[0m \u001b[0mser\u001b[0m\u001b[0;34m.\u001b[0m\u001b[0m_mgr\u001b[0m\u001b[0;34m.\u001b[0m\u001b[0msetitem\u001b[0m\u001b[0;34m(\u001b[0m\u001b[0mindexer\u001b[0m\u001b[0;34m=\u001b[0m\u001b[0mplane_indexer\u001b[0m\u001b[0;34m,\u001b[0m \u001b[0mvalue\u001b[0m\u001b[0;34m=\u001b[0m\u001b[0mv\u001b[0m\u001b[0;34m)\u001b[0m\u001b[0;34m\u001b[0m\u001b[0;34m\u001b[0m\u001b[0m\n\u001b[1;32m   1690\u001b[0m                     \u001b[0mser\u001b[0m\u001b[0;34m.\u001b[0m\u001b[0m_maybe_update_cacher\u001b[0m\u001b[0;34m(\u001b[0m\u001b[0mclear\u001b[0m\u001b[0;34m=\u001b[0m\u001b[0;32mTrue\u001b[0m\u001b[0;34m)\u001b[0m\u001b[0;34m\u001b[0m\u001b[0;34m\u001b[0m\u001b[0m\n",
      "\u001b[0;32m~/anaconda3/envs/python3/lib/python3.6/site-packages/pandas/core/generic.py\u001b[0m in \u001b[0;36mcopy\u001b[0;34m(self, deep)\u001b[0m\n\u001b[1;32m   5663\u001b[0m         \u001b[0mdtype\u001b[0m\u001b[0;34m:\u001b[0m \u001b[0mobject\u001b[0m\u001b[0;34m\u001b[0m\u001b[0;34m\u001b[0m\u001b[0m\n\u001b[1;32m   5664\u001b[0m         \"\"\"\n\u001b[0;32m-> 5665\u001b[0;31m         \u001b[0mdata\u001b[0m \u001b[0;34m=\u001b[0m \u001b[0mself\u001b[0m\u001b[0;34m.\u001b[0m\u001b[0m_mgr\u001b[0m\u001b[0;34m.\u001b[0m\u001b[0mcopy\u001b[0m\u001b[0;34m(\u001b[0m\u001b[0mdeep\u001b[0m\u001b[0;34m=\u001b[0m\u001b[0mdeep\u001b[0m\u001b[0;34m)\u001b[0m\u001b[0;34m\u001b[0m\u001b[0;34m\u001b[0m\u001b[0m\n\u001b[0m\u001b[1;32m   5666\u001b[0m         \u001b[0mself\u001b[0m\u001b[0;34m.\u001b[0m\u001b[0m_clear_item_cache\u001b[0m\u001b[0;34m(\u001b[0m\u001b[0;34m)\u001b[0m\u001b[0;34m\u001b[0m\u001b[0;34m\u001b[0m\u001b[0m\n\u001b[1;32m   5667\u001b[0m         \u001b[0;32mreturn\u001b[0m \u001b[0mself\u001b[0m\u001b[0;34m.\u001b[0m\u001b[0m_constructor\u001b[0m\u001b[0;34m(\u001b[0m\u001b[0mdata\u001b[0m\u001b[0;34m)\u001b[0m\u001b[0;34m.\u001b[0m\u001b[0m__finalize__\u001b[0m\u001b[0;34m(\u001b[0m\u001b[0mself\u001b[0m\u001b[0;34m,\u001b[0m \u001b[0mmethod\u001b[0m\u001b[0;34m=\u001b[0m\u001b[0;34m\"copy\"\u001b[0m\u001b[0;34m)\u001b[0m\u001b[0;34m\u001b[0m\u001b[0;34m\u001b[0m\u001b[0m\n",
      "\u001b[0;32m~/anaconda3/envs/python3/lib/python3.6/site-packages/pandas/core/internals/managers.py\u001b[0m in \u001b[0;36mcopy\u001b[0;34m(self, deep)\u001b[0m\n\u001b[1;32m    809\u001b[0m             \u001b[0mnew_axes\u001b[0m \u001b[0;34m=\u001b[0m \u001b[0mlist\u001b[0m\u001b[0;34m(\u001b[0m\u001b[0mself\u001b[0m\u001b[0;34m.\u001b[0m\u001b[0maxes\u001b[0m\u001b[0;34m)\u001b[0m\u001b[0;34m\u001b[0m\u001b[0;34m\u001b[0m\u001b[0m\n\u001b[1;32m    810\u001b[0m \u001b[0;34m\u001b[0m\u001b[0m\n\u001b[0;32m--> 811\u001b[0;31m         \u001b[0mres\u001b[0m \u001b[0;34m=\u001b[0m \u001b[0mself\u001b[0m\u001b[0;34m.\u001b[0m\u001b[0mapply\u001b[0m\u001b[0;34m(\u001b[0m\u001b[0;34m\"copy\"\u001b[0m\u001b[0;34m,\u001b[0m \u001b[0mdeep\u001b[0m\u001b[0;34m=\u001b[0m\u001b[0mdeep\u001b[0m\u001b[0;34m)\u001b[0m\u001b[0;34m\u001b[0m\u001b[0;34m\u001b[0m\u001b[0m\n\u001b[0m\u001b[1;32m    812\u001b[0m         \u001b[0mres\u001b[0m\u001b[0;34m.\u001b[0m\u001b[0maxes\u001b[0m \u001b[0;34m=\u001b[0m \u001b[0mnew_axes\u001b[0m\u001b[0;34m\u001b[0m\u001b[0;34m\u001b[0m\u001b[0m\n\u001b[1;32m    813\u001b[0m         \u001b[0;32mreturn\u001b[0m \u001b[0mres\u001b[0m\u001b[0;34m\u001b[0m\u001b[0;34m\u001b[0m\u001b[0m\n",
      "\u001b[0;32m~/anaconda3/envs/python3/lib/python3.6/site-packages/pandas/core/internals/managers.py\u001b[0m in \u001b[0;36mapply\u001b[0;34m(self, f, align_keys, **kwargs)\u001b[0m\n\u001b[1;32m    386\u001b[0m         \u001b[0;31m# fillna: Series/DataFrame is responsible for making sure value is aligned\u001b[0m\u001b[0;34m\u001b[0m\u001b[0;34m\u001b[0m\u001b[0;34m\u001b[0m\u001b[0m\n\u001b[1;32m    387\u001b[0m \u001b[0;34m\u001b[0m\u001b[0m\n\u001b[0;32m--> 388\u001b[0;31m         \u001b[0maligned_args\u001b[0m \u001b[0;34m=\u001b[0m \u001b[0;34m{\u001b[0m\u001b[0mk\u001b[0m\u001b[0;34m:\u001b[0m \u001b[0mkwargs\u001b[0m\u001b[0;34m[\u001b[0m\u001b[0mk\u001b[0m\u001b[0;34m]\u001b[0m \u001b[0;32mfor\u001b[0m \u001b[0mk\u001b[0m \u001b[0;32min\u001b[0m \u001b[0malign_keys\u001b[0m\u001b[0;34m}\u001b[0m\u001b[0;34m\u001b[0m\u001b[0;34m\u001b[0m\u001b[0m\n\u001b[0m\u001b[1;32m    389\u001b[0m \u001b[0;34m\u001b[0m\u001b[0m\n\u001b[1;32m    390\u001b[0m         \u001b[0;32mfor\u001b[0m \u001b[0mb\u001b[0m \u001b[0;32min\u001b[0m \u001b[0mself\u001b[0m\u001b[0;34m.\u001b[0m\u001b[0mblocks\u001b[0m\u001b[0;34m:\u001b[0m\u001b[0;34m\u001b[0m\u001b[0;34m\u001b[0m\u001b[0m\n",
      "\u001b[0;31mKeyboardInterrupt\u001b[0m: "
     ]
    }
   ],
   "source": [
    "df, X, y, hash_contact = create_dataset(data, sent_open_hour_range, open_click_hour_range, column_names)"
   ]
  },
  {
   "cell_type": "code",
   "execution_count": 30,
   "id": "1fcb9c08",
   "metadata": {},
   "outputs": [],
   "source": [
    "df_train, df_test = train_test_split(df, test_size=0.30, random_state=42)\n",
    "df_train.reset_index(drop=True, inplace=True)\n",
    "df_test.reset_index(drop=True, inplace=True)"
   ]
  },
  {
   "cell_type": "code",
   "execution_count": 31,
   "id": "d87cac5c",
   "metadata": {},
   "outputs": [],
   "source": [
    "X_train, X_test, y_train, y_test = train_test_split(X, y, test_size=0.30, random_state=42)\n",
    "X_train.reset_index(drop=True, inplace=True)\n",
    "X_test.reset_index(drop=True, inplace=True)"
   ]
  },
  {
   "cell_type": "code",
   "execution_count": 32,
   "id": "4d776c20",
   "metadata": {},
   "outputs": [
    {
     "name": "stderr",
     "output_type": "stream",
     "text": [
      "/home/ec2-user/anaconda3/envs/python3/lib/python3.6/site-packages/ipykernel/__main__.py:3: DataConversionWarning: A column-vector y was passed when a 1d array was expected. Please change the shape of y to (n_samples,), for example using ravel().\n",
      "  app.launch_new_instance()\n"
     ]
    },
    {
     "data": {
      "text/plain": [
       "RandomForestRegressor(max_depth=2)"
      ]
     },
     "execution_count": 32,
     "metadata": {},
     "output_type": "execute_result"
    }
   ],
   "source": [
    "regr = RandomForestRegressor(max_depth=2)\n",
    "regr.fit(X_train, y_train)"
   ]
  },
  {
   "cell_type": "markdown",
   "id": "6e5a6dfd",
   "metadata": {},
   "source": [
    "## Test on training set"
   ]
  },
  {
   "cell_type": "code",
   "execution_count": 135,
   "id": "504fd0bc",
   "metadata": {},
   "outputs": [],
   "source": [
    "preds = regr.predict(X_train)"
   ]
  },
  {
   "cell_type": "code",
   "execution_count": 201,
   "id": "61d976d6",
   "metadata": {},
   "outputs": [
    {
     "data": {
      "text/plain": [
       "0.23406455587581684"
      ]
     },
     "execution_count": 201,
     "metadata": {},
     "output_type": "execute_result"
    }
   ],
   "source": [
    "evaluate(df_train, X_train, data, sent_open_hour_range, preds)"
   ]
  },
  {
   "cell_type": "markdown",
   "id": "4d4527d3",
   "metadata": {},
   "source": [
    "## Test on test set"
   ]
  },
  {
   "cell_type": "code",
   "execution_count": 202,
   "id": "df89a033",
   "metadata": {},
   "outputs": [],
   "source": [
    "preds = regr.predict(X_test)"
   ]
  },
  {
   "cell_type": "code",
   "execution_count": 203,
   "id": "69ae7dc0",
   "metadata": {},
   "outputs": [
    {
     "data": {
      "text/plain": [
       "0.23255813953488372"
      ]
     },
     "execution_count": 203,
     "metadata": {},
     "output_type": "execute_result"
    }
   ],
   "source": [
    "evaluate(df_test, X_test, data, sent_open_hour_range, preds)"
   ]
  },
  {
   "cell_type": "code",
   "execution_count": 204,
   "id": "141ca2ac",
   "metadata": {},
   "outputs": [],
   "source": [
    "# TODO: how to handle nuovi contatti? just create a function with model as param and set to it the avg of the features?"
   ]
  },
  {
   "cell_type": "markdown",
   "id": "da89e4e1",
   "metadata": {},
   "source": [
    "## Save things"
   ]
  },
  {
   "cell_type": "code",
   "execution_count": 1,
   "id": "7ea82fab",
   "metadata": {},
   "outputs": [
    {
     "ename": "NameError",
     "evalue": "name 'df' is not defined",
     "output_type": "error",
     "traceback": [
      "\u001b[0;31m---------------------------------------------------------------------------\u001b[0m",
      "\u001b[0;31mNameError\u001b[0m                                 Traceback (most recent call last)",
      "\u001b[0;32m<ipython-input-1-b03f55be8b1d>\u001b[0m in \u001b[0;36m<module>\u001b[0;34m\u001b[0m\n\u001b[0;32m----> 1\u001b[0;31m \u001b[0mdf\u001b[0m\u001b[0;34m.\u001b[0m\u001b[0mto_csv\u001b[0m\u001b[0;34m(\u001b[0m\u001b[0;34m\"s3://ai-diennea/data/df.csv\"\u001b[0m\u001b[0;34m)\u001b[0m\u001b[0;34m\u001b[0m\u001b[0;34m\u001b[0m\u001b[0m\n\u001b[0m",
      "\u001b[0;31mNameError\u001b[0m: name 'df' is not defined"
     ]
    }
   ],
   "source": [
    "df.to_csv(\"s3://ai-diennea/data/df.csv\")"
   ]
  },
  {
   "cell_type": "code",
   "execution_count": 206,
   "id": "d577b6a4",
   "metadata": {},
   "outputs": [],
   "source": [
    "X.to_csv(\"s3://ai-diennea/data/X.csv\")"
   ]
  },
  {
   "cell_type": "code",
   "execution_count": 207,
   "id": "a6ac8ff0",
   "metadata": {},
   "outputs": [],
   "source": [
    "y.to_csv(\"s3://ai-diennea/data/y.csv\")"
   ]
  },
  {
   "cell_type": "code",
   "execution_count": 208,
   "id": "eaf8b9b2",
   "metadata": {},
   "outputs": [],
   "source": [
    "hash_contact.to_csv(\"s3://ai-diennea/data/hash_contact.csv\")"
   ]
  },
  {
   "cell_type": "markdown",
   "id": "b7c54acf",
   "metadata": {},
   "source": [
    "## Load things"
   ]
  },
  {
   "cell_type": "code",
   "execution_count": 58,
   "id": "03101f50",
   "metadata": {},
   "outputs": [],
   "source": [
    "df = pd.read_csv(\"s3://ai-diennea/data/df.csv\")\n",
    "df = df.drop(['Unnamed: 0'], axis=1)"
   ]
  },
  {
   "cell_type": "code",
   "execution_count": 6,
   "id": "4b246105",
   "metadata": {},
   "outputs": [],
   "source": [
    "X = pd.read_csv(\"s3://ai-diennea/data/X.csv\")\n",
    "X = X.drop(['Unnamed: 0'], axis=1)"
   ]
  },
  {
   "cell_type": "code",
   "execution_count": 7,
   "id": "b09a0870",
   "metadata": {},
   "outputs": [],
   "source": [
    "y = pd.read_csv(\"s3://ai-diennea/data/y.csv\")\n",
    "y = y.drop(['Unnamed: 0'], axis=1)"
   ]
  },
  {
   "cell_type": "code",
   "execution_count": 8,
   "id": "6ef4605d",
   "metadata": {},
   "outputs": [],
   "source": [
    "hash_contact = pd.read_csv(\"s3://ai-diennea/data/hash_contact.csv\")\n",
    "hash_contact = hash_contact.drop(['Unnamed: 0'], axis=1)"
   ]
  },
  {
   "cell_type": "markdown",
   "id": "dd50c839",
   "metadata": {},
   "source": [
    "## Fit model"
   ]
  },
  {
   "cell_type": "code",
   "execution_count": null,
   "id": "f68e7232",
   "metadata": {},
   "outputs": [],
   "source": [
    "df_train, df_test = train_test_split(df, test_size=0.30, random_state=42)\n",
    "df_train.reset_index(drop=True, inplace=True)\n",
    "df_test.reset_index(drop=True, inplace=True)"
   ]
  },
  {
   "cell_type": "code",
   "execution_count": null,
   "id": "8545892a",
   "metadata": {},
   "outputs": [],
   "source": [
    "X_train, X_test, y_train, y_test = train_test_split(X, y, test_size=0.30, random_state=42)\n",
    "X_train.reset_index(drop=True, inplace=True)\n",
    "X_test.reset_index(drop=True, inplace=True)"
   ]
  },
  {
   "cell_type": "code",
   "execution_count": null,
   "id": "c89ae408",
   "metadata": {},
   "outputs": [],
   "source": [
    "regr = RandomForestRegressor(max_depth=2)\n",
    "regr.fit(X_train, y_train)"
   ]
  },
  {
   "cell_type": "markdown",
   "id": "f975da36",
   "metadata": {},
   "source": [
    "## Predict hour for a given contact"
   ]
  },
  {
   "cell_type": "code",
   "execution_count": 106,
   "id": "c68075ea",
   "metadata": {},
   "outputs": [
    {
     "data": {
      "text/plain": [
       "'14:56'"
      ]
     },
     "execution_count": 106,
     "metadata": {},
     "output_type": "execute_result"
    }
   ],
   "source": [
    "hash_contatto = df['HashContatto'].unique()[0]\n",
    "get_sent_hour(regr, hash_contatto, df, X)"
   ]
  },
  {
   "cell_type": "code",
   "execution_count": 127,
   "id": "37b5ecca",
   "metadata": {},
   "outputs": [],
   "source": [
    "l = []\n",
    "for i in range(len(df['HashContatto'].unique())):\n",
    "    l.append(get_sent_hour(regr, df['HashContatto'].unique()[i], df, X))"
   ]
  },
  {
   "cell_type": "code",
   "execution_count": 131,
   "id": "33278576",
   "metadata": {},
   "outputs": [
    {
     "data": {
      "text/plain": [
       "<AxesSubplot:>"
      ]
     },
     "execution_count": 131,
     "metadata": {},
     "output_type": "execute_result"
    },
    {
     "data": {
      "image/png": "[encoded data removed]",
      "text/plain": [
       "<Figure size 864x576 with 1 Axes>"
      ]
     },
     "metadata": {
      "needs_background": "light"
     },
     "output_type": "display_data"
    }
   ],
   "source": [
    "pd.Series(l).value_counts().plot(kind='bar')"
   ]
  },
  {
   "cell_type": "code",
   "execution_count": null,
   "id": "91d2a1e9",
   "metadata": {},
   "outputs": [],
   "source": []
  }
 ],
 "metadata": {
  "kernelspec": {
   "display_name": "conda_python3",
   "language": "python",
   "name": "conda_python3"
  },
  "language_info": {
   "codemirror_mode": {
    "name": "ipython",
    "version": 3
   },
   "file_extension": ".py",
   "mimetype": "text/x-python",
   "name": "python",
   "nbconvert_exporter": "python",
   "pygments_lexer": "ipython3",
   "version": "3.6.13"
  }
 },
 "nbformat": 4,
 "nbformat_minor": 5
}
