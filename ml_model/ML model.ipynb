{
 "cells": [
  {
   "cell_type": "code",
   "execution_count": 4,
   "id": "69d4cd9e",
   "metadata": {},
   "outputs": [],
   "source": [
    "import pandas as pd\n",
    "import numpy as np\n",
    "import matplotlib.pyplot as plt\n",
    "import statistics\n",
    "import math"
   ]
  },
  {
   "cell_type": "code",
   "execution_count": 502,
   "id": "3970f462",
   "metadata": {},
   "outputs": [
    {
     "name": "stderr",
     "output_type": "stream",
     "text": [
      "/home/ec2-user/anaconda3/envs/python3/lib/python3.6/site-packages/IPython/core/interactiveshell.py:3072: DtypeWarning: Columns (8) have mixed types.Specify dtype option on import or set low_memory=False.\n",
      "  interactivity=interactivity, compiler=compiler, result=result)\n"
     ]
    }
   ],
   "source": [
    "data = pd.read_csv(\"s3://ai-diennea/data/export_wonkit_20210630102441.csv.gz\")\n",
    "# add the day of the week column\n",
    "day_of_week = []\n",
    "for i in range(len(data)):\n",
    "    day_of_week.append(pd.to_datetime(data[\"EVENT.DATE\"][i], format='%Y/%m/%d %H:%M').day_name())\n",
    "data['day_of_week'] = pd.DataFrame(day_of_week)"
   ]
  },
  {
   "cell_type": "code",
   "execution_count": 503,
   "id": "a6c9bd23",
   "metadata": {},
   "outputs": [],
   "source": [
    "len(data)\n",
    "data = data.iloc[:10000, :]"
   ]
  },
  {
   "cell_type": "code",
   "execution_count": 576,
   "id": "80c276d2",
   "metadata": {},
   "outputs": [],
   "source": [
    "def sent_date_to_min(sents):\n",
    "    return sents.hour*60 + sents.minute\n",
    "\n",
    "def exp_decay_fit(x, sent_open_hour_range):\n",
    "    if x > sent_open_hour*60:\n",
    "        return .0\n",
    "    return math.exp(((-math.log(2)/(sent_open_hour*60))*x) + math.log(2))-1\n",
    "\n",
    "\n",
    "def compute_fitSA(hash_mex, hash_contact, sent_open_hour_range, data):\n",
    "    sents, opens, clicks = [], [], []\n",
    "    \n",
    "    for i in range(len(data)):\n",
    "        if data['HashMessaggio'][i] == hash_mex and data['HashContatto'][i] == hash_contact:\n",
    "            if data['EVENT.TYPE'][i] == 'Sent':\n",
    "                sents.append(pd.to_datetime(data[\"EVENT.DATE\"][i], format='%Y/%m/%d %H:%M'))\n",
    "            elif data['EVENT.TYPE'][i] == 'Open':\n",
    "                opens.append(pd.to_datetime(data[\"EVENT.DATE\"][i], format='%Y/%m/%d %H:%M'))\n",
    "            elif data['EVENT.TYPE'][i] == 'Click':\n",
    "                clicks.append(pd.to_datetime(data[\"EVENT.DATE\"][i], format='%Y/%m/%d %H:%M'))\n",
    "    y = sent_date_to_min(sents[0]) # since this function gives me for free the y, I return it here\n",
    "    # if there are multiple opens/clicks, take the oldest one (the first that has been opened/clicked)\n",
    "    oldest = None\n",
    "    if opens != []:\n",
    "        for i in opens:\n",
    "            if oldest is None:\n",
    "                oldest = i\n",
    "            elif i < oldest:\n",
    "                oldest = i\n",
    "    elif clicks != []:\n",
    "        for i in clicks:\n",
    "            if oldest is None:\n",
    "                oldest = i\n",
    "            elif i < oldest:\n",
    "                oldest = i\n",
    "    else: # this means that the mail has never been opened/clicked\n",
    "        return .0, y\n",
    "\n",
    "    # compute minutes of the distance between sent-open/sent-click\n",
    "    mins = ((oldest - sents[0]).days*24*60) + ((oldest - sents[0]).seconds//3600)*60 + ((oldest - sents[0]).seconds//60)%60\n",
    "    \n",
    "    return exp_decay_fit(mins, sent_open_hour_range), y\n",
    "\n",
    "def compute_fitAC(hash_mex, hash_contact, open_click_hour_range, data):\n",
    "    opens, clicks = [], []\n",
    "\n",
    "    for i in range(len(data)):\n",
    "        if data['HashMessaggio'][i] == hash_mex and data['HashContatto'][i] == hash_contact:\n",
    "            if data['EVENT.TYPE'][i] == 'Open':\n",
    "                opens.append(pd.to_datetime(data[\"EVENT.DATE\"][i], format='%Y/%m/%d %H:%M'))\n",
    "            elif data['EVENT.TYPE'][i] == 'Click':\n",
    "                clicks.append(pd.to_datetime(data[\"EVENT.DATE\"][i], format='%Y/%m/%d %H:%M'))\n",
    "\n",
    "    oldest_open = None\n",
    "    oldest_click = None\n",
    "\n",
    "    if opens == [] and clicks != []: # messege clicked but open is not detected: I assign -1 and then a function\n",
    "        return -1                    # computes the avg\n",
    "    \n",
    "    if clicks == []: # covers cases when a message is sent and is never open and never clicked\n",
    "        return .0\n",
    "    elif opens != [] and clicks != []:\n",
    "        for i in opens: # get oldest open\n",
    "            if oldest_open is None:\n",
    "                oldest_open = i\n",
    "            elif i < oldest_open:\n",
    "                oldest_open = i\n",
    "        for i in clicks: # get oldest click\n",
    "            if oldest_click is None:\n",
    "                oldest_click = i\n",
    "            elif i < oldest_click:\n",
    "                oldest_click = i\n",
    "    # compute minutes of the distance between sent-open/sent-click\n",
    "    mins = ((oldest_click - oldest_open).days*24*60) + ((oldest_click - oldest_open).seconds//3600)*60 + ((oldest_click - oldest_open).seconds//60)%60\n",
    "    return exp_decay_fit(mins, open_click_hour_range)\n",
    "\n",
    "def avg_fitAC(df):\n",
    "    fitAC_column = df['fitAC'].to_list()\n",
    "    l = []\n",
    "    for i in fitAC_column:\n",
    "        if i != -1:\n",
    "            l.append(i)\n",
    "    return statistics.mean(l)"
   ]
  },
  {
   "cell_type": "code",
   "execution_count": 554,
   "id": "2a60ebea",
   "metadata": {},
   "outputs": [],
   "source": [
    "# (messaggi aperti fascia oraria 0-1 / numero totali di mail aperte in generale dal contatto)\n",
    "def open_rate_mex_time_slot(hash_contact, data): # TODO: add parameter for [0, 24]\n",
    "    mex_plus_contact_distinct = []\n",
    "    dates = []\n",
    "    for i in range(len(data)):\n",
    "        if \"nan\" not in str(data[\"EVENT.DATE\"][i]) and data['HashContatto'][i] == hash_contact and str(data[\"EVENT.TYPE\"][i]) == 'Open' and (data[\"HashMessaggio\"][i] + data['HashContatto'][i]) not in mex_plus_contact_distinct:\n",
    "            mex_plus_contact_distinct.append(data[\"HashMessaggio\"][i] + data['HashContatto'][i])\n",
    "            dates.append(pd.to_datetime(data[\"EVENT.DATE\"][i], format='%Y/%m/%d %H:%M'))\n",
    "    # add messages clicked but not opened\n",
    "    for i in range(len(data)):\n",
    "        if \"nan\" not in str(data[\"EVENT.DATE\"][i]) and data['HashContatto'][i] == hash_contact and str(data[\"EVENT.TYPE\"][i]) == 'Click' and (data[\"HashMessaggio\"][i] + data['HashContatto'][i]) not in mex_plus_contact_distinct:\n",
    "            mex_plus_contact_distinct.append(data[\"HashMessaggio\"][i] + data['HashContatto'][i])\n",
    "            dates.append(pd.to_datetime(data[\"EVENT.DATE\"][i], format='%Y/%m/%d %H:%M'))\n",
    "\n",
    "    tot_mex_opened = len(mex_plus_contact_distinct)\n",
    "    if len(dates) == 0: # it means that the user has never opened messages\n",
    "        return np.zeros((24,))\n",
    "    df = pd.DataFrame(dates, columns =['dates'])\n",
    "\n",
    "    df = df.assign(session=pd.cut(df[\"dates\"].dt.hour,\n",
    "                                [0,1,2,3,4,5,6,7,8,9,10,11,12,13,14,15,16,17,18,19,20,21,22,23,24],\n",
    "                                labels=['0-1','1-2','2-3','3-4','4-5','5-6','6-7', '7-8', '8-9', '9-10', '10-11', '11-12', '12-13', '13-14', '14-15', '15-16', '16-17', '17-18', '18-19', '19-20', '20-21', '21-22', '22-23', '23-24'],\n",
    "                                include_lowest=True))\n",
    "    numpy_output = df['session'].value_counts().sort_index().to_numpy() / tot_mex_opened\n",
    "\n",
    "    return numpy_output\n",
    "\n",
    "\n",
    "def dp_open_rate_mex_time_slot(data):\n",
    "    d = {}\n",
    "    for i in data[\"HashContatto\"].unique():\n",
    "        if i not in d:\n",
    "            d[i] = None\n",
    "    for key in d:\n",
    "        d[key] = open_rate_mex_time_slot(key, data)\n",
    "\n",
    "    return d\n",
    "\n",
    "\n",
    "# (messaggi clickati fascia oraria 0-1 / numero totali di mail clickate in generale)\n",
    "def click_rate_mex_time_slot(hash_contact, data): # TODO: add parameter for [0, 24]\n",
    "    mex_plus_contact_distinct = []\n",
    "    dates = []\n",
    "    for i in range(len(data)):\n",
    "        if \"nan\" not in str(data[\"EVENT.DATE\"][i]) and data['HashContatto'][i] == hash_contact and str(data[\"EVENT.TYPE\"][i]) == 'Click' and (data[\"HashMessaggio\"][i] + data['HashContatto'][i]) not in mex_plus_contact_distinct:\n",
    "            mex_plus_contact_distinct.append(data[\"HashMessaggio\"][i] + data['HashContatto'][i])\n",
    "            dates.append(pd.to_datetime(data[\"EVENT.DATE\"][i], format='%Y/%m/%d %H:%M'))\n",
    "\n",
    "    tot_mex_opened = len(mex_plus_contact_distinct)\n",
    "    if len(dates) == 0: # it means that the user has never clicked messages\n",
    "        return np.zeros((24,))\n",
    "    df = pd.DataFrame(dates, columns =['dates'])\n",
    "\n",
    "    df = df.assign(session=pd.cut(df[\"dates\"].dt.hour,\n",
    "                                [0,1,2,3,4,5,6,7,8,9,10,11,12,13,14,15,16,17,18,19,20,21,22,23,24],\n",
    "                                labels=['0-1','1-2','2-3','3-4','4-5','5-6','6-7', '7-8', '8-9', '9-10', '10-11', '11-12', '12-13', '13-14', '14-15', '15-16', '16-17', '17-18', '18-19', '19-20', '20-21', '21-22', '22-23', '23-24'],\n",
    "                                include_lowest=True))\n",
    "    \n",
    "\n",
    "    numpy_output = df['session'].value_counts().sort_index().to_numpy() / tot_mex_opened\n",
    "    return numpy_output\n",
    "\n",
    "def dp_click_rate_mex_time_slot(data):\n",
    "    d = {}\n",
    "    for i in data[\"HashContatto\"].unique():\n",
    "        if i not in d:\n",
    "            d[i] = None\n",
    "    for key in d:\n",
    "        d[key] = click_rate_mex_time_slot(key, data)\n",
    "\n",
    "    return d"
   ]
  },
  {
   "cell_type": "code",
   "execution_count": 577,
   "id": "4e43bb29",
   "metadata": {},
   "outputs": [],
   "source": [
    "# numero di messaggi aperti tra le 0-1 di quella Comm / Quanti messaggi distinti sono stati aperti/clickati in quella comunicazione\n",
    "# return a dict where in `d[key]['time_slot_distribution']` there is the 24 vector time slot distribution\n",
    "def rate_comm_time_slot(data, open_or_click):\n",
    "    if open_or_click != 'Open' and open_or_click != 'Click':\n",
    "        raise Exception('open_or_click value must be either \\'Open\\' or \\'Click\\'') \n",
    "    d = {}\n",
    "    for i in data[\"COMUNICATION.COMUNICATION_NAME\"].unique():\n",
    "        if i not in d:\n",
    "            d[i] = {'tot_open': 0, 'dates': [], 'time_slot_distribution': None}\n",
    "\n",
    "    for comm in data['COMUNICATION.COMUNICATION_NAME'].unique():\n",
    "        mex_plus_contact_distinct = []\n",
    "        for i in range(len(data)):\n",
    "            if data['COMUNICATION.COMUNICATION_NAME'][i] == comm and str(data[\"EVENT.TYPE\"][i]) == open_or_click and (data[\"HashMessaggio\"][i] + data['HashContatto'][i]) not in mex_plus_contact_distinct:\n",
    "                mex_plus_contact_distinct.append(data[\"HashMessaggio\"][i] + data['HashContatto'][i])\n",
    "                d[data['COMUNICATION.COMUNICATION_NAME'][i]]['tot_open'] += 1\n",
    "                d[data['COMUNICATION.COMUNICATION_NAME'][i]]['dates'].append(pd.to_datetime(data[\"EVENT.DATE\"][i], format='%Y/%m/%d %H:%M'))\n",
    "    for key, value in d.items():\n",
    "        if len(d[key]['dates']) == 0: # it means that the communcation has never been opened\n",
    "            return np.zeros((24,))\n",
    "        df = pd.DataFrame(d[key]['dates'], columns =['dates'])\n",
    "\n",
    "        df = df.assign(session=pd.cut(df[\"dates\"].dt.hour,\n",
    "                                    [0,1,2,3,4,5,6,7,8,9,10,11,12,13,14,15,16,17,18,19,20,21,22,23,24],\n",
    "                                    labels=['0-1','1-2','2-3','3-4','4-5','5-6','6-7', '7-8', '8-9', '9-10', '10-11', '11-12', '12-13', '13-14', '14-15', '15-16', '16-17', '17-18', '18-19', '19-20', '20-21', '21-22', '22-23', '23-24'],\n",
    "                                    include_lowest=True))\n",
    "\n",
    "        d[key]['time_slot_distribution'] = df['session'].value_counts().sort_index().to_numpy() / d[key]['tot_open']\n",
    "\n",
    "    return d\n",
    "\n",
    "def get_index_for_comm(hash_mex, hash_contact, data):\n",
    "    return data.index[(data['HashMessaggio'] == hash_mex) & (data['HashContatto'] == hash_contact)][0] # get first index because the others are the same\n",
    "    "
   ]
  },
  {
   "cell_type": "markdown",
   "id": "a44ffe26",
   "metadata": {},
   "source": [
    "## Create all dataset"
   ]
  },
  {
   "cell_type": "markdown",
   "id": "a671ba15",
   "metadata": {},
   "source": [
    "OR = open rate <br>\n",
    "CR = click rate <br>\n",
    "OR-C = open rate per communication <br>\n",
    "CR-C = click rate per communication<br>\n",
    "fitSA = fitness Sent-Apertura <br>\n",
    "fitAC = fitness Apertura-Click"
   ]
  },
  {
   "cell_type": "code",
   "execution_count": 578,
   "id": "892f7d88",
   "metadata": {},
   "outputs": [],
   "source": [
    "column_names = [\"HashContatto\", \"OR 0-1\", \"OR 1-2\", \"OR 2-3\", \"OR 3-4\", \"OR 4-5\", \"OR 5-6\", \"OR 6-7\", \"OR 7-8\", \"OR 8-9\", \"OR 9-10\", \"OR 10-11\", \"OR 11-12\",\n",
    "\"OR 12-13\", \"OR 13-14\", \"OR 14-15\", \"OR 15-16\", \"OR 16-17\", \"OR 17-18\", \"OR 18-19\", \"OR 19-20\", \"OR 20-21\", \"OR 21-22\", \"OR 22-23\", \"OR 23-24\",\n",
    "\n",
    "\"CR 0-1\", \"CR 1-2\", \"CR 2-3\", \"CR 3-4\", \"CR 4-5\", \"CR 5-6\", \"CR 6-7\", \"CR 7-8\", \"CR 8-9\", \"CR 9-10\", \"CR 10-11\", \"CR 11-12\",\n",
    "\"CR 12-13\", \"CR 13-14\", \"CR 14-15\", \"CR 15-16\", \"CR 16-17\", \"CR 17-18\", \"CR 18-19\", \"CR 19-20\", \"CR 20-21\", \"CR 21-22\", \"CR 22-23\", \"CR 23-24\",\n",
    "\n",
    "\"OR-C 0-1\", \"OR-C 1-2\", \"OR-C 2-3\", \"OR-C 3-4\", \"OR-C 4-5\", \"OR-C 5-6\", \"OR-C 6-7\", \"OR-C 7-8\", \"OR-C 8-9\", \"OR-C 9-10\", \"OR-C 10-11\", \"OR-C 11-12\", \n",
    "\"OR-C 12-13\", \"OR-C 13-14\", \"OR-C 14-15\", \"OR-C 15-16\", \"OR-C 16-17\", \"OR-C 17-18\", \"OR-C 18-19\", \"OR-C 19-20\", \"OR-C 20-21\", \"OR-C 21-22\", \"OR-C 22-23\", \"OR-C 23-24\",\n",
    "\n",
    "\"CR-C 0-1\", \"CR-C 1-2\", \"CR-C 2-3\", \"CR-C 3-4\", \"CR-C 4-5\", \"CR-C 5-6\", \"CR-C 6-7\", \"CR-C 7-8\", \"CR-C 8-9\", \"CR-C 9-10\", \"CR-C 10-11\", \"CR-C 11-12\", \n",
    "\"CR-C 12-13\", \"CR-C 13-14\", \"CR-C 14-15\", \"CR-C 15-16\", \"CR-C 16-17\", \"CR-C 17-18\", \"CR-C 18-19\", \"CR-C 19-20\", \"CR-C 20-21\", \"CR-C 21-22\", \"CR-C 22-23\", \"CR-C 23-24\",\n",
    "\"fitSA\", \"fitAC\", \"Label\"]\n",
    "\n",
    "df = pd.DataFrame(columns = column_names)"
   ]
  },
  {
   "cell_type": "code",
   "execution_count": 579,
   "id": "936d2b44",
   "metadata": {},
   "outputs": [],
   "source": [
    "# 99 -> label"
   ]
  },
  {
   "cell_type": "code",
   "execution_count": 581,
   "id": "67fb7791",
   "metadata": {},
   "outputs": [],
   "source": [
    "df = pd.DataFrame(0, index=np.arange((len(data['HashContatto'].unique()) + len(data['HashMessaggio'].unique()))), columns=column_names) "
   ]
  },
  {
   "cell_type": "code",
   "execution_count": 582,
   "id": "365b64b4",
   "metadata": {},
   "outputs": [],
   "source": [
    "open_rate_comm_dict = rate_comm_time_slot(data, 'Open')\n",
    "click_rate_comm_dict = rate_comm_time_slot(data, 'Click')"
   ]
  },
  {
   "cell_type": "code",
   "execution_count": 583,
   "id": "27433f68",
   "metadata": {},
   "outputs": [],
   "source": [
    "dk = {}\n",
    "for cont in data['HashContatto'].unique():\n",
    "    if cont not in dk:\n",
    "        dk[cont] = {'HashMessaggio': []}\n",
    "        \n",
    "for i in range(len(data)):\n",
    "    dk[data['HashContatto'][i]]['HashMessaggio'].append(data['HashMessaggio'][i])\n",
    "    \n",
    "for key in dk:\n",
    "    vals = list(set(dk[key]['HashMessaggio']))\n",
    "    dk[key]['HashMessaggio'] = vals"
   ]
  },
  {
   "cell_type": "code",
   "execution_count": null,
   "id": "9c9ae077",
   "metadata": {},
   "outputs": [],
   "source": [
    "sent_open_hour_range = 36\n",
    "open_click_hour_range = 24\n",
    "current = 0\n",
    "\n",
    "for cont in dk:\n",
    "    for mex in dk[cont]['HashMessaggio']:\n",
    "        # HashContatto\n",
    "        df.iloc[current, 0] = cont\n",
    "        fitSA, y = compute_fitSA(mex, cont, sent_open_hour_range, data)\n",
    "        # Label \"Sent\" TODO: convert in minutes and then into [0, 1]\n",
    "        df.iloc[current, 99] = y\n",
    "        # fitSA\n",
    "        df.iloc[current, 97] = fitSA\n",
    "        # fitAC\n",
    "        fitAC = compute_fitAC(mex, cont, open_click_hour_range, data)\n",
    "        df.iloc[current, 98] = fitAC\n",
    "        # index for compute opens and clicks of communication\n",
    "        index_comm = get_index_for_comm(hash_mex, hash_contact, data)\n",
    "        # open rate communication\n",
    "        df.iloc[current, 49:73] = open_rate_comm_dict[data['COMUNICATION.COMUNICATION_NAME'][index_comm]]['time_slot_distribution']\n",
    "        # click rate communication\n",
    "        df.iloc[current, 73:97] = click_rate_comm_dict[data['COMUNICATION.COMUNICATION_NAME'][index_comm]]['time_slot_distribution']\n",
    "        current += 1\n",
    "        if current % 1000 == 0:\n",
    "            print(current)"
   ]
  },
  {
   "cell_type": "code",
   "execution_count": null,
   "id": "70addd5d",
   "metadata": {},
   "outputs": [],
   "source": [
    "df = df.iloc[:current, :]"
   ]
  },
  {
   "cell_type": "code",
   "execution_count": null,
   "id": "1393f548",
   "metadata": {},
   "outputs": [],
   "source": [
    "# open 24"
   ]
  },
  {
   "cell_type": "code",
   "execution_count": null,
   "id": "caaa8823",
   "metadata": {},
   "outputs": [],
   "source": [
    "d = dp_open_rate_mex_time_slot(data)"
   ]
  },
  {
   "cell_type": "code",
   "execution_count": null,
   "id": "81be0082",
   "metadata": {},
   "outputs": [],
   "source": [
    "for i in range(df):\n",
    "     df.iloc[i, 1:25] = d[df.iloc[i, 0]] # df.iloc[i, 0] is HashContatto"
   ]
  },
  {
   "cell_type": "code",
   "execution_count": null,
   "id": "fbd566b0",
   "metadata": {},
   "outputs": [],
   "source": [
    "# click 24"
   ]
  },
  {
   "cell_type": "code",
   "execution_count": null,
   "id": "7a935434",
   "metadata": {},
   "outputs": [],
   "source": [
    "d2 = dp_click_rate_mex_time_slot(data)"
   ]
  },
  {
   "cell_type": "code",
   "execution_count": null,
   "id": "87bc96ef",
   "metadata": {},
   "outputs": [],
   "source": [
    "for i in range(len(df)):\n",
    "     df.iloc[i, 25:49] = d2[df.iloc[i, 0]]"
   ]
  },
  {
   "cell_type": "code",
   "execution_count": null,
   "id": "35667c5e",
   "metadata": {},
   "outputs": [],
   "source": [
    "# clicked but not opened have fitAC as -1, so we assign the average of the fitAC of mex cicked and opened\n",
    "avgAC = avg_fitAC(df)\n",
    "\n",
    "for i in range(len(df)):\n",
    "    if df['fitAC'][i] == -1:\n",
    "        df['fitAC'][i] = avgAC"
   ]
  },
  {
   "cell_type": "code",
   "execution_count": null,
   "id": "7bbe5c79",
   "metadata": {},
   "outputs": [],
   "source": [
    "df"
   ]
  },
  {
   "cell_type": "code",
   "execution_count": null,
   "id": "1dda57b9",
   "metadata": {},
   "outputs": [],
   "source": []
  }
 ],
 "metadata": {
  "kernelspec": {
   "display_name": "conda_python3",
   "language": "python",
   "name": "conda_python3"
  },
  "language_info": {
   "codemirror_mode": {
    "name": "ipython",
    "version": 3
   },
   "file_extension": ".py",
   "mimetype": "text/x-python",
   "name": "python",
   "nbconvert_exporter": "python",
   "pygments_lexer": "ipython3",
   "version": "3.6.13"
  }
 },
 "nbformat": 4,
 "nbformat_minor": 5
}
