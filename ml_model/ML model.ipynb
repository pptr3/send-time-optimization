{
 "cells": [
  {
   "cell_type": "code",
   "execution_count": 4,
   "id": "4a28d61c",
   "metadata": {},
   "outputs": [],
   "source": [
    "import pandas as pd\n",
    "import numpy as np\n",
    "import matplotlib.pyplot as plt\n",
    "import statistics\n",
    "import math"
   ]
  },
  {
   "cell_type": "code",
   "execution_count": 502,
   "id": "ca76928a",
   "metadata": {},
   "outputs": [
    {
     "name": "stderr",
     "output_type": "stream",
     "text": [
      "/home/ec2-user/anaconda3/envs/python3/lib/python3.6/site-packages/IPython/core/interactiveshell.py:3072: DtypeWarning: Columns (8) have mixed types.Specify dtype option on import or set low_memory=False.\n",
      "  interactivity=interactivity, compiler=compiler, result=result)\n"
     ]
    }
   ],
   "source": [
    "data = pd.read_csv(\"s3://ai-diennea/data/export_wonkit_20210630102441.csv.gz\")\n",
    "# add the day of the week column\n",
    "day_of_week = []\n",
    "for i in range(len(data)):\n",
    "    day_of_week.append(pd.to_datetime(data[\"EVENT.DATE\"][i], format='%Y/%m/%d %H:%M').day_name())\n",
    "data['day_of_week'] = pd.DataFrame(day_of_week)"
   ]
  },
  {
   "cell_type": "code",
   "execution_count": 503,
   "id": "7fd26935",
   "metadata": {},
   "outputs": [],
   "source": [
    "len(data)\n",
    "data = data.iloc[:10000, :]"
   ]
  },
  {
   "cell_type": "code",
   "execution_count": 539,
   "id": "9de9510e",
   "metadata": {},
   "outputs": [],
   "source": [
    "def exp_decay_fit(x, sent_open_hour_range):\n",
    "    if x > sent_open_hour*60:\n",
    "        return .0\n",
    "    return math.exp(((-math.log(2)/(sent_open_hour*60))*x) + math.log(2))-1\n",
    "\n",
    "\n",
    "def compute_fitSA(hash_mex, hash_contact, sent_open_hour_range, data):\n",
    "    sents, opens, clicks = [], [], []\n",
    "    \n",
    "    for i in range(len(data)):\n",
    "        if data['HashMessaggio'][i] == hash_mex and data['HashContatto'][i] == hash_contact:\n",
    "            if data['EVENT.TYPE'][i] == 'Sent':\n",
    "                sents.append(pd.to_datetime(data[\"EVENT.DATE\"][i], format='%Y/%m/%d %H:%M'))\n",
    "            elif data['EVENT.TYPE'][i] == 'Open':\n",
    "                opens.append(pd.to_datetime(data[\"EVENT.DATE\"][i], format='%Y/%m/%d %H:%M'))\n",
    "            elif data['EVENT.TYPE'][i] == 'Click':\n",
    "                clicks.append(pd.to_datetime(data[\"EVENT.DATE\"][i], format='%Y/%m/%d %H:%M'))\n",
    "    y = sents[0] # since this function gives me for free the y, I return it here\n",
    "    # if there are multiple opens/clicks, take the oldest one (the first that has been opened/clicked)\n",
    "    oldest = None\n",
    "    if opens != []:\n",
    "        for i in opens:\n",
    "            if oldest is None:\n",
    "                oldest = i\n",
    "            elif i < oldest:\n",
    "                oldest = i\n",
    "    elif clicks != []:\n",
    "        for i in clicks:\n",
    "            if oldest is None:\n",
    "                oldest = i\n",
    "            elif i < oldest:\n",
    "                oldest = i\n",
    "    else: # this means that the mail has never been opened/clicked\n",
    "        return .0, y\n",
    "\n",
    "    # compute minutes of the distance between sent-open/sent-click\n",
    "    mins = ((oldest - sents[0]).days*24*60) + ((oldest - sents[0]).seconds//3600)*60 + ((oldest - sents[0]).seconds//60)%60\n",
    "    \n",
    "    return exp_decay_fit(mins, sent_open_hour_range), y\n",
    "\n",
    "def compute_fitAC(hash_mex, hash_contact, open_click_hour_range, data):\n",
    "    opens, clicks = [], []\n",
    "\n",
    "    for i in range(len(data)):\n",
    "        if data['HashMessaggio'][i] == hash_mex and data['HashContatto'][i] == hash_contact:\n",
    "            if data['EVENT.TYPE'][i] == 'Open':\n",
    "                opens.append(pd.to_datetime(data[\"EVENT.DATE\"][i], format='%Y/%m/%d %H:%M'))\n",
    "            elif data['EVENT.TYPE'][i] == 'Click':\n",
    "                clicks.append(pd.to_datetime(data[\"EVENT.DATE\"][i], format='%Y/%m/%d %H:%M'))\n",
    "\n",
    "    oldest_open = None\n",
    "    oldest_click = None\n",
    "\n",
    "    if opens == [] and clicks != []: # messege clicked but open is not detected: I assign -1 and then a function\n",
    "        return -1                    # computes the avg\n",
    "    \n",
    "    if clicks == []: # covers cases when a message is sent and is never open and never clicked\n",
    "        return .0\n",
    "    elif opens != [] and clicks != []:\n",
    "        for i in opens: # get oldest open\n",
    "            if oldest_open is None:\n",
    "                oldest_open = i\n",
    "            elif i < oldest_open:\n",
    "                oldest_open = i\n",
    "        for i in clicks: # get oldest click\n",
    "            if oldest_click is None:\n",
    "                oldest_click = i\n",
    "            elif i < oldest_click:\n",
    "                oldest_click = i\n",
    "    # compute minutes of the distance between sent-open/sent-click\n",
    "    mins = ((oldest_click - oldest_open).days*24*60) + ((oldest_click - oldest_open).seconds//3600)*60 + ((oldest_click - oldest_open).seconds//60)%60\n",
    "    return exp_decay_fit(mins, open_click_hour_range)\n",
    "\n",
    "def avg_fitAC(df):\n",
    "    fitAC_column = df['fitAC'].to_list()\n",
    "    l = []\n",
    "    for i in fitAC_column:\n",
    "        if i != -1:\n",
    "            l.append(i)\n",
    "    return statistics.mean(l)"
   ]
  },
  {
   "cell_type": "code",
   "execution_count": 518,
   "id": "d170eec2",
   "metadata": {},
   "outputs": [],
   "source": [
    "# (messaggi aperti fascia oraria 0-1 / numero totali di mail aperte in generale dal contatto)\n",
    "def open_rate_mex_time_slot(hash_contact, data): # TODO: add parameter for [0, 24]\n",
    "    mex_plus_contact_distinct = []\n",
    "    dates = []\n",
    "    for i in range(len(data)):\n",
    "        if \"nan\" not in str(data[\"EVENT.DATE\"][i]) and data['HashContatto'][i] == hash_contact and str(data[\"EVENT.TYPE\"][i]) == 'Open' and (data[\"HashMessaggio\"][i] + data['HashContatto'][i]) not in mex_plus_contact_distinct:\n",
    "            mex_plus_contact_distinct.append(data[\"HashMessaggio\"][i] + data['HashContatto'][i])\n",
    "            dates.append(pd.to_datetime(data[\"EVENT.DATE\"][i], format='%Y/%m/%d %H:%M'))\n",
    "    # add messages clicked but not opened\n",
    "    for i in range(len(data)):\n",
    "        if \"nan\" not in str(data[\"EVENT.DATE\"][i]) and data['HashContatto'][i] == hash_contact and str(data[\"EVENT.TYPE\"][i]) == 'Click' and (data[\"HashMessaggio\"][i] + data['HashContatto'][i]) not in mex_plus_contact_distinct:\n",
    "            mex_plus_contact_distinct.append(data[\"HashMessaggio\"][i] + data['HashContatto'][i])\n",
    "            dates.append(pd.to_datetime(data[\"EVENT.DATE\"][i], format='%Y/%m/%d %H:%M'))\n",
    "\n",
    "    tot_mex_opened = len(mex_plus_contact_distinct)\n",
    "    if len(dates) == 0: # it means that the user has never opened messages\n",
    "        return np.zeros((24,))\n",
    "    df = pd.DataFrame(dates, columns =['dates'])\n",
    "\n",
    "    df = df.assign(session=pd.cut(df[\"dates\"].dt.hour,\n",
    "                                [0,1,2,3,4,5,6,7,8,9,10,11,12,13,14,15,16,17,18,19,20,21,22,23,24],\n",
    "                                labels=['0-1','1-2','2-3','3-4','4-5','5-6','6-7', '7-8', '8-9', '9-10', '10-11', '11-12', '12-13', '13-14', '14-15', '15-16', '16-17', '17-18', '18-19', '19-20', '20-21', '21-22', '22-23', '23-24'],\n",
    "                                include_lowest=True))\n",
    "    numpy_output = df['session'].value_counts().sort_index().to_numpy() / tot_mex_opened\n",
    "\n",
    "    return numpy_output\n",
    "\n",
    "\n",
    "def dp_open_rate_mex_time_slot(data):\n",
    "    d = {}\n",
    "    for i in data[\"HashContatto\"].unique():\n",
    "        if i not in d:\n",
    "            d[i] = None\n",
    "    for key in d:\n",
    "        d[key] = open_rate_mex_time_slot(key, data)\n",
    "\n",
    "    return d\n",
    "\n",
    "\n",
    "# (messaggi clickati fascia oraria 0-1 / numero totali di mail clickate in generale)\n",
    "def click_rate_mex_time_slot(hash_contact, data): # TODO: add parameter for [0, 24]\n",
    "    mex_plus_contact_distinct = []\n",
    "    dates = []\n",
    "    for i in range(len(data)):\n",
    "        if \"nan\" not in str(data[\"EVENT.DATE\"][i]) and data['HashContatto'][i] == hash_contact and str(data[\"EVENT.TYPE\"][i]) == 'Click' and (data[\"HashMessaggio\"][i] + data['HashContatto'][i]) not in mex_plus_contact_distinct:\n",
    "            mex_plus_contact_distinct.append(data[\"HashMessaggio\"][i] + data['HashContatto'][i])\n",
    "            dates.append(pd.to_datetime(data[\"EVENT.DATE\"][i], format='%Y/%m/%d %H:%M'))\n",
    "\n",
    "    tot_mex_opened = len(mex_plus_contact_distinct)\n",
    "    if len(dates) == 0: # it means that the user has never clicked messages\n",
    "        return np.zeros((24,))\n",
    "    df = pd.DataFrame(dates, columns =['dates'])\n",
    "\n",
    "    df = df.assign(session=pd.cut(df[\"dates\"].dt.hour,\n",
    "                                [0,1,2,3,4,5,6,7,8,9,10,11,12,13,14,15,16,17,18,19,20,21,22,23,24],\n",
    "                                labels=['0-1','1-2','2-3','3-4','4-5','5-6','6-7', '7-8', '8-9', '9-10', '10-11', '11-12', '12-13', '13-14', '14-15', '15-16', '16-17', '17-18', '18-19', '19-20', '20-21', '21-22', '22-23', '23-24'],\n",
    "                                include_lowest=True))\n",
    "    \n",
    "\n",
    "    numpy_output = df['session'].value_counts().sort_index().to_numpy() / tot_mex_opened\n",
    "    return numpy_output\n",
    "\n",
    "def dp_open_rate_mex_time_slot(data):\n",
    "    d = {}\n",
    "    for i in data[\"HashContatto\"].unique():\n",
    "        if i not in d:\n",
    "            d[i] = None\n",
    "    for key in d:\n",
    "        d[key] = click_rate_mex_time_slot(key, data)\n",
    "\n",
    "    return d"
   ]
  },
  {
   "cell_type": "code",
   "execution_count": 494,
   "id": "86dce297",
   "metadata": {},
   "outputs": [],
   "source": [
    "# numero di messaggi aperti tra le 0-1 di quella Comm / Quanti messaggi distinti sono stati aperti/clickati in quella comunicazione\n",
    "# return a dict where in `d[key]['time_slot_distribution']` there is the 24 vector time slot distribution\n",
    "def rate_comm_time_slot(data, open_or_click):\n",
    "    if open_or_click != 'Open' and open_or_click != 'Click':\n",
    "        raise Exception('open_or_click value must be either \\'Open\\' or \\'Click\\'') \n",
    "    d = {}\n",
    "    for i in data[\"COMUNICATION.COMUNICATION_NAME\"].unique():\n",
    "        if i not in d:\n",
    "            d[i] = {'tot_open': 0, 'dates': [], 'time_slot_distribution': None}\n",
    "\n",
    "    for comm in data['COMUNICATION.COMUNICATION_NAME'].unique():\n",
    "        mex_plus_contact_distinct = []\n",
    "        for i in range(len(data)):\n",
    "            if data['COMUNICATION.COMUNICATION_NAME'][i] == comm and str(data[\"EVENT.TYPE\"][i]) == open_or_click and (data[\"HashMessaggio\"][i] + data['HashContatto'][i]) not in mex_plus_contact_distinct:\n",
    "                mex_plus_contact_distinct.append(data[\"HashMessaggio\"][i] + data['HashContatto'][i])\n",
    "                d[data['COMUNICATION.COMUNICATION_NAME'][i]]['tot_open'] += 1\n",
    "                d[data['COMUNICATION.COMUNICATION_NAME'][i]]['dates'].append(pd.to_datetime(data[\"EVENT.DATE\"][i], format='%Y/%m/%d %H:%M'))\n",
    "    for key, value in d.items():\n",
    "        if len(d[key]['dates']) == 0: # it means that the communcation has never been opened\n",
    "            return np.zeros((24,))\n",
    "        df = pd.DataFrame(d[key]['dates'], columns =['dates'])\n",
    "\n",
    "        df = df.assign(session=pd.cut(df[\"dates\"].dt.hour,\n",
    "                                    [0,1,2,3,4,5,6,7,8,9,10,11,12,13,14,15,16,17,18,19,20,21,22,23,24],\n",
    "                                    labels=['0-1','1-2','2-3','3-4','4-5','5-6','6-7', '7-8', '8-9', '9-10', '10-11', '11-12', '12-13', '13-14', '14-15', '15-16', '16-17', '17-18', '18-19', '19-20', '20-21', '21-22', '22-23', '23-24'],\n",
    "                                    include_lowest=True))\n",
    "\n",
    "        d[key]['time_slot_distribution'] = df['session'].value_counts().sort_index().to_numpy() / d[key]['tot_open']\n",
    "\n",
    "    return d\n",
    "\n",
    "def get_index_for_comm(hash_mex, hash_contact, data):\n",
    "    return data.index[(data['HashMessaggio'] == hash_mex) & (data['HashContatto'] == hash_contact)][0] # get first index because the others are the same\n",
    "    "
   ]
  },
  {
   "cell_type": "markdown",
   "id": "d3399eaa",
   "metadata": {},
   "source": [
    "## Create all dataset"
   ]
  },
  {
   "cell_type": "markdown",
   "id": "2fc84c8d",
   "metadata": {},
   "source": [
    "OR = open rate <br>\n",
    "CR = click rate <br>\n",
    "OR-C = open rate per communication <br>\n",
    "CR-C = click rate per communication<br>\n",
    "fitSA = fitness Sent-Apertura <br>\n",
    "fitAC = fitness Apertura-Click"
   ]
  },
  {
   "cell_type": "code",
   "execution_count": 504,
   "id": "fdddaff6",
   "metadata": {},
   "outputs": [],
   "source": [
    "column_names = [\"HashContatto\", \"OR 1\", \"OR 2\", \"OR 3\", \"OR 4\", \"OR 5\", \"OR 6\", \"OR 7\", \"OR 8\", \"OR 9\", \"OR 10\", \"OR 11\", \"OR 12\",\n",
    "\"OR 13\", \"OR 14\", \"OR 15\", \"OR 16\", \"OR 17\", \"OR 18\", \"OR 19\", \"OR 20\", \"OR 21\", \"OR 22\", \"OR 23\", \"OR 24\",\n",
    "\n",
    "\"CR 1\", \"CR 2\", \"CR 3\", \"CR 4\", \"CR 5\", \"CR 6\", \"CR 7\", \"CR 8\", \"CR 9\", \"CR 10\", \"CR 11\", \"CR 12\",\n",
    "\"CR 13\", \"CR 14\", \"CR 15\", \"CR 16\", \"CR 17\", \"CR 18\", \"CR 19\", \"CR 20\", \"CR 21\", \"CR 22\", \"CR 23\", \"CR 24\",\n",
    "\n",
    "\"OR-C 1\", \"OR-C 2\", \"OR-C 3\", \"OR-C 4\", \"OR-C 5\", \"OR-C 6\", \"OR-C 7\", \"OR-C 8\", \"OR 9-C\", \"OR-C 10\", \"OR-C 11\", \"OR-C 12\", \n",
    "\"OR-C 13\", \"OR-C 14\", \"OR-C 15\", \"OR-C 16\", \"OR-C 17\", \"OR-C 18\", \"OR-C 19\", \"OR-C 20\", \"OR-C 21\", \"OR-C 22\", \"OR-C 23\", \"OR-C 24\",\n",
    "\n",
    "\"CR-C 1\", \"CR-C 2\", \"CR-C 3\", \"CR-C 4\", \"CR-C 5\", \"CR-C 6\", \"CR-C 7\", \"CR-C 8\", \"CR-C 9\", \"CR-C 10\", \"CR-C 11\", \"CR-C 12\", \n",
    "\"CR-C 13\", \"CR-C 14\", \"CR-C 15\", \"CR-C 16\", \"CR-C 17\", \"CR-C 18\", \"CR-C 19\", \"CR-C 20\", \"CR-C 21\", \"CR-C 22\", \"CR-C 23\", \"CR-C 24\",\n",
    "\"fitSA\", \"fitAC\", \"Label\"]\n",
    "\n",
    "df = pd.DataFrame(columns = column_names)"
   ]
  },
  {
   "cell_type": "code",
   "execution_count": 505,
   "id": "9b1ae00e",
   "metadata": {},
   "outputs": [],
   "source": [
    "# 99 -> label"
   ]
  },
  {
   "cell_type": "code",
   "execution_count": 506,
   "id": "0b8087fe",
   "metadata": {},
   "outputs": [],
   "source": [
    "df = pd.DataFrame(0, index=np.arange((len(data['HashContatto'].unique()) + len(data['HashMessaggio'].unique()))), columns=column_names) "
   ]
  },
  {
   "cell_type": "code",
   "execution_count": 507,
   "id": "51e8311e",
   "metadata": {},
   "outputs": [],
   "source": [
    "open_rate_comm_dict = rate_comm_time_slot(data, 'Open')\n",
    "click_rate_comm_dict = rate_comm_time_slot(data, 'Click')"
   ]
  },
  {
   "cell_type": "code",
   "execution_count": 509,
   "id": "2fe18586",
   "metadata": {},
   "outputs": [],
   "source": [
    "dk = {}\n",
    "for cont in data['HashContatto'].unique():\n",
    "    if cont not in dk:\n",
    "        dk[cont] = {'HashMessaggio': []}\n",
    "        \n",
    "for i in range(len(data)):\n",
    "    dk[data['HashContatto'][i]]['HashMessaggio'].append(data['HashMessaggio'][i])\n",
    "    \n",
    "for key in dk:\n",
    "    vals = list(set(dk[key]['HashMessaggio']))\n",
    "    dk[key]['HashMessaggio'] = vals"
   ]
  },
  {
   "cell_type": "code",
   "execution_count": null,
   "id": "3d7b86eb",
   "metadata": {},
   "outputs": [
    {
     "name": "stdout",
     "output_type": "stream",
     "text": [
      "100\n",
      "200\n"
     ]
    }
   ],
   "source": [
    "sent_open_hour_range = 36\n",
    "open_click_hour_range = 24\n",
    "current = 0\n",
    "\n",
    "for cont in dk:\n",
    "    for mex in dk[cont]['HashMessaggio']:\n",
    "        # HashContatto\n",
    "        df.iloc[current, 0] = cont\n",
    "        fitSA, y = compute_fitSA(mex, cont, sent_open_hour_range, data)\n",
    "        # Label \"Sent\" TODO: convert in minutes and then into [0, 1]\n",
    "        df.iloc[current, 99] = y\n",
    "        # fitSA\n",
    "        df.iloc[current, 97] = fitSA\n",
    "        # fitAC\n",
    "        fitAC = compute_fitAC(mex, cont, open_click_hour_range, data)\n",
    "        df.iloc[current, 98] = fitAC\n",
    "        # index for compute opens and clicks of communication\n",
    "        index_comm = get_index_for_comm(hash_mex, hash_contact, data)\n",
    "        # open rate communication\n",
    "        df.iloc[current, 49:73] = open_rate_comm_dict[data['COMUNICATION.COMUNICATION_NAME'][index_comm]]['time_slot_distribution']\n",
    "        # click rate communication\n",
    "        df.iloc[current, 73:97] = click_rate_comm_dict[data['COMUNICATION.COMUNICATION_NAME'][index_comm]]['time_slot_distribution']\n",
    "        current += 1\n",
    "        if current % 100 == 0:\n",
    "            print(current)"
   ]
  },
  {
   "cell_type": "code",
   "execution_count": null,
   "id": "f9754a9a",
   "metadata": {},
   "outputs": [],
   "source": [
    "# open 24"
   ]
  },
  {
   "cell_type": "code",
   "execution_count": 285,
   "id": "a105d11e",
   "metadata": {},
   "outputs": [
    {
     "ename": "KeyboardInterrupt",
     "evalue": "",
     "output_type": "error",
     "traceback": [
      "\u001b[0;31m---------------------------------------------------------------------------\u001b[0m",
      "\u001b[0;31mKeyboardInterrupt\u001b[0m                         Traceback (most recent call last)",
      "\u001b[0;32m<ipython-input-285-054b720fc841>\u001b[0m in \u001b[0;36m<module>\u001b[0;34m\u001b[0m\n\u001b[0;32m----> 1\u001b[0;31m \u001b[0md\u001b[0m \u001b[0;34m=\u001b[0m \u001b[0mdp_open_rate_mex_time_slot\u001b[0m\u001b[0;34m(\u001b[0m\u001b[0mdata\u001b[0m\u001b[0;34m)\u001b[0m\u001b[0;34m\u001b[0m\u001b[0;34m\u001b[0m\u001b[0m\n\u001b[0m",
      "\u001b[0;32m<ipython-input-284-0fdb75c12bc3>\u001b[0m in \u001b[0;36mdp_open_rate_mex_time_slot\u001b[0;34m(data)\u001b[0m\n\u001b[1;32m     37\u001b[0m             \u001b[0md\u001b[0m\u001b[0;34m[\u001b[0m\u001b[0mi\u001b[0m\u001b[0;34m]\u001b[0m \u001b[0;34m=\u001b[0m \u001b[0;32mNone\u001b[0m\u001b[0;34m\u001b[0m\u001b[0;34m\u001b[0m\u001b[0m\n\u001b[1;32m     38\u001b[0m     \u001b[0;32mfor\u001b[0m \u001b[0mkey\u001b[0m \u001b[0;32min\u001b[0m \u001b[0md\u001b[0m\u001b[0;34m:\u001b[0m\u001b[0;34m\u001b[0m\u001b[0;34m\u001b[0m\u001b[0m\n\u001b[0;32m---> 39\u001b[0;31m         \u001b[0md\u001b[0m\u001b[0;34m[\u001b[0m\u001b[0mkey\u001b[0m\u001b[0;34m]\u001b[0m \u001b[0;34m=\u001b[0m \u001b[0mopen_rate_mex_time_slot\u001b[0m\u001b[0;34m(\u001b[0m\u001b[0mkey\u001b[0m\u001b[0;34m,\u001b[0m \u001b[0mdata\u001b[0m\u001b[0;34m)\u001b[0m\u001b[0;34m\u001b[0m\u001b[0;34m\u001b[0m\u001b[0m\n\u001b[0m\u001b[1;32m     40\u001b[0m \u001b[0;34m\u001b[0m\u001b[0m\n\u001b[1;32m     41\u001b[0m     \u001b[0;32mreturn\u001b[0m \u001b[0md\u001b[0m\u001b[0;34m\u001b[0m\u001b[0;34m\u001b[0m\u001b[0m\n",
      "\u001b[0;32m<ipython-input-284-0fdb75c12bc3>\u001b[0m in \u001b[0;36mopen_rate_mex_time_slot\u001b[0;34m(hash_contact, data)\u001b[0m\n\u001b[1;32m      4\u001b[0m     \u001b[0mdates\u001b[0m \u001b[0;34m=\u001b[0m \u001b[0;34m[\u001b[0m\u001b[0;34m]\u001b[0m\u001b[0;34m\u001b[0m\u001b[0;34m\u001b[0m\u001b[0m\n\u001b[1;32m      5\u001b[0m     \u001b[0;32mfor\u001b[0m \u001b[0mi\u001b[0m \u001b[0;32min\u001b[0m \u001b[0mrange\u001b[0m\u001b[0;34m(\u001b[0m\u001b[0mlen\u001b[0m\u001b[0;34m(\u001b[0m\u001b[0mdata\u001b[0m\u001b[0;34m)\u001b[0m\u001b[0;34m)\u001b[0m\u001b[0;34m:\u001b[0m\u001b[0;34m\u001b[0m\u001b[0;34m\u001b[0m\u001b[0m\n\u001b[0;32m----> 6\u001b[0;31m         \u001b[0;32mif\u001b[0m \u001b[0;34m\"nan\"\u001b[0m \u001b[0;32mnot\u001b[0m \u001b[0;32min\u001b[0m \u001b[0mstr\u001b[0m\u001b[0;34m(\u001b[0m\u001b[0mdata\u001b[0m\u001b[0;34m[\u001b[0m\u001b[0;34m\"EVENT.DATE\"\u001b[0m\u001b[0;34m]\u001b[0m\u001b[0;34m[\u001b[0m\u001b[0mi\u001b[0m\u001b[0;34m]\u001b[0m\u001b[0;34m)\u001b[0m \u001b[0;32mand\u001b[0m \u001b[0mdata\u001b[0m\u001b[0;34m[\u001b[0m\u001b[0;34m'HashContatto'\u001b[0m\u001b[0;34m]\u001b[0m\u001b[0;34m[\u001b[0m\u001b[0mi\u001b[0m\u001b[0;34m]\u001b[0m \u001b[0;34m==\u001b[0m \u001b[0mhash_contact\u001b[0m \u001b[0;32mand\u001b[0m \u001b[0mstr\u001b[0m\u001b[0;34m(\u001b[0m\u001b[0mdata\u001b[0m\u001b[0;34m[\u001b[0m\u001b[0;34m\"EVENT.TYPE\"\u001b[0m\u001b[0;34m]\u001b[0m\u001b[0;34m[\u001b[0m\u001b[0mi\u001b[0m\u001b[0;34m]\u001b[0m\u001b[0;34m)\u001b[0m \u001b[0;34m==\u001b[0m \u001b[0;34m'Open'\u001b[0m \u001b[0;32mand\u001b[0m \u001b[0;34m(\u001b[0m\u001b[0mdata\u001b[0m\u001b[0;34m[\u001b[0m\u001b[0;34m\"HashMessaggio\"\u001b[0m\u001b[0;34m]\u001b[0m\u001b[0;34m[\u001b[0m\u001b[0mi\u001b[0m\u001b[0;34m]\u001b[0m \u001b[0;34m+\u001b[0m \u001b[0mdata\u001b[0m\u001b[0;34m[\u001b[0m\u001b[0;34m'HashContatto'\u001b[0m\u001b[0;34m]\u001b[0m\u001b[0;34m[\u001b[0m\u001b[0mi\u001b[0m\u001b[0;34m]\u001b[0m\u001b[0;34m)\u001b[0m \u001b[0;32mnot\u001b[0m \u001b[0;32min\u001b[0m \u001b[0mmex_plus_contact_distinct\u001b[0m\u001b[0;34m:\u001b[0m\u001b[0;34m\u001b[0m\u001b[0;34m\u001b[0m\u001b[0m\n\u001b[0m\u001b[1;32m      7\u001b[0m             \u001b[0mmex_plus_contact_distinct\u001b[0m\u001b[0;34m.\u001b[0m\u001b[0mappend\u001b[0m\u001b[0;34m(\u001b[0m\u001b[0mdata\u001b[0m\u001b[0;34m[\u001b[0m\u001b[0;34m\"HashMessaggio\"\u001b[0m\u001b[0;34m]\u001b[0m\u001b[0;34m[\u001b[0m\u001b[0mi\u001b[0m\u001b[0;34m]\u001b[0m \u001b[0;34m+\u001b[0m \u001b[0mdata\u001b[0m\u001b[0;34m[\u001b[0m\u001b[0;34m'HashContatto'\u001b[0m\u001b[0;34m]\u001b[0m\u001b[0;34m[\u001b[0m\u001b[0mi\u001b[0m\u001b[0;34m]\u001b[0m\u001b[0;34m)\u001b[0m\u001b[0;34m\u001b[0m\u001b[0;34m\u001b[0m\u001b[0m\n\u001b[1;32m      8\u001b[0m             \u001b[0mdates\u001b[0m\u001b[0;34m.\u001b[0m\u001b[0mappend\u001b[0m\u001b[0;34m(\u001b[0m\u001b[0mpd\u001b[0m\u001b[0;34m.\u001b[0m\u001b[0mto_datetime\u001b[0m\u001b[0;34m(\u001b[0m\u001b[0mdata\u001b[0m\u001b[0;34m[\u001b[0m\u001b[0;34m\"EVENT.DATE\"\u001b[0m\u001b[0;34m]\u001b[0m\u001b[0;34m[\u001b[0m\u001b[0mi\u001b[0m\u001b[0;34m]\u001b[0m\u001b[0;34m,\u001b[0m \u001b[0mformat\u001b[0m\u001b[0;34m=\u001b[0m\u001b[0;34m'%Y/%m/%d %H:%M'\u001b[0m\u001b[0;34m)\u001b[0m\u001b[0;34m)\u001b[0m\u001b[0;34m\u001b[0m\u001b[0;34m\u001b[0m\u001b[0m\n",
      "\u001b[0;32m~/anaconda3/envs/python3/lib/python3.6/site-packages/pandas/core/series.py\u001b[0m in \u001b[0;36m__getitem__\u001b[0;34m(self, key)\u001b[0m\n\u001b[1;32m    880\u001b[0m \u001b[0;34m\u001b[0m\u001b[0m\n\u001b[1;32m    881\u001b[0m         \u001b[0;32melif\u001b[0m \u001b[0mkey_is_scalar\u001b[0m\u001b[0;34m:\u001b[0m\u001b[0;34m\u001b[0m\u001b[0;34m\u001b[0m\u001b[0m\n\u001b[0;32m--> 882\u001b[0;31m             \u001b[0;32mreturn\u001b[0m \u001b[0mself\u001b[0m\u001b[0;34m.\u001b[0m\u001b[0m_get_value\u001b[0m\u001b[0;34m(\u001b[0m\u001b[0mkey\u001b[0m\u001b[0;34m)\u001b[0m\u001b[0;34m\u001b[0m\u001b[0;34m\u001b[0m\u001b[0m\n\u001b[0m\u001b[1;32m    883\u001b[0m \u001b[0;34m\u001b[0m\u001b[0m\n\u001b[1;32m    884\u001b[0m         \u001b[0;32mif\u001b[0m \u001b[0mis_hashable\u001b[0m\u001b[0;34m(\u001b[0m\u001b[0mkey\u001b[0m\u001b[0;34m)\u001b[0m\u001b[0;34m:\u001b[0m\u001b[0;34m\u001b[0m\u001b[0;34m\u001b[0m\u001b[0m\n",
      "\u001b[0;32m~/anaconda3/envs/python3/lib/python3.6/site-packages/pandas/core/series.py\u001b[0m in \u001b[0;36m_get_value\u001b[0;34m(self, label, takeable)\u001b[0m\n\u001b[1;32m    988\u001b[0m \u001b[0;34m\u001b[0m\u001b[0m\n\u001b[1;32m    989\u001b[0m         \u001b[0;31m# Similar to Index.get_value, but we do not fall back to positional\u001b[0m\u001b[0;34m\u001b[0m\u001b[0;34m\u001b[0m\u001b[0;34m\u001b[0m\u001b[0m\n\u001b[0;32m--> 990\u001b[0;31m         \u001b[0mloc\u001b[0m \u001b[0;34m=\u001b[0m \u001b[0mself\u001b[0m\u001b[0;34m.\u001b[0m\u001b[0mindex\u001b[0m\u001b[0;34m.\u001b[0m\u001b[0mget_loc\u001b[0m\u001b[0;34m(\u001b[0m\u001b[0mlabel\u001b[0m\u001b[0;34m)\u001b[0m\u001b[0;34m\u001b[0m\u001b[0;34m\u001b[0m\u001b[0m\n\u001b[0m\u001b[1;32m    991\u001b[0m         \u001b[0;32mreturn\u001b[0m \u001b[0mself\u001b[0m\u001b[0;34m.\u001b[0m\u001b[0mindex\u001b[0m\u001b[0;34m.\u001b[0m\u001b[0m_get_values_for_loc\u001b[0m\u001b[0;34m(\u001b[0m\u001b[0mself\u001b[0m\u001b[0;34m,\u001b[0m \u001b[0mloc\u001b[0m\u001b[0;34m,\u001b[0m \u001b[0mlabel\u001b[0m\u001b[0;34m)\u001b[0m\u001b[0;34m\u001b[0m\u001b[0;34m\u001b[0m\u001b[0m\n\u001b[1;32m    992\u001b[0m \u001b[0;34m\u001b[0m\u001b[0m\n",
      "\u001b[0;32m~/anaconda3/envs/python3/lib/python3.6/site-packages/pandas/core/indexes/range.py\u001b[0m in \u001b[0;36mget_loc\u001b[0;34m(self, key, method, tolerance)\u001b[0m\n\u001b[1;32m    347\u001b[0m         \u001b[0;32mreturn\u001b[0m \u001b[0mkey\u001b[0m \u001b[0;32min\u001b[0m \u001b[0mself\u001b[0m\u001b[0;34m.\u001b[0m\u001b[0m_range\u001b[0m\u001b[0;34m\u001b[0m\u001b[0;34m\u001b[0m\u001b[0m\n\u001b[1;32m    348\u001b[0m \u001b[0;34m\u001b[0m\u001b[0m\n\u001b[0;32m--> 349\u001b[0;31m     \u001b[0;34m@\u001b[0m\u001b[0mdoc\u001b[0m\u001b[0;34m(\u001b[0m\u001b[0mInt64Index\u001b[0m\u001b[0;34m.\u001b[0m\u001b[0mget_loc\u001b[0m\u001b[0;34m)\u001b[0m\u001b[0;34m\u001b[0m\u001b[0;34m\u001b[0m\u001b[0m\n\u001b[0m\u001b[1;32m    350\u001b[0m     \u001b[0;32mdef\u001b[0m \u001b[0mget_loc\u001b[0m\u001b[0;34m(\u001b[0m\u001b[0mself\u001b[0m\u001b[0;34m,\u001b[0m \u001b[0mkey\u001b[0m\u001b[0;34m,\u001b[0m \u001b[0mmethod\u001b[0m\u001b[0;34m=\u001b[0m\u001b[0;32mNone\u001b[0m\u001b[0;34m,\u001b[0m \u001b[0mtolerance\u001b[0m\u001b[0;34m=\u001b[0m\u001b[0;32mNone\u001b[0m\u001b[0;34m)\u001b[0m\u001b[0;34m:\u001b[0m\u001b[0;34m\u001b[0m\u001b[0;34m\u001b[0m\u001b[0m\n\u001b[1;32m    351\u001b[0m         \u001b[0;32mif\u001b[0m \u001b[0mmethod\u001b[0m \u001b[0;32mis\u001b[0m \u001b[0;32mNone\u001b[0m \u001b[0;32mand\u001b[0m \u001b[0mtolerance\u001b[0m \u001b[0;32mis\u001b[0m \u001b[0;32mNone\u001b[0m\u001b[0;34m:\u001b[0m\u001b[0;34m\u001b[0m\u001b[0;34m\u001b[0m\u001b[0m\n",
      "\u001b[0;31mKeyboardInterrupt\u001b[0m: "
     ]
    }
   ],
   "source": [
    "d = dp_open_rate_mex_time_slot(data)"
   ]
  },
  {
   "cell_type": "code",
   "execution_count": 282,
   "id": "db045d96",
   "metadata": {},
   "outputs": [
    {
     "ename": "KeyboardInterrupt",
     "evalue": "",
     "output_type": "error",
     "traceback": [
      "\u001b[0;31m---------------------------------------------------------------------------\u001b[0m",
      "\u001b[0;31mKeyboardInterrupt\u001b[0m                         Traceback (most recent call last)",
      "\u001b[0;32m<ipython-input-282-d3bc11800645>\u001b[0m in \u001b[0;36m<module>\u001b[0;34m\u001b[0m\n\u001b[1;32m      1\u001b[0m \u001b[0;32mfor\u001b[0m \u001b[0mi\u001b[0m \u001b[0;32min\u001b[0m \u001b[0mrange\u001b[0m\u001b[0;34m(\u001b[0m\u001b[0mlen\u001b[0m\u001b[0;34m(\u001b[0m\u001b[0mdf\u001b[0m\u001b[0;34m)\u001b[0m\u001b[0;34m)\u001b[0m\u001b[0;34m:\u001b[0m\u001b[0;34m\u001b[0m\u001b[0;34m\u001b[0m\u001b[0m\n\u001b[0;32m----> 2\u001b[0;31m      \u001b[0mdf\u001b[0m\u001b[0;34m.\u001b[0m\u001b[0miloc\u001b[0m\u001b[0;34m[\u001b[0m\u001b[0mi\u001b[0m\u001b[0;34m,\u001b[0m \u001b[0;36m1\u001b[0m\u001b[0;34m:\u001b[0m\u001b[0;36m25\u001b[0m\u001b[0;34m]\u001b[0m \u001b[0;34m=\u001b[0m \u001b[0mopen_rate_mex_time_slot\u001b[0m\u001b[0;34m(\u001b[0m\u001b[0mdf\u001b[0m\u001b[0;34m.\u001b[0m\u001b[0miloc\u001b[0m\u001b[0;34m[\u001b[0m\u001b[0mi\u001b[0m\u001b[0;34m,\u001b[0m \u001b[0;36m0\u001b[0m\u001b[0;34m]\u001b[0m\u001b[0;34m,\u001b[0m \u001b[0mdata\u001b[0m\u001b[0;34m)\u001b[0m\u001b[0;34m\u001b[0m\u001b[0;34m\u001b[0m\u001b[0m\n\u001b[0m",
      "\u001b[0;32m<ipython-input-166-d151dabfb1d2>\u001b[0m in \u001b[0;36mopen_rate_mex_time_slot\u001b[0;34m(hash_contact, data)\u001b[0m\n\u001b[1;32m      8\u001b[0m     \u001b[0;31m# add messages clicked but not opened\u001b[0m\u001b[0;34m\u001b[0m\u001b[0;34m\u001b[0m\u001b[0;34m\u001b[0m\u001b[0m\n\u001b[1;32m      9\u001b[0m     \u001b[0;32mfor\u001b[0m \u001b[0mi\u001b[0m \u001b[0;32min\u001b[0m \u001b[0mrange\u001b[0m\u001b[0;34m(\u001b[0m\u001b[0mlen\u001b[0m\u001b[0;34m(\u001b[0m\u001b[0mdata\u001b[0m\u001b[0;34m)\u001b[0m\u001b[0;34m)\u001b[0m\u001b[0;34m:\u001b[0m\u001b[0;34m\u001b[0m\u001b[0;34m\u001b[0m\u001b[0m\n\u001b[0;32m---> 10\u001b[0;31m         \u001b[0;32mif\u001b[0m \u001b[0;34m\"nan\"\u001b[0m \u001b[0;32mnot\u001b[0m \u001b[0;32min\u001b[0m \u001b[0mstr\u001b[0m\u001b[0;34m(\u001b[0m\u001b[0mdata\u001b[0m\u001b[0;34m[\u001b[0m\u001b[0;34m\"EVENT.DATE\"\u001b[0m\u001b[0;34m]\u001b[0m\u001b[0;34m[\u001b[0m\u001b[0mi\u001b[0m\u001b[0;34m]\u001b[0m\u001b[0;34m)\u001b[0m \u001b[0;32mand\u001b[0m \u001b[0mdata\u001b[0m\u001b[0;34m[\u001b[0m\u001b[0;34m'HashContatto'\u001b[0m\u001b[0;34m]\u001b[0m\u001b[0;34m[\u001b[0m\u001b[0mi\u001b[0m\u001b[0;34m]\u001b[0m \u001b[0;34m==\u001b[0m \u001b[0mhash_contact\u001b[0m \u001b[0;32mand\u001b[0m \u001b[0mstr\u001b[0m\u001b[0;34m(\u001b[0m\u001b[0mdata\u001b[0m\u001b[0;34m[\u001b[0m\u001b[0;34m\"EVENT.TYPE\"\u001b[0m\u001b[0;34m]\u001b[0m\u001b[0;34m[\u001b[0m\u001b[0mi\u001b[0m\u001b[0;34m]\u001b[0m\u001b[0;34m)\u001b[0m \u001b[0;34m==\u001b[0m \u001b[0;34m'Click'\u001b[0m \u001b[0;32mand\u001b[0m \u001b[0;34m(\u001b[0m\u001b[0mdata\u001b[0m\u001b[0;34m[\u001b[0m\u001b[0;34m\"HashMessaggio\"\u001b[0m\u001b[0;34m]\u001b[0m\u001b[0;34m[\u001b[0m\u001b[0mi\u001b[0m\u001b[0;34m]\u001b[0m \u001b[0;34m+\u001b[0m \u001b[0mdata\u001b[0m\u001b[0;34m[\u001b[0m\u001b[0;34m'HashContatto'\u001b[0m\u001b[0;34m]\u001b[0m\u001b[0;34m[\u001b[0m\u001b[0mi\u001b[0m\u001b[0;34m]\u001b[0m\u001b[0;34m)\u001b[0m \u001b[0;32mnot\u001b[0m \u001b[0;32min\u001b[0m \u001b[0mmex_plus_contact_distinct\u001b[0m\u001b[0;34m:\u001b[0m\u001b[0;34m\u001b[0m\u001b[0;34m\u001b[0m\u001b[0m\n\u001b[0m\u001b[1;32m     11\u001b[0m             \u001b[0mmex_plus_contact_distinct\u001b[0m\u001b[0;34m.\u001b[0m\u001b[0mappend\u001b[0m\u001b[0;34m(\u001b[0m\u001b[0mdata\u001b[0m\u001b[0;34m[\u001b[0m\u001b[0;34m\"HashMessaggio\"\u001b[0m\u001b[0;34m]\u001b[0m\u001b[0;34m[\u001b[0m\u001b[0mi\u001b[0m\u001b[0;34m]\u001b[0m \u001b[0;34m+\u001b[0m \u001b[0mdata\u001b[0m\u001b[0;34m[\u001b[0m\u001b[0;34m'HashContatto'\u001b[0m\u001b[0;34m]\u001b[0m\u001b[0;34m[\u001b[0m\u001b[0mi\u001b[0m\u001b[0;34m]\u001b[0m\u001b[0;34m)\u001b[0m\u001b[0;34m\u001b[0m\u001b[0;34m\u001b[0m\u001b[0m\n\u001b[1;32m     12\u001b[0m             \u001b[0mdates\u001b[0m\u001b[0;34m.\u001b[0m\u001b[0mappend\u001b[0m\u001b[0;34m(\u001b[0m\u001b[0mpd\u001b[0m\u001b[0;34m.\u001b[0m\u001b[0mto_datetime\u001b[0m\u001b[0;34m(\u001b[0m\u001b[0mdata\u001b[0m\u001b[0;34m[\u001b[0m\u001b[0;34m\"EVENT.DATE\"\u001b[0m\u001b[0;34m]\u001b[0m\u001b[0;34m[\u001b[0m\u001b[0mi\u001b[0m\u001b[0;34m]\u001b[0m\u001b[0;34m,\u001b[0m \u001b[0mformat\u001b[0m\u001b[0;34m=\u001b[0m\u001b[0;34m'%Y/%m/%d %H:%M'\u001b[0m\u001b[0;34m)\u001b[0m\u001b[0;34m)\u001b[0m\u001b[0;34m\u001b[0m\u001b[0;34m\u001b[0m\u001b[0m\n",
      "\u001b[0;32m~/anaconda3/envs/python3/lib/python3.6/site-packages/pandas/core/series.py\u001b[0m in \u001b[0;36m__getitem__\u001b[0;34m(self, key)\u001b[0m\n\u001b[1;32m    880\u001b[0m \u001b[0;34m\u001b[0m\u001b[0m\n\u001b[1;32m    881\u001b[0m         \u001b[0;32melif\u001b[0m \u001b[0mkey_is_scalar\u001b[0m\u001b[0;34m:\u001b[0m\u001b[0;34m\u001b[0m\u001b[0;34m\u001b[0m\u001b[0m\n\u001b[0;32m--> 882\u001b[0;31m             \u001b[0;32mreturn\u001b[0m \u001b[0mself\u001b[0m\u001b[0;34m.\u001b[0m\u001b[0m_get_value\u001b[0m\u001b[0;34m(\u001b[0m\u001b[0mkey\u001b[0m\u001b[0;34m)\u001b[0m\u001b[0;34m\u001b[0m\u001b[0;34m\u001b[0m\u001b[0m\n\u001b[0m\u001b[1;32m    883\u001b[0m \u001b[0;34m\u001b[0m\u001b[0m\n\u001b[1;32m    884\u001b[0m         \u001b[0;32mif\u001b[0m \u001b[0mis_hashable\u001b[0m\u001b[0;34m(\u001b[0m\u001b[0mkey\u001b[0m\u001b[0;34m)\u001b[0m\u001b[0;34m:\u001b[0m\u001b[0;34m\u001b[0m\u001b[0;34m\u001b[0m\u001b[0m\n",
      "\u001b[0;32m~/anaconda3/envs/python3/lib/python3.6/site-packages/pandas/core/series.py\u001b[0m in \u001b[0;36m_get_value\u001b[0;34m(self, label, takeable)\u001b[0m\n\u001b[1;32m    988\u001b[0m \u001b[0;34m\u001b[0m\u001b[0m\n\u001b[1;32m    989\u001b[0m         \u001b[0;31m# Similar to Index.get_value, but we do not fall back to positional\u001b[0m\u001b[0;34m\u001b[0m\u001b[0;34m\u001b[0m\u001b[0;34m\u001b[0m\u001b[0m\n\u001b[0;32m--> 990\u001b[0;31m         \u001b[0mloc\u001b[0m \u001b[0;34m=\u001b[0m \u001b[0mself\u001b[0m\u001b[0;34m.\u001b[0m\u001b[0mindex\u001b[0m\u001b[0;34m.\u001b[0m\u001b[0mget_loc\u001b[0m\u001b[0;34m(\u001b[0m\u001b[0mlabel\u001b[0m\u001b[0;34m)\u001b[0m\u001b[0;34m\u001b[0m\u001b[0;34m\u001b[0m\u001b[0m\n\u001b[0m\u001b[1;32m    991\u001b[0m         \u001b[0;32mreturn\u001b[0m \u001b[0mself\u001b[0m\u001b[0;34m.\u001b[0m\u001b[0mindex\u001b[0m\u001b[0;34m.\u001b[0m\u001b[0m_get_values_for_loc\u001b[0m\u001b[0;34m(\u001b[0m\u001b[0mself\u001b[0m\u001b[0;34m,\u001b[0m \u001b[0mloc\u001b[0m\u001b[0;34m,\u001b[0m \u001b[0mlabel\u001b[0m\u001b[0;34m)\u001b[0m\u001b[0;34m\u001b[0m\u001b[0;34m\u001b[0m\u001b[0m\n\u001b[1;32m    992\u001b[0m \u001b[0;34m\u001b[0m\u001b[0m\n",
      "\u001b[0;31mKeyboardInterrupt\u001b[0m: "
     ]
    }
   ],
   "source": [
    "for i in range(len(df)):\n",
    "     df.iloc[i, 1:25] = d[df.iloc[i, 0]]"
   ]
  },
  {
   "cell_type": "code",
   "execution_count": null,
   "id": "34935d55",
   "metadata": {},
   "outputs": [],
   "source": [
    "# click 24"
   ]
  },
  {
   "cell_type": "code",
   "execution_count": null,
   "id": "8da3ceae",
   "metadata": {},
   "outputs": [],
   "source": [
    "d2 = dp_open_rate_mex_time_slot(data)"
   ]
  },
  {
   "cell_type": "code",
   "execution_count": null,
   "id": "51d73269",
   "metadata": {},
   "outputs": [],
   "source": [
    "for i in range(len(df)):\n",
    "     df.iloc[i, 25:49] = d[df.iloc[i, 0]]"
   ]
  },
  {
   "cell_type": "code",
   "execution_count": 326,
   "id": "132d6d86",
   "metadata": {},
   "outputs": [],
   "source": [
    "# clicked but not opened have fitAC as -1, so we assign the average of the fitAC of mex cicked and opened\n",
    "avgAC = avg_fitAC(df)\n",
    "\n",
    "for i in range(len(df)):\n",
    "    if df['fitAC'][i] == -1:\n",
    "        df['fitAC'][i] = avgAC"
   ]
  }
 ],
 "metadata": {
  "kernelspec": {
   "display_name": "conda_python3",
   "language": "python",
   "name": "conda_python3"
  },
  "language_info": {
   "codemirror_mode": {
    "name": "ipython",
    "version": 3
   },
   "file_extension": ".py",
   "mimetype": "text/x-python",
   "name": "python",
   "nbconvert_exporter": "python",
   "pygments_lexer": "ipython3",
   "version": "3.6.13"
  }
 },
 "nbformat": 4,
 "nbformat_minor": 5
}
