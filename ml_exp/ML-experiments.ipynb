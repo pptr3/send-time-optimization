{
 "cells": [
  {
   "cell_type": "code",
   "execution_count": 1,
   "id": "8ba5551d",
   "metadata": {},
   "outputs": [
    {
     "name": "stderr",
     "output_type": "stream",
     "text": [
      "Using TensorFlow backend.\n"
     ]
    }
   ],
   "source": [
    "from keras.callbacks import ModelCheckpoint\n",
    "from keras.models import Sequential\n",
    "from keras.layers import Dense, Activation, Flatten\n",
    "from sklearn.model_selection import train_test_split\n",
    "from sklearn.ensemble import RandomForestRegressor\n",
    "from sklearn.metrics import mean_absolute_error \n",
    "from matplotlib import pyplot as plt\n",
    "import seaborn as sb\n",
    "import matplotlib.pyplot as plt\n",
    "import pandas as pd\n",
    "import numpy as np\n",
    "import math\n",
    "import warnings \n",
    "from sklearn.ensemble import GradientBoostingRegressor\n",
    "from sklearn.linear_model import LinearRegression\n",
    "from sklearn.tree import DecisionTreeRegressor\n",
    "from sklearn.decomposition import PCA"
   ]
  },
  {
   "cell_type": "markdown",
   "id": "daf82036",
   "metadata": {},
   "source": [
    "## Load data"
   ]
  },
  {
   "cell_type": "code",
   "execution_count": 2,
   "id": "b43be79c",
   "metadata": {},
   "outputs": [
    {
     "name": "stderr",
     "output_type": "stream",
     "text": [
      "/home/ec2-user/anaconda3/envs/tensorflow2_p36/lib/python3.6/site-packages/IPython/core/interactiveshell.py:3072: DtypeWarning: Columns (8) have mixed types.Specify dtype option on import or set low_memory=False.\n",
      "  interactivity=interactivity, compiler=compiler, result=result)\n"
     ]
    }
   ],
   "source": [
    "data = pd.read_csv(\"s3://ai-diennea/data/export_wonkit_20210630102441.csv.gz\")\n",
    "# add the day of the week column\n",
    "day_of_week = []\n",
    "for i in range(len(data)):\n",
    "    day_of_week.append(pd.to_datetime(data[\"EVENT.DATE\"][i], format='%Y/%m/%d %H:%M').day_name())\n",
    "data['day_of_week'] = pd.DataFrame(day_of_week)\n",
    "\n",
    "df = pd.read_csv(\"s3://ai-diennea/data/df.csv\")\n",
    "df = df.drop(['Unnamed: 0'], axis=1)\n",
    "X = pd.read_csv(\"s3://ai-diennea/data/X.csv\")\n",
    "X = X.drop(['Unnamed: 0'], axis=1)\n",
    "y = pd.read_csv(\"s3://ai-diennea/data/y.csv\")\n",
    "y = y.drop(['Unnamed: 0'], axis=1)\n",
    "# train set\n",
    "df_train, df_test = train_test_split(df, test_size=0.30, random_state=2)\n",
    "df_train.reset_index(drop=True, inplace=True)\n",
    "df_test.reset_index(drop=True, inplace=True)\n",
    "# test set\n",
    "X_train, X_test, y_train, y_test = train_test_split(X, y, test_size=0.30, random_state=2)\n",
    "X_train.reset_index(drop=True, inplace=True)\n",
    "X_test.reset_index(drop=True, inplace=True)"
   ]
  },
  {
   "cell_type": "code",
   "execution_count": 3,
   "id": "56e62620",
   "metadata": {},
   "outputs": [],
   "source": [
    "sent_open_hour_range = 36\n",
    "open_click_hour_range = 24\n",
    "\n",
    "def exp_decay_fit(x, sent_open_hour_range):\n",
    "    if x > sent_open_hour_range*60:\n",
    "        return .0\n",
    "    if x < 0:\n",
    "        return 1\n",
    "    return math.exp(((-math.log(2)/(sent_open_hour_range*60))*x) + math.log(2))-1\n",
    "\n",
    "def get_all_indexes(hash_mex, hash_contact, data):\n",
    "    return data.index[(data['HashMessaggio'] == hash_mex) & (data['HashContatto'] == hash_contact)]\n",
    "\n",
    "def from_min_to_hour_and_min(mins):\n",
    "    hours = int(round(mins)) // 60\n",
    "    minutes = int(round(mins)) % 60\n",
    "    return \"{}:{}\".format(hours, minutes)\n",
    "\n",
    "def evaluate(df, X, data, sent_open_hour_range, preds):  \n",
    "    # from [0, 1] to mins\n",
    "    for i in range(len(preds)):\n",
    "        preds[i] *= 24*60 # this 24*60 is requierd to convert mins from [0, 1] into real mins\n",
    "    \n",
    "    # dict that contains for each contact, its messages\n",
    "    dk = {}\n",
    "    for cont in df['HashContatto'].unique():\n",
    "        if cont not in dk:\n",
    "            dk[cont] = {'HashMessaggio': []}\n",
    "    # for each contact, I append its messages to compute fitSA subsequently\n",
    "    for i in range(len(df)):\n",
    "        dk[df['HashContatto'][i]]['HashMessaggio'].append(df['HashMessaggio'][i])\n",
    "\n",
    "    curr = 0\n",
    "    # get fitSA using the predicted sent\n",
    "    fitSA_preds = []                                   \n",
    "    for cont in dk:\n",
    "        for mex in dk[cont]['HashMessaggio']:\n",
    "            fitSA_preds.append(compute_fitSA_evaluation(mex, cont, sent_open_hour_range, data, preds[curr]))\n",
    "            curr += 1\n",
    "    total_mex = len(fitSA_preds)\n",
    "    predicted_sent_better_than_usual_sent = 0\n",
    "    predicted_sent_equal_usual_sent = 0\n",
    "    predicted_sent_worst_usual_sent = 0\n",
    "    for i in range(total_mex):\n",
    "        if fitSA_preds[i] > X.iloc[i, 97]: # new postion of fitSA 97\n",
    "            predicted_sent_better_than_usual_sent += 1\n",
    "        elif fitSA_preds[i] == X.iloc[i, 97]: # new postion of fitSA 97\n",
    "            predicted_sent_equal_usual_sent += 1\n",
    "        else:\n",
    "            predicted_sent_worst_usual_sent += 1\n",
    "    return predicted_sent_better_than_usual_sent/total_mex, predicted_sent_equal_usual_sent/total_mex, predicted_sent_worst_usual_sent/total_mex\n",
    "\n",
    "def compute_fitSA_evaluation(hash_mex, hash_contact, sent_open_hour_range, data, sent_pred):\n",
    "    opens, clicks = [], []\n",
    "    sent_pred = from_min_to_hour_and_min(sent_pred)\n",
    "    list_index = get_all_indexes(hash_mex, hash_contact, data)\n",
    "    for i in list_index:\n",
    "        if data['EVENT.TYPE'][i] == 'Open':\n",
    "            opens.append(pd.to_datetime(data[\"EVENT.DATE\"][i], format='%Y/%m/%d %H:%M'))\n",
    "        elif data['EVENT.TYPE'][i] == 'Click':\n",
    "            clicks.append(pd.to_datetime(data[\"EVENT.DATE\"][i], format='%Y/%m/%d %H:%M'))\n",
    "    oldest = None\n",
    "    if opens != []:\n",
    "        for i in opens:\n",
    "            if oldest is None:\n",
    "                oldest = i\n",
    "            elif i < oldest:\n",
    "                oldest = i\n",
    "    elif clicks != []:\n",
    "        for i in clicks:\n",
    "            if oldest is None:\n",
    "                oldest = i\n",
    "            elif i < oldest:\n",
    "                oldest = i\n",
    "    else: # this means that the mail has never been opened/clicked\n",
    "        return .0\n",
    "    oldest = str(oldest.hour) +\":\"+ str(oldest.minute)\n",
    "    oldest = pd.to_datetime(oldest, format='%H:%M')\n",
    "    sent_pred = pd.to_datetime(sent_pred, format='%H:%M')\n",
    "    # compute minutes of the distance between sent-open/sent-click\n",
    "    mins = ((oldest - sent_pred).days*24*60) + ((oldest - sent_pred).seconds//3600)*60 + ((oldest - sent_pred).seconds//60)%60\n",
    "    return exp_decay_fit(mins, sent_open_hour_range)"
   ]
  },
  {
   "cell_type": "markdown",
   "id": "b0f863fa",
   "metadata": {},
   "source": [
    "## Linear Regression"
   ]
  },
  {
   "cell_type": "code",
   "execution_count": 46,
   "id": "6f38ad77",
   "metadata": {},
   "outputs": [
    {
     "data": {
      "text/plain": [
       "LinearRegression()"
      ]
     },
     "execution_count": 46,
     "metadata": {},
     "output_type": "execute_result"
    }
   ],
   "source": [
    "model = LinearRegression()\n",
    "model.fit(X_train, y_train)"
   ]
  },
  {
   "cell_type": "code",
   "execution_count": 47,
   "id": "264e8f55",
   "metadata": {},
   "outputs": [
    {
     "data": {
      "text/plain": [
       "(0.23435494635248216, 0.7002926228245803, 0.06535243082293753)"
      ]
     },
     "execution_count": 47,
     "metadata": {},
     "output_type": "execute_result"
    }
   ],
   "source": [
    "preds = model.predict(X_test)\n",
    "p = []\n",
    "for i in range(len(preds)):\n",
    "    p.append(preds[i][0])\n",
    "evaluate(df_test, X_test, data, sent_open_hour_range, p)"
   ]
  },
  {
   "cell_type": "markdown",
   "id": "f751c64e",
   "metadata": {},
   "source": [
    "## Decison Tree"
   ]
  },
  {
   "cell_type": "code",
   "execution_count": 11,
   "id": "18680360",
   "metadata": {},
   "outputs": [
    {
     "data": {
      "text/plain": [
       "DecisionTreeRegressor()"
      ]
     },
     "execution_count": 11,
     "metadata": {},
     "output_type": "execute_result"
    }
   ],
   "source": [
    "model = DecisionTreeRegressor()\n",
    "model.fit(X_train, y_train)"
   ]
  },
  {
   "cell_type": "code",
   "execution_count": 216,
   "id": "cc94bc8b",
   "metadata": {},
   "outputs": [
    {
     "data": {
      "text/plain": [
       "(0.2307099953796396, 0.7494737922891319, 0.019816212331228503)"
      ]
     },
     "execution_count": 216,
     "metadata": {},
     "output_type": "execute_result"
    }
   ],
   "source": [
    "preds = model.predict(X_test)\n",
    "evaluate(df_test, X_test, data, sent_open_hour_range, preds)"
   ]
  },
  {
   "cell_type": "markdown",
   "id": "28420776",
   "metadata": {},
   "source": [
    "## Random Forest"
   ]
  },
  {
   "cell_type": "code",
   "execution_count": 18,
   "id": "1c36dd6c",
   "metadata": {},
   "outputs": [
    {
     "name": "stderr",
     "output_type": "stream",
     "text": [
      "/home/ec2-user/anaconda3/envs/tensorflow2_p36/lib/python3.6/site-packages/ipykernel/__main__.py:2: DataConversionWarning: A column-vector y was passed when a 1d array was expected. Please change the shape of y to (n_samples,), for example using ravel().\n",
      "  from ipykernel import kernelapp as app\n"
     ]
    },
    {
     "data": {
      "text/plain": [
       "RandomForestRegressor(max_depth=2)"
      ]
     },
     "execution_count": 18,
     "metadata": {},
     "output_type": "execute_result"
    }
   ],
   "source": [
    "model = RandomForestRegressor(max_depth=2)\n",
    "model.fit(X_train, y_train)"
   ]
  },
  {
   "cell_type": "code",
   "execution_count": 214,
   "id": "a1fd0194",
   "metadata": {},
   "outputs": [
    {
     "data": {
      "text/plain": [
       "(0.2307099953796396, 0.7497304789773602, 0.019559525643000154)"
      ]
     },
     "execution_count": 214,
     "metadata": {},
     "output_type": "execute_result"
    }
   ],
   "source": [
    "preds = model.predict(X_test)\n",
    "evaluate(df_test, X_test, data, sent_open_hour_range, preds)"
   ]
  },
  {
   "cell_type": "markdown",
   "id": "c6f50eb8",
   "metadata": {},
   "source": [
    "## Gradient Boosting"
   ]
  },
  {
   "cell_type": "code",
   "execution_count": null,
   "id": "3fe3d56a",
   "metadata": {},
   "outputs": [],
   "source": [
    "model = GradientBoostingRegressor()\n",
    "model.fit(X_train, y_train)"
   ]
  },
  {
   "cell_type": "code",
   "execution_count": null,
   "id": "cd9d654b",
   "metadata": {},
   "outputs": [],
   "source": [
    "preds = model.predict(X_test)\n",
    "evaluate(df_test, X_test, data, sent_open_hour_range, preds)"
   ]
  },
  {
   "cell_type": "markdown",
   "id": "1d164905",
   "metadata": {},
   "source": [
    "## Neural Networks"
   ]
  },
  {
   "cell_type": "code",
   "execution_count": 21,
   "id": "63ec0f10",
   "metadata": {},
   "outputs": [
    {
     "name": "stdout",
     "output_type": "stream",
     "text": [
      "Model: \"sequential_2\"\n",
      "_________________________________________________________________\n",
      "Layer (type)                 Output Shape              Param #   \n",
      "=================================================================\n",
      "dense_1 (Dense)              (None, 128)               12672     \n",
      "_________________________________________________________________\n",
      "dense_2 (Dense)              (None, 256)               33024     \n",
      "_________________________________________________________________\n",
      "dense_3 (Dense)              (None, 256)               65792     \n",
      "_________________________________________________________________\n",
      "dense_4 (Dense)              (None, 256)               65792     \n",
      "_________________________________________________________________\n",
      "dense_5 (Dense)              (None, 1)                 257       \n",
      "=================================================================\n",
      "Total params: 177,537\n",
      "Trainable params: 177,537\n",
      "Non-trainable params: 0\n",
      "_________________________________________________________________\n"
     ]
    }
   ],
   "source": [
    "NN_model = Sequential()\n",
    "\n",
    "# The Input Layer :\n",
    "NN_model.add(Dense(128, kernel_initializer='normal',input_dim = X_train.shape[1], activation='relu'))\n",
    "\n",
    "# The Hidden Layers :\n",
    "NN_model.add(Dense(256, kernel_initializer='normal',activation='relu'))\n",
    "NN_model.add(Dense(256, kernel_initializer='normal',activation='relu'))\n",
    "NN_model.add(Dense(256, kernel_initializer='normal',activation='relu'))\n",
    "\n",
    "# The Output Layer :\n",
    "NN_model.add(Dense(1, kernel_initializer='normal',activation='linear'))\n",
    "\n",
    "# Compile the network :\n",
    "NN_model.compile(loss='mean_absolute_error', optimizer='adam', metrics=['mean_absolute_error'])\n",
    "NN_model.summary()"
   ]
  },
  {
   "cell_type": "code",
   "execution_count": 22,
   "id": "621f6a2b",
   "metadata": {},
   "outputs": [
    {
     "name": "stdout",
     "output_type": "stream",
     "text": [
      "Train on 36359 samples, validate on 9090 samples\n",
      "Epoch 1/10\n",
      "36359/36359 [==============================] - 6s 167us/step - loss: 0.0671 - mean_absolute_error: 0.0671 - val_loss: 0.0643 - val_mean_absolute_error: 0.0643\n",
      "Epoch 2/10\n",
      "36359/36359 [==============================] - 5s 141us/step - loss: 0.0621 - mean_absolute_error: 0.0621 - val_loss: 0.0624 - val_mean_absolute_error: 0.0624\n",
      "Epoch 3/10\n",
      "36359/36359 [==============================] - 5s 141us/step - loss: 0.0617 - mean_absolute_error: 0.0617 - val_loss: 0.0605 - val_mean_absolute_error: 0.0605\n",
      "Epoch 4/10\n",
      "36359/36359 [==============================] - 5s 141us/step - loss: 0.0616 - mean_absolute_error: 0.0616 - val_loss: 0.0600 - val_mean_absolute_error: 0.0600\n",
      "Epoch 5/10\n",
      "36359/36359 [==============================] - 5s 141us/step - loss: 0.0614 - mean_absolute_error: 0.0614 - val_loss: 0.0608 - val_mean_absolute_error: 0.0608\n",
      "Epoch 6/10\n",
      "36359/36359 [==============================] - 5s 141us/step - loss: 0.0613 - mean_absolute_error: 0.0613 - val_loss: 0.0601 - val_mean_absolute_error: 0.0601\n",
      "Epoch 7/10\n",
      "36359/36359 [==============================] - 8s 208us/step - loss: 0.0613 - mean_absolute_error: 0.0613 - val_loss: 0.0601 - val_mean_absolute_error: 0.0601\n",
      "Epoch 8/10\n",
      "36359/36359 [==============================] - 5s 141us/step - loss: 0.0612 - mean_absolute_error: 0.0612 - val_loss: 0.0603 - val_mean_absolute_error: 0.0603\n",
      "Epoch 9/10\n",
      "36359/36359 [==============================] - 5s 142us/step - loss: 0.0611 - mean_absolute_error: 0.0611 - val_loss: 0.0599 - val_mean_absolute_error: 0.0599\n",
      "Epoch 10/10\n",
      "36359/36359 [==============================] - 5s 142us/step - loss: 0.0610 - mean_absolute_error: 0.0610 - val_loss: 0.0613 - val_mean_absolute_error: 0.0613\n"
     ]
    },
    {
     "data": {
      "text/plain": [
       "<keras.callbacks.callbacks.History at 0x7f4917334f60>"
      ]
     },
     "execution_count": 22,
     "metadata": {},
     "output_type": "execute_result"
    }
   ],
   "source": [
    "NN_model.fit(X_train, y_train, epochs=10, batch_size=32, validation_split = 0.2)"
   ]
  },
  {
   "cell_type": "code",
   "execution_count": 65,
   "id": "16ea3e0e",
   "metadata": {},
   "outputs": [],
   "source": [
    "preds = NN_model.predict(X_test)\n",
    "p = []\n",
    "for i in range(len(preds)):\n",
    "    p.append(preds[i][0])\n",
    "evaluate(df_test, X_test, data, sent_open_hour_range, p)"
   ]
  },
  {
   "cell_type": "markdown",
   "id": "81cd79be",
   "metadata": {},
   "source": [
    "### Create new X with only features that contributes"
   ]
  },
  {
   "cell_type": "code",
   "execution_count": 36,
   "id": "81fc0975",
   "metadata": {},
   "outputs": [],
   "source": [
    "X.drop(X.columns.difference(X.columns[np.where(model.feature_importances_ > 0)]), axis=1, inplace=True)"
   ]
  },
  {
   "cell_type": "code",
   "execution_count": 34,
   "id": "8d1b605f",
   "metadata": {},
   "outputs": [
    {
     "data": {
      "text/plain": [
       "Index(['OR 5-6', 'OR 9-10', 'OR 11-12', 'OR 12-13', 'OR 16-17', 'OR 17-18',\n",
       "       'OR 20-21', 'CR 15-16', 'CR 17-18', 'CR 20-21', 'OR-C 6-7',\n",
       "       'OR-C 16-17', 'OR-C 17-18', 'OR-C 18-19', 'OR-C 22-23', 'CR-C 3-4',\n",
       "       'CR-C 6-7', 'CR-C 16-17', 'fitSA'],\n",
       "      dtype='object')"
      ]
     },
     "execution_count": 34,
     "metadata": {},
     "output_type": "execute_result"
    }
   ],
   "source": [
    "onlyf"
   ]
  },
  {
   "cell_type": "code",
   "execution_count": 38,
   "id": "ddc34b85",
   "metadata": {},
   "outputs": [],
   "source": [
    "# train set\n",
    "df_train, df_test = train_test_split(df, test_size=0.30, random_state=42)\n",
    "df_train.reset_index(drop=True, inplace=True)\n",
    "df_test.reset_index(drop=True, inplace=True)\n",
    "# test set\n",
    "X_train, X_test, y_train, y_test = train_test_split(X, y, test_size=0.30, random_state=42)\n",
    "X_train.reset_index(drop=True, inplace=True)\n",
    "X_test.reset_index(drop=True, inplace=True)"
   ]
  },
  {
   "cell_type": "code",
   "execution_count": 39,
   "id": "a546e7fc",
   "metadata": {},
   "outputs": [
    {
     "name": "stderr",
     "output_type": "stream",
     "text": [
      "/home/ec2-user/anaconda3/envs/tensorflow2_p36/lib/python3.6/site-packages/ipykernel/__main__.py:2: DataConversionWarning: A column-vector y was passed when a 1d array was expected. Please change the shape of y to (n_samples,), for example using ravel().\n",
      "  from ipykernel import kernelapp as app\n"
     ]
    },
    {
     "data": {
      "text/plain": [
       "RandomForestRegressor(max_depth=2)"
      ]
     },
     "execution_count": 39,
     "metadata": {},
     "output_type": "execute_result"
    }
   ],
   "source": [
    "model = RandomForestRegressor(max_depth=2)\n",
    "model.fit(X_train, y_train)"
   ]
  },
  {
   "cell_type": "code",
   "execution_count": 44,
   "id": "1d3f3c36",
   "metadata": {},
   "outputs": [
    {
     "data": {
      "text/plain": [
       "(0.21115046973663945, 0.5996714410390677, 0.18917808922429283)"
      ]
     },
     "execution_count": 44,
     "metadata": {},
     "output_type": "execute_result"
    }
   ],
   "source": [
    "preds = model.predict(X_test)\n",
    "evaluate(df_test, X_test, data, sent_open_hour_range, preds)"
   ]
  },
  {
   "cell_type": "markdown",
   "id": "80c301f1",
   "metadata": {},
   "source": [
    "**Conclusion**: removing only the top features that contributes results in a dramatic loss of performance"
   ]
  },
  {
   "cell_type": "markdown",
   "id": "0c9f1ffd",
   "metadata": {},
   "source": [
    "## PCA"
   ]
  },
  {
   "cell_type": "code",
   "execution_count": 54,
   "id": "6a4741bf",
   "metadata": {},
   "outputs": [],
   "source": [
    "pca = PCA(n_components=3)\n",
    "pca.fit(X_train)\n",
    "X_pca_train = pca.transform(X_train)"
   ]
  },
  {
   "cell_type": "code",
   "execution_count": 55,
   "id": "edb67886",
   "metadata": {},
   "outputs": [
    {
     "data": {
      "image/png": "[encoded data removed]",
      "text/plain": [
       "<Figure size 432x288 with 1 Axes>"
      ]
     },
     "metadata": {
      "needs_background": "light"
     },
     "output_type": "display_data"
    }
   ],
   "source": [
    "plt.scatter(X_pca_train[:, 0], X_pca_train[:, 1], alpha=0.5)\n",
    "plt.show()"
   ]
  },
  {
   "cell_type": "code",
   "execution_count": 56,
   "id": "703af2a4",
   "metadata": {},
   "outputs": [
    {
     "name": "stderr",
     "output_type": "stream",
     "text": [
      "/home/ec2-user/anaconda3/envs/tensorflow2_p36/lib/python3.6/site-packages/ipykernel/__main__.py:2: DataConversionWarning: A column-vector y was passed when a 1d array was expected. Please change the shape of y to (n_samples,), for example using ravel().\n",
      "  from ipykernel import kernelapp as app\n"
     ]
    },
    {
     "data": {
      "text/plain": [
       "RandomForestRegressor(max_depth=2)"
      ]
     },
     "execution_count": 56,
     "metadata": {},
     "output_type": "execute_result"
    }
   ],
   "source": [
    "model = RandomForestRegressor(max_depth=2)\n",
    "model.fit(X_pca_train, y_train)"
   ]
  },
  {
   "cell_type": "code",
   "execution_count": 57,
   "id": "a317670d",
   "metadata": {},
   "outputs": [],
   "source": [
    "pca = PCA(n_components=3)\n",
    "pca.fit(X_test)\n",
    "X_pca_test = pca.transform(X_test)"
   ]
  },
  {
   "cell_type": "code",
   "execution_count": 58,
   "id": "eeebd3a4",
   "metadata": {},
   "outputs": [],
   "source": [
    "preds = model.predict(X_pca_test)"
   ]
  },
  {
   "cell_type": "code",
   "execution_count": 59,
   "id": "929ab41e",
   "metadata": {},
   "outputs": [
    {
     "data": {
      "text/plain": [
       "(0.23435494635248216, 0.7002926228245803, 0.06535243082293753)"
      ]
     },
     "execution_count": 59,
     "metadata": {},
     "output_type": "execute_result"
    }
   ],
   "source": [
    "evaluate(df_test, X_test, data, sent_open_hour_range, preds)"
   ]
  },
  {
   "cell_type": "markdown",
   "id": "47e91689",
   "metadata": {},
   "source": [
    "**Conclusion**: with pca there is an increment of when I do better but a slighlty decrease of when I do worse."
   ]
  },
  {
   "cell_type": "markdown",
   "id": "15f80aa0",
   "metadata": {},
   "source": [
    "## Regression with CNNs"
   ]
  },
  {
   "cell_type": "code",
   "execution_count": 76,
   "id": "79984983",
   "metadata": {},
   "outputs": [],
   "source": [
    "from PIL import Image\n",
    "import os, glob, sys, numpy as np\n",
    "import tensorflow as tf\n",
    "from sklearn.model_selection import train_test_split\n",
    "from keras.utils import np_utils\n",
    "from keras.models import Sequential\n",
    "from keras.layers import Conv2D, MaxPooling2D, Dense, Flatten, Dropout\n",
    "from keras.layers import Activation, BatchNormalization\n",
    "from keras.callbacks import EarlyStopping, ModelCheckpoint\n",
    "from keras import regularizers\n",
    "from keras import losses\n",
    "from keras import backend as K \n",
    "import matplotlib.pyplot as plt\n",
    "import math\n",
    "from keras.optimizers import SGD, Adam\n",
    "from keras import metrics\n",
    "from keras import models, layers, optimizers "
   ]
  },
  {
   "cell_type": "code",
   "execution_count": null,
   "id": "53cebfc3",
   "metadata": {},
   "outputs": [],
   "source": [
    "droprate=0.25\n",
    "\n",
    "model = Sequential()\n",
    "model.add(Conv2D(32, (3,3), padding=\"same\", input_shape=(9,9,1), activation=\"relu\")) \n",
    "model.add(BatchNormalization())\n",
    "model.add(Dropout(droprate))\n",
    "model.add(MaxPooling2D(pool_size=(2,2)))\n",
    "\n",
    "model.add(Conv2D(32, (3,3), padding=\"same\", activation=\"relu\"))\n",
    "model.add(BatchNormalization())\n",
    "model.add(MaxPooling2D(pool_size=(2,2)))\n",
    "model.add(Dropout(droprate))\n",
    "\n",
    "model.add(Conv2D(64, (3,3), padding=\"same\", activation=\"relu\"))\n",
    "model.add(BatchNormalization())\n",
    "model.add(MaxPooling2D(pool_size=(2,2)))\n",
    "model.add(Dropout(droprate))\n",
    "\n",
    "model.add(Flatten())\n",
    "model.add(Dense(256, activation=\"relu\"))\n",
    "model.add(BatchNormalization())\n",
    "model.add(Dense(1))"
   ]
  },
  {
   "cell_type": "code",
   "execution_count": 45,
   "id": "6fb84b4f",
   "metadata": {},
   "outputs": [],
   "source": [
    "arr = np.array([])\n",
    "for i in range(len(X_train)):\n",
    "    row = X_train.iloc[i, :].to_numpy().reshape(-1, 1)[17:, :].reshape(9, 9, 1)\n",
    "    arr = np.append(arr, row)"
   ]
  },
  {
   "cell_type": "code",
   "execution_count": 66,
   "id": "0091d52d",
   "metadata": {},
   "outputs": [],
   "source": [
    "X_train_img = arr.reshape(X_train.shape[0], 9, 9, 1)"
   ]
  },
  {
   "cell_type": "code",
   "execution_count": 67,
   "id": "1bf27540",
   "metadata": {},
   "outputs": [
    {
     "name": "stdout",
     "output_type": "stream",
     "text": [
      "Train on 36359 samples, validate on 9090 samples\n",
      "Epoch 1/3\n",
      "36359/36359 [==============================] - 29s 809us/step - loss: 0.1016 - rmsle: nan - val_loss: 0.0091 - val_rmsle: 0.1799\n",
      "Epoch 2/3\n",
      "36359/36359 [==============================] - 25s 689us/step - loss: 0.0125 - rmsle: nan - val_loss: 0.0074 - val_rmsle: 0.1601\n",
      "Epoch 3/3\n",
      "36359/36359 [==============================] - 25s 680us/step - loss: 0.0096 - rmsle: 0.1824 - val_loss: 0.0084 - val_rmsle: 0.1714\n"
     ]
    },
    {
     "data": {
      "text/plain": [
       "<keras.callbacks.callbacks.History at 0x7fa651308eb8>"
      ]
     },
     "execution_count": 67,
     "metadata": {},
     "output_type": "execute_result"
    }
   ],
   "source": [
    "model.fit(X_train_img, y_train, batch_size=32, epochs=3, validation_split=0.2)"
   ]
  },
  {
   "cell_type": "code",
   "execution_count": null,
   "id": "1c838307",
   "metadata": {},
   "outputs": [],
   "source": [
    "def rmsle(y_test, y_pred):\n",
    "    return K.sqrt(K.mean(K.square(K.log(y_pred) - K.log(y_test))))\n",
    "\n",
    "model.compile(loss= 'mean_squared_error', optimizer='adam', metrics=[rmsle])\n",
    "model.summary()\n",
    "model.fit(x_train, y_train, batch_size=32, epochs=3, validation_split=0.2)"
   ]
  },
  {
   "cell_type": "code",
   "execution_count": 70,
   "id": "7c1b563c",
   "metadata": {},
   "outputs": [],
   "source": [
    "arr_test = np.array([])\n",
    "for i in range(len(X_test)):\n",
    "    row = X_test.iloc[i, :].to_numpy().reshape(-1, 1)[17:, :].reshape(9, 9, 1) # TODO: discard the feature that contributes 0\n",
    "    arr_test = np.append(arr_test, row)"
   ]
  },
  {
   "cell_type": "code",
   "execution_count": 71,
   "id": "b490b2a9",
   "metadata": {},
   "outputs": [],
   "source": [
    "X_test_img = arr_test.reshape(X_test.shape[0], 9, 9, 1)"
   ]
  },
  {
   "cell_type": "code",
   "execution_count": 72,
   "id": "f61507dd",
   "metadata": {},
   "outputs": [
    {
     "data": {
      "text/plain": [
       "(19479, 9, 9, 1)"
      ]
     },
     "execution_count": 72,
     "metadata": {},
     "output_type": "execute_result"
    }
   ],
   "source": [
    "X_test_img.shape"
   ]
  },
  {
   "cell_type": "code",
   "execution_count": 73,
   "id": "d378e435",
   "metadata": {},
   "outputs": [],
   "source": [
    "preds = model.predict(X_test_img)"
   ]
  },
  {
   "cell_type": "code",
   "execution_count": 74,
   "id": "941687ab",
   "metadata": {},
   "outputs": [
    {
     "data": {
      "text/plain": [
       "array([[0.51915395],\n",
       "       [0.5132235 ],\n",
       "       [0.46839494],\n",
       "       ...,\n",
       "       [0.581542  ],\n",
       "       [0.5659067 ],\n",
       "       [0.51322347]], dtype=float32)"
      ]
     },
     "execution_count": 74,
     "metadata": {},
     "output_type": "execute_result"
    }
   ],
   "source": [
    "preds"
   ]
  },
  {
   "cell_type": "code",
   "execution_count": 75,
   "id": "c02d8b35",
   "metadata": {},
   "outputs": [
    {
     "data": {
      "text/plain": [
       "(0.23142871810667898, 0.7475229734585964, 0.021048308434724574)"
      ]
     },
     "execution_count": 75,
     "metadata": {},
     "output_type": "execute_result"
    }
   ],
   "source": [
    "p = []\n",
    "for i in range(len(preds)):\n",
    "    p.append(preds[i][0])\n",
    "evaluate(df_test, X_test, data, sent_open_hour_range, p)"
   ]
  },
  {
   "cell_type": "code",
   "execution_count": null,
   "id": "9448105b",
   "metadata": {},
   "outputs": [],
   "source": []
  },
  {
   "cell_type": "code",
   "execution_count": null,
   "id": "a8d5fe5e",
   "metadata": {},
   "outputs": [],
   "source": []
  },
  {
   "cell_type": "code",
   "execution_count": null,
   "id": "125fcafd",
   "metadata": {},
   "outputs": [],
   "source": []
  },
  {
   "cell_type": "code",
   "execution_count": null,
   "id": "6d1459b9",
   "metadata": {},
   "outputs": [],
   "source": []
  },
  {
   "cell_type": "code",
   "execution_count": null,
   "id": "d340acf1",
   "metadata": {},
   "outputs": [],
   "source": [
    "# TODO: try to add in the dataset the day of the week and see if its better"
   ]
  }
 ],
 "metadata": {
  "kernelspec": {
   "display_name": "conda_tensorflow2_p36",
   "language": "python",
   "name": "conda_tensorflow2_p36"
  },
  "language_info": {
   "codemirror_mode": {
    "name": "ipython",
    "version": 3
   },
   "file_extension": ".py",
   "mimetype": "text/x-python",
   "name": "python",
   "nbconvert_exporter": "python",
   "pygments_lexer": "ipython3",
   "version": "3.6.13"
  }
 },
 "nbformat": 4,
 "nbformat_minor": 5
}
