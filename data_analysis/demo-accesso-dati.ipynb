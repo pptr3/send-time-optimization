{
 "cells": [
  {
   "cell_type": "code",
   "execution_count": 1,
   "id": "aa5f8478",
   "metadata": {},
   "outputs": [],
   "source": [
    "import pandas as pd\n",
    "import numpy as np\n",
    "import matplotlib.pyplot as plt\n",
    "import statistics"
   ]
  },
  {
   "cell_type": "code",
   "execution_count": 2,
   "id": "a9f65a19",
   "metadata": {},
   "outputs": [
    {
     "name": "stderr",
     "output_type": "stream",
     "text": [
      "/home/ec2-user/anaconda3/envs/python3/lib/python3.6/site-packages/IPython/core/interactiveshell.py:3072: DtypeWarning: Columns (8) have mixed types.Specify dtype option on import or set low_memory=False.\n",
      "  interactivity=interactivity, compiler=compiler, result=result)\n"
     ]
    }
   ],
   "source": [
    "data = pd.read_csv(\"s3://ai-diennea/data/export_wonkit_20210630102441.csv.gz\")"
   ]
  },
  {
   "cell_type": "code",
   "execution_count": 3,
   "id": "9f111cbd",
   "metadata": {},
   "outputs": [],
   "source": [
    "# add the day of the week column\n",
    "day_of_week = []\n",
    "for i in range(len(data)):\n",
    "    day_of_week.append(pd.to_datetime(data[\"EVENT.DATE\"][i], format='%Y/%m/%d %H:%M').day_name())\n",
    "data['day_of_week'] = pd.DataFrame(day_of_week)"
   ]
  },
  {
   "cell_type": "code",
   "execution_count": 9,
   "id": "2c0d6e41",
   "metadata": {},
   "outputs": [],
   "source": [
    "# check whether there are click events without relative open\n",
    "distinct_click = []\n",
    "for i in range(len(data)):\n",
    "    if (str(data[\"EVENT.TYPE\"][i]) == 'Click') and (data['HashMessaggio'][i] not in distinct_click):\n",
    "        distinct_click.append(data['HashMessaggio'][i])"
   ]
  },
  {
   "cell_type": "code",
   "execution_count": 10,
   "id": "e5dfcf60",
   "metadata": {},
   "outputs": [],
   "source": [
    "c = 0 # is the number of mails that has click + open event\n",
    "for i in range(len(distinct_click)):\n",
    "    for j in range(len(data)):\n",
    "        if (str(data[\"EVENT.TYPE\"][j]) == 'Open') and (data['HashMessaggio'][j] == distinct_click[i]):\n",
    "            c += 1\n",
    "            break"
   ]
  },
  {
   "cell_type": "code",
   "execution_count": 12,
   "id": "efb6a8c5",
   "metadata": {},
   "outputs": [
    {
     "data": {
      "text/plain": [
       "(1550, 1216)"
      ]
     },
     "execution_count": 12,
     "metadata": {},
     "output_type": "execute_result"
    }
   ],
   "source": [
    "# here I computed that indeed some clicked mails do not have the Open event\n",
    "len(distinct_click), c"
   ]
  },
  {
   "cell_type": "code",
   "execution_count": 13,
   "id": "ec0b81f4",
   "metadata": {},
   "outputs": [],
   "source": [
    "clicked_mails_that_do_not_have_open_event = len(distinct_click) - c"
   ]
  },
  {
   "cell_type": "code",
   "execution_count": 14,
   "id": "12a9f882",
   "metadata": {},
   "outputs": [
    {
     "data": {
      "text/plain": [
       "334"
      ]
     },
     "execution_count": 14,
     "metadata": {},
     "output_type": "execute_result"
    }
   ],
   "source": [
    "clicked_mails_that_do_not_have_open_event"
   ]
  },
  {
   "cell_type": "code",
   "execution_count": 4,
   "id": "0a3111a9",
   "metadata": {},
   "outputs": [],
   "source": [
    "# number of distict opened mails is length of 'list_contact_concatenated_mex'\n",
    "list_contact_concatenated_mex = []\n",
    "for i in range(len(data)):\n",
    "    if (str(data[\"EVENT.TYPE\"][i]) == 'Open') and (data['HashContatto'][i] + data['HashMessaggio'][i] not in list_contact_concatenated_mex):\n",
    "        list_contact_concatenated_mex.append(data['HashContatto'][i] + data['HashMessaggio'][i])"
   ]
  },
  {
   "cell_type": "code",
   "execution_count": 6,
   "id": "4584f6f5",
   "metadata": {},
   "outputs": [
    {
     "data": {
      "text/plain": [
       "15069"
      ]
     },
     "execution_count": 6,
     "metadata": {},
     "output_type": "execute_result"
    }
   ],
   "source": [
    "len(list_contact_concatenated_mex)"
   ]
  },
  {
   "cell_type": "code",
   "execution_count": 15,
   "id": "8f72e260",
   "metadata": {},
   "outputs": [
    {
     "data": {
      "text/plain": [
       "23.72320108427797"
      ]
     },
     "execution_count": 15,
     "metadata": {},
     "output_type": "execute_result"
    }
   ],
   "source": [
    "wa = data.loc[data[\"EVENT.TYPE\"] == 'Open']\n",
    "((len(wa.groupby(['HashMessaggio','HashContatto']).count()) + clicked_mails_that_do_not_have_open_event) / len(data.loc[data[\"EVENT.TYPE\"] == 'Sent'])) * 100"
   ]
  },
  {
   "cell_type": "code",
   "execution_count": 78,
   "id": "d26fcdfc",
   "metadata": {},
   "outputs": [
    {
     "data": {
      "text/plain": [
       "23.2087851158206"
      ]
     },
     "execution_count": 78,
     "metadata": {},
     "output_type": "execute_result"
    }
   ],
   "source": [
    "len(wa.groupby(['HashMessaggio'])) / len(data.loc[data[\"EVENT.TYPE\"] == 'Sent']) * 100"
   ]
  },
  {
   "cell_type": "code",
   "execution_count": 37,
   "id": "ea20a77d",
   "metadata": {},
   "outputs": [
    {
     "data": {
      "text/plain": [
       "2.387259733859044"
      ]
     },
     "execution_count": 37,
     "metadata": {},
     "output_type": "execute_result"
    }
   ],
   "source": [
    "# % clicked mails\n",
    "wa = data.loc[data[\"EVENT.TYPE\"] == 'Click']\n",
    "len(wa.groupby(['HashMessaggio','HashContatto']).count()) / len(data.loc[data[\"EVENT.TYPE\"] == 'Sent']) * 100"
   ]
  },
  {
   "cell_type": "code",
   "execution_count": 38,
   "id": "6f0f86bc",
   "metadata": {},
   "outputs": [
    {
     "data": {
      "text/plain": [
       "0.2649088220798423"
      ]
     },
     "execution_count": 38,
     "metadata": {},
     "output_type": "execute_result"
    }
   ],
   "source": [
    "# % unsubscribed mails\n",
    "wa = data.loc[data[\"EVENT.TYPE\"] == 'Unsubscribe']\n",
    "len(wa.groupby(['HashMessaggio','HashContatto']).count()) / len(data.loc[data[\"EVENT.TYPE\"] == 'Sent']) * 100"
   ]
  },
  {
   "cell_type": "code",
   "execution_count": 39,
   "id": "d68e954a",
   "metadata": {},
   "outputs": [
    {
     "data": {
      "text/plain": [
       "0.006160670280926565"
      ]
     },
     "execution_count": 39,
     "metadata": {},
     "output_type": "execute_result"
    }
   ],
   "source": [
    "# % complaint mails\n",
    "wa = data.loc[data[\"EVENT.TYPE\"] == 'Complaint']\n",
    "len(wa.groupby(['HashMessaggio','HashContatto']).count()) / len(data.loc[data[\"EVENT.TYPE\"] == 'Sent']) * 100"
   ]
  },
  {
   "cell_type": "code",
   "execution_count": 169,
   "id": "d818daa0",
   "metadata": {},
   "outputs": [
    {
     "data": {
      "text/plain": [
       "3.8750616067028094"
      ]
     },
     "execution_count": 169,
     "metadata": {},
     "output_type": "execute_result"
    }
   ],
   "source": [
    "# % email bounced\n",
    "wa = data.loc[(data[\"EVENT.TYPE\"] == 'Soft Bounce') | (data[\"EVENT.TYPE\"] == 'Hard Bounce')]\n",
    "(len(data.loc[data[\"EVENT.TYPE\"] == 'Soft Bounce']) + len(data.loc[data[\"EVENT.TYPE\"] == 'Hard Bounce'])) / len(data.loc[data[\"EVENT.TYPE\"] == 'Sent']) * 100"
   ]
  },
  {
   "cell_type": "code",
   "execution_count": 107,
   "id": "9664b223",
   "metadata": {},
   "outputs": [],
   "source": [
    "# % distinct opened mails per CAMPAIGN.CAMPAIGN_NAME\n",
    "dk = {}\n",
    "for i in data[\"CAMPAIGN.CAMPAIGN_NAME\"].unique():\n",
    "    dk[i] = 0\n",
    "list_contact_concatenated_mex = []\n",
    "for i in range(len(data)):\n",
    "    if (str(data[\"EVENT.TYPE\"][i]) == 'Open') and (data['HashContatto'][i] + data['HashMessaggio'][i] not in list_contact_concatenated_mex):\n",
    "        list_contact_concatenated_mex.append(data['HashContatto'][i] + data['HashMessaggio'][i])\n",
    "        dk[data[\"CAMPAIGN.CAMPAIGN_NAME\"][i]] += 1"
   ]
  },
  {
   "cell_type": "code",
   "execution_count": 61,
   "id": "85f74cde",
   "metadata": {},
   "outputs": [
    {
     "data": {
      "text/plain": [
       "{'tbd': 7786, 'Diennea': 3777, 'MagNews Comunicazioni 2021': 3506}"
      ]
     },
     "execution_count": 61,
     "metadata": {},
     "output_type": "execute_result"
    }
   ],
   "source": [
    "dk"
   ]
  },
  {
   "cell_type": "code",
   "execution_count": 100,
   "id": "2bfc3728",
   "metadata": {},
   "outputs": [],
   "source": [
    "dk_values_list = list(dk.values())\n",
    "for i in range(len(dk_values_list)):\n",
    "    dk_values_list[i] = (dk_values_list[i] / len(list_contact_concatenated_mex)) * 100"
   ]
  },
  {
   "cell_type": "code",
   "execution_count": 101,
   "id": "d497a693",
   "metadata": {},
   "outputs": [
    {
     "data": {
      "text/plain": [
       "[51.66898931581392, 25.064702369102132, 23.266308315083947]"
      ]
     },
     "execution_count": 101,
     "metadata": {},
     "output_type": "execute_result"
    }
   ],
   "source": [
    "dk_values_list"
   ]
  },
  {
   "cell_type": "code",
   "execution_count": 103,
   "id": "724ab89b",
   "metadata": {},
   "outputs": [
    {
     "data": {
      "image/png": "[encoded data removed]",
      "text/plain": [
       "<Figure size 432x288 with 1 Axes>"
      ]
     },
     "metadata": {
      "needs_background": "light"
     },
     "output_type": "display_data"
    }
   ],
   "source": [
    "plt.plot(range(0, len(dk_values_list)), dk_values_list, 'bo')\n",
    "plt.show()"
   ]
  },
  {
   "cell_type": "code",
   "execution_count": 53,
   "id": "48c0db37",
   "metadata": {},
   "outputs": [
    {
     "data": {
      "text/plain": [
       "array(['tbd', 'Diennea', 'MagNews Comunicazioni 2021'], dtype=object)"
      ]
     },
     "execution_count": 53,
     "metadata": {},
     "output_type": "execute_result"
    }
   ],
   "source": [
    "# campaign types\n",
    "data[\"CAMPAIGN.CAMPAIGN_NAME\"].unique()"
   ]
  },
  {
   "cell_type": "code",
   "execution_count": 104,
   "id": "ac20395a",
   "metadata": {},
   "outputs": [
    {
     "data": {
      "text/plain": [
       "'tbd'"
      ]
     },
     "execution_count": 104,
     "metadata": {},
     "output_type": "execute_result"
    }
   ],
   "source": [
    "# top campaign name\n",
    "data[\"CAMPAIGN.CAMPAIGN_NAME\"].unique()[np.argmax(dk_values_list)]"
   ]
  },
  {
   "cell_type": "code",
   "execution_count": 105,
   "id": "31001052",
   "metadata": {},
   "outputs": [],
   "source": [
    "# % distinct opened mails per MESSAGE.SUBJECT\n",
    "\n",
    "dj = {}\n",
    "for i in data[\"MESSAGE.SUBJECT\"].unique():\n",
    "    dj[i] = 0\n",
    "list_contact_concatenated_mex_subj = []\n",
    "for i in range(len(data)):\n",
    "    if (str(data[\"EVENT.TYPE\"][i]) == 'Open') and (data['HashContatto'][i] + data['HashMessaggio'][i] not in list_contact_concatenated_mex_subj):\n",
    "        list_contact_concatenated_mex_subj.append(data['HashContatto'][i] + data['HashMessaggio'][i])\n",
    "        dj[data[\"MESSAGE.SUBJECT\"][i]] += 1"
   ]
  },
  {
   "cell_type": "code",
   "execution_count": 110,
   "id": "a6f5e86f",
   "metadata": {},
   "outputs": [],
   "source": [
    "dj_values_list = list(dj.values())\n",
    "for i in range(len(dj_values_list)):\n",
    "    dj_values_list[i] = (dj_values_list[i] / len(list_contact_concatenated_mex_subj)) * 100"
   ]
  },
  {
   "cell_type": "code",
   "execution_count": 111,
   "id": "1774449d",
   "metadata": {},
   "outputs": [
    {
     "data": {
      "image/png": "[encoded data removed]",
      "text/plain": [
       "<Figure size 432x288 with 1 Axes>"
      ]
     },
     "metadata": {
      "needs_background": "light"
     },
     "output_type": "display_data"
    }
   ],
   "source": [
    "plt.plot(range(0, len(dj_values_list)), dj_values_list, 'bo')\n",
    "plt.show()"
   ]
  },
  {
   "cell_type": "code",
   "execution_count": 116,
   "id": "0b1023fb",
   "metadata": {},
   "outputs": [
    {
     "data": {
      "text/plain": [
       "100.0"
      ]
     },
     "execution_count": 116,
     "metadata": {},
     "output_type": "execute_result"
    }
   ],
   "source": [
    "sum(dj_values_list)"
   ]
  },
  {
   "cell_type": "code",
   "execution_count": 117,
   "id": "98b18166",
   "metadata": {},
   "outputs": [
    {
     "data": {
      "text/plain": [
       "('Partecipa al webinar sul Privacy Shield',\n",
       " 'Strategia sul contatto: un nuovo modo di fare business')"
      ]
     },
     "execution_count": 117,
     "metadata": {},
     "output_type": "execute_result"
    }
   ],
   "source": [
    "# top 2 MESSAGE.SUBJECT\n",
    "data[\"MESSAGE.SUBJECT\"].unique()[np.argmax(dj_values_list)], data[\"MESSAGE.SUBJECT\"].unique()[np.argsort(dj_values_list)[-2]]"
   ]
  },
  {
   "cell_type": "code",
   "execution_count": 119,
   "id": "7d4e4552",
   "metadata": {},
   "outputs": [
    {
     "data": {
      "text/plain": [
       "(6.456964629371558, 4.857654787975314)"
      ]
     },
     "execution_count": 119,
     "metadata": {},
     "output_type": "execute_result"
    }
   ],
   "source": [
    "# top 2 MESSAGE.SUBJECT %\n",
    "dj_values_list[np.argmax(dj_values_list)], dj_values_list[np.argsort(dj_values_list)[-2]]"
   ]
  },
  {
   "cell_type": "code",
   "execution_count": 109,
   "id": "48167327",
   "metadata": {},
   "outputs": [
    {
     "name": "stdout",
     "output_type": "stream",
     "text": [
      "The dates are the same for all the messagges\n"
     ]
    }
   ],
   "source": [
    "# check whether EVENT.DATE and MESSAGE_STATISTICS.SENT_TIMESTAMP are the same\n",
    "print(\"The dates are the same for all the messages\") if len(data.loc[(data[\"EVENT.DATE\"] == data[\"MESSAGE_STATISTICS.SENT_TIMESTAMP\"])]) == data[\"HashMessaggio\"].nunique() else print(\"The two dates are not the same\")"
   ]
  },
  {
   "cell_type": "code",
   "execution_count": 451,
   "id": "b0019eb3",
   "metadata": {},
   "outputs": [
    {
     "name": "stdout",
     "output_type": "stream",
     "text": [
      "Columns \"EVENT.DATE\" and \"MESSAGE_STATISTICS.SENT_TIMESTAMP\" are the same for the 63.49 % of the time\n"
     ]
    }
   ],
   "source": [
    "# check for how many different messagges the dates are not the same\n",
    "out = len(data.loc[(data[\"EVENT.DATE\"] == data[\"MESSAGE_STATISTICS.SENT_TIMESTAMP\"])]) / len(data)\n",
    "print(\"Columns \\\"EVENT.DATE\\\" and \\\"MESSAGE_STATISTICS.SENT_TIMESTAMP\\\" are the same for the {:.2f} % of the time\".format(out*100))"
   ]
  },
  {
   "cell_type": "code",
   "execution_count": 463,
   "id": "20306790",
   "metadata": {},
   "outputs": [
    {
     "data": {
      "text/plain": [
       "True"
      ]
     },
     "execution_count": 463,
     "metadata": {},
     "output_type": "execute_result"
    }
   ],
   "source": [
    "len((data.loc[(data[\"EVENT.DATE\"] == data[\"MESSAGE_STATISTICS.SENT_TIMESTAMP\"])]['EVENT.TYPE']) == 'Sent') == len(data.loc[data[\"EVENT.TYPE\"] == 'Sent'])"
   ]
  },
  {
   "cell_type": "code",
   "execution_count": 252,
   "id": "ee27182f",
   "metadata": {},
   "outputs": [],
   "source": [
    "for i in range(len(data)):\n",
    "    if \"nan\" not in str(data[\"Ultima email aperta dal contatto\"][i]) and \"nan\" not in str(data[\"Ultima email inviata al contatto\"][i]) and pd.to_datetime(data[\"Ultima email aperta dal contatto\"][i], format='%d/%m/%Y %H:%M') > pd.to_datetime(data[\"Ultima email inviata al contatto\"][i], format='%d/%m/%Y %H:%M'):\n",
    "        print(\"aperta\", data[\"Ultima email aperta dal contatto\"][i])\n",
    "        print(\"inviata\", data[\"Ultima email inviata al contatto\"][i])\n",
    "        counter_aperta_greater_than_inviata += 1\n",
    "    else:\n",
    "        counter_inviata_greater_than_orequal_aperta += 1\n"
   ]
  },
  {
   "cell_type": "code",
   "execution_count": 253,
   "id": "88730127",
   "metadata": {},
   "outputs": [
    {
     "data": {
      "text/plain": [
       "(0, 133602)"
      ]
     },
     "execution_count": 253,
     "metadata": {},
     "output_type": "execute_result"
    }
   ],
   "source": [
    "counter_aperta_greater_than_inviata, counter_inviata_greater_than_orequal_aperta"
   ]
  },
  {
   "cell_type": "code",
   "execution_count": 491,
   "id": "d7017fba",
   "metadata": {},
   "outputs": [
    {
     "name": "stdout",
     "output_type": "stream",
     "text": [
      "Columns \"Ultima email consegnata al contatto\" and \"Ultima email inviata al contatto\" are the same for the 96.42 % of the time\n"
     ]
    }
   ],
   "source": [
    "# check for inviata <= consegnata \n",
    "out = len(data.loc[(data[\"Ultima email consegnata al contatto\"] >= data[\"Ultima email inviata al contatto\"])]) / len(data)\n",
    "print(\"Columns \\\"Ultima email consegnata al contatto\\\" and \\\"Ultima email inviata al contatto\\\" are the same for the {:.2f} % of the time\".format(out*100))"
   ]
  },
  {
   "cell_type": "code",
   "execution_count": 466,
   "id": "52dd9b98",
   "metadata": {},
   "outputs": [
    {
     "name": "stdout",
     "output_type": "stream",
     "text": [
      "Columns \"Ultima email consegnata al contatto\" and \"Ultima email inviata al contatto\" are the same for the 2.57 % of the time\n"
     ]
    }
   ],
   "source": [
    "# check for inviata > consegnata (should be 0%) \n",
    "out = len(data.loc[(data[\"Ultima email consegnata al contatto\"] < data[\"Ultima email inviata al contatto\"])]) / len(data)\n",
    "print(\"Columns \\\"Ultima email consegnata al contatto\\\" and \\\"Ultima email inviata al contatto\\\" are the same for the {:.2f} % of the time\".format(out*100))"
   ]
  },
  {
   "cell_type": "code",
   "execution_count": 255,
   "id": "487d3084",
   "metadata": {},
   "outputs": [
    {
     "name": "stdout",
     "output_type": "stream",
     "text": [
      "Sent\n",
      "Soft Bounce\n",
      "Sent\n",
      "Soft Bounce\n",
      "Sent\n",
      "Soft Bounce\n",
      "Sent\n",
      "Sent\n",
      "Soft Bounce\n",
      "Sent\n",
      "Sent\n",
      "Sent\n",
      "Soft Bounce\n",
      "Soft Bounce\n",
      "Soft Bounce\n",
      "Soft Bounce\n",
      "Soft Bounce\n",
      "Sent\n",
      "Soft Bounce\n",
      "Sent\n",
      "Sent\n",
      "Soft Bounce\n",
      "Sent\n",
      "Hard Bounce\n",
      "Sent\n",
      "Soft Bounce\n",
      "Sent\n",
      "Sent\n",
      "Sent\n",
      "Sent\n",
      "Sent\n",
      "Sent\n",
      "Sent\n",
      "Sent\n",
      "Sent\n",
      "Sent\n",
      "Sent\n",
      "Soft Bounce\n",
      "Hard Bounce\n",
      "Soft Bounce\n",
      "Soft Bounce\n",
      "Hard Bounce\n",
      "Soft Bounce\n",
      "Soft Bounce\n",
      "Soft Bounce\n",
      "Soft Bounce\n",
      "Sent\n",
      "Sent\n",
      "Sent\n",
      "Soft Bounce\n",
      "Soft Bounce\n",
      "Soft Bounce\n",
      "Soft Bounce\n",
      "Soft Bounce\n",
      "Sent\n",
      "Sent\n",
      "Sent\n",
      "Sent\n",
      "Sent\n",
      "Soft Bounce\n",
      "Sent\n",
      "Sent\n",
      "Sent\n",
      "Sent\n",
      "Sent\n",
      "Sent\n",
      "Sent\n",
      "Soft Bounce\n",
      "Sent\n",
      "Sent\n",
      "Sent\n",
      "Sent\n",
      "Sent\n",
      "Hard Bounce\n",
      "Soft Bounce\n",
      "Hard Bounce\n",
      "Soft Bounce\n",
      "Soft Bounce\n",
      "Soft Bounce\n",
      "Soft Bounce\n",
      "Soft Bounce\n",
      "Soft Bounce\n",
      "Hard Bounce\n",
      "Hard Bounce\n",
      "Soft Bounce\n",
      "Soft Bounce\n",
      "Hard Bounce\n",
      "Soft Bounce\n",
      "Sent\n",
      "Sent\n",
      "Sent\n",
      "Soft Bounce\n",
      "Soft Bounce\n",
      "Soft Bounce\n",
      "Soft Bounce\n",
      "Hard Bounce\n",
      "Sent\n",
      "Soft Bounce\n",
      "Sent\n",
      "Soft Bounce\n",
      "Sent\n",
      "Soft Bounce\n",
      "Sent\n",
      "Soft Bounce\n",
      "Sent\n",
      "Soft Bounce\n",
      "Soft Bounce\n",
      "Sent\n",
      "Sent\n",
      "Sent\n",
      "Soft Bounce\n",
      "Soft Bounce\n",
      "Sent\n",
      "Sent\n",
      "Sent\n",
      "Sent\n",
      "Sent\n",
      "Sent\n",
      "Sent\n",
      "Sent\n",
      "Sent\n",
      "Sent\n",
      "Sent\n",
      "Sent\n",
      "Sent\n",
      "Sent\n",
      "Soft Bounce\n",
      "Soft Bounce\n",
      "Soft Bounce\n",
      "Soft Bounce\n",
      "Soft Bounce\n",
      "Soft Bounce\n",
      "Soft Bounce\n",
      "Soft Bounce\n",
      "Soft Bounce\n",
      "Soft Bounce\n",
      "Soft Bounce\n",
      "Soft Bounce\n",
      "Sent\n",
      "Sent\n",
      "Sent\n",
      "Sent\n",
      "Sent\n",
      "Sent\n",
      "Sent\n",
      "Sent\n",
      "Sent\n",
      "Sent\n",
      "Sent\n",
      "Sent\n",
      "Sent\n",
      "Soft Bounce\n",
      "Soft Bounce\n",
      "Soft Bounce\n",
      "Soft Bounce\n",
      "Soft Bounce\n",
      "Soft Bounce\n",
      "Soft Bounce\n",
      "Soft Bounce\n",
      "Hard Bounce\n",
      "Soft Bounce\n",
      "Soft Bounce\n",
      "Soft Bounce\n",
      "Soft Bounce\n",
      "Sent\n",
      "Sent\n",
      "Sent\n",
      "Sent\n",
      "Sent\n",
      "Sent\n",
      "Sent\n",
      "Sent\n",
      "Sent\n",
      "Sent\n",
      "Sent\n",
      "Sent\n",
      "Soft Bounce\n",
      "Soft Bounce\n",
      "Soft Bounce\n",
      "Soft Bounce\n",
      "Soft Bounce\n",
      "Soft Bounce\n",
      "Soft Bounce\n",
      "Soft Bounce\n",
      "Soft Bounce\n",
      "Soft Bounce\n",
      "Soft Bounce\n",
      "Soft Bounce\n",
      "Sent\n",
      "Soft Bounce\n",
      "Sent\n",
      "Sent\n",
      "Sent\n",
      "Sent\n",
      "Sent\n",
      "Sent\n",
      "Sent\n",
      "Hard Bounce\n",
      "Sent\n",
      "Sent\n",
      "Sent\n",
      "Sent\n",
      "Sent\n",
      "Soft Bounce\n",
      "Soft Bounce\n",
      "Soft Bounce\n",
      "Soft Bounce\n",
      "Soft Bounce\n",
      "Soft Bounce\n",
      "Soft Bounce\n",
      "Soft Bounce\n",
      "Soft Bounce\n",
      "Soft Bounce\n",
      "Soft Bounce\n",
      "Sent\n",
      "Soft Bounce\n",
      "Sent\n",
      "Soft Bounce\n",
      "Sent\n",
      "Soft Bounce\n",
      "Sent\n",
      "Sent\n",
      "Sent\n",
      "Sent\n",
      "Sent\n",
      "Sent\n",
      "Sent\n",
      "Sent\n",
      "Sent\n",
      "Soft Bounce\n",
      "Soft Bounce\n",
      "Soft Bounce\n",
      "Soft Bounce\n",
      "Soft Bounce\n",
      "Soft Bounce\n",
      "Soft Bounce\n",
      "Soft Bounce\n",
      "Soft Bounce\n",
      "Sent\n",
      "Sent\n",
      "Sent\n",
      "Sent\n",
      "Sent\n",
      "Sent\n",
      "Sent\n",
      "Sent\n",
      "Sent\n",
      "Sent\n",
      "Sent\n",
      "Sent\n",
      "Soft Bounce\n",
      "Soft Bounce\n",
      "Soft Bounce\n",
      "Soft Bounce\n",
      "Soft Bounce\n",
      "Soft Bounce\n",
      "Soft Bounce\n",
      "Soft Bounce\n",
      "Soft Bounce\n",
      "Soft Bounce\n",
      "Soft Bounce\n",
      "Soft Bounce\n",
      "Sent\n",
      "Sent\n",
      "Sent\n",
      "Sent\n",
      "Sent\n",
      "Sent\n",
      "Hard Bounce\n",
      "Soft Bounce\n",
      "Soft Bounce\n",
      "Soft Bounce\n",
      "Soft Bounce\n",
      "Soft Bounce\n",
      "Soft Bounce\n",
      "Soft Bounce\n",
      "Soft Bounce\n",
      "Soft Bounce\n",
      "Soft Bounce\n",
      "Soft Bounce\n",
      "Soft Bounce\n",
      "Soft Bounce\n",
      "Sent\n",
      "Sent\n",
      "Sent\n",
      "Sent\n",
      "Sent\n",
      "Sent\n",
      "Sent\n",
      "Sent\n",
      "Sent\n",
      "Sent\n",
      "Soft Bounce\n",
      "Sent\n",
      "Sent\n",
      "Sent\n",
      "Sent\n",
      "Sent\n",
      "Sent\n",
      "Sent\n",
      "Sent\n",
      "Soft Bounce\n",
      "Soft Bounce\n",
      "Soft Bounce\n",
      "Soft Bounce\n",
      "Soft Bounce\n",
      "Soft Bounce\n",
      "Soft Bounce\n",
      "Soft Bounce\n",
      "Soft Bounce\n",
      "Soft Bounce\n",
      "Soft Bounce\n",
      "Soft Bounce\n",
      "Sent\n",
      "Sent\n",
      "Sent\n",
      "Sent\n",
      "Sent\n",
      "Sent\n",
      "Sent\n",
      "Sent\n",
      "Sent\n",
      "Soft Bounce\n",
      "Soft Bounce\n",
      "Hard Bounce\n",
      "Soft Bounce\n",
      "Sent\n",
      "Soft Bounce\n",
      "Sent\n",
      "Soft Bounce\n",
      "Sent\n",
      "Soft Bounce\n",
      "Soft Bounce\n",
      "Sent\n",
      "Soft Bounce\n",
      "Soft Bounce\n",
      "Soft Bounce\n",
      "Soft Bounce\n",
      "Soft Bounce\n",
      "Sent\n",
      "Sent\n",
      "Sent\n",
      "Sent\n",
      "Soft Bounce\n",
      "Soft Bounce\n",
      "Sent\n",
      "Sent\n",
      "Sent\n",
      "Sent\n",
      "Sent\n",
      "Sent\n",
      "Sent\n",
      "Soft Bounce\n",
      "Soft Bounce\n",
      "Soft Bounce\n",
      "Soft Bounce\n",
      "Soft Bounce\n",
      "Soft Bounce\n",
      "Soft Bounce\n",
      "Soft Bounce\n",
      "Soft Bounce\n",
      "Soft Bounce\n",
      "Soft Bounce\n",
      "Soft Bounce\n",
      "Soft Bounce\n",
      "Soft Bounce\n",
      "Sent\n",
      "Sent\n",
      "Sent\n",
      "Sent\n",
      "Sent\n",
      "Sent\n",
      "Sent\n",
      "Sent\n",
      "Sent\n",
      "Sent\n",
      "Soft Bounce\n",
      "Sent\n",
      "Hard Bounce\n",
      "Sent\n",
      "Hard Bounce\n",
      "Sent\n",
      "Soft Bounce\n",
      "Sent\n",
      "Soft Bounce\n",
      "Sent\n",
      "Soft Bounce\n",
      "Sent\n",
      "Soft Bounce\n",
      "Sent\n",
      "Sent\n",
      "Soft Bounce\n",
      "Sent\n",
      "Sent\n",
      "Soft Bounce\n",
      "Soft Bounce\n",
      "Sent\n",
      "Soft Bounce\n",
      "Sent\n",
      "Soft Bounce\n",
      "Sent\n",
      "Sent\n",
      "Soft Bounce\n",
      "Soft Bounce\n",
      "Soft Bounce\n",
      "Soft Bounce\n",
      "Sent\n",
      "Soft Bounce\n",
      "Sent\n",
      "Soft Bounce\n",
      "Sent\n",
      "Soft Bounce\n",
      "Sent\n",
      "Soft Bounce\n",
      "Sent\n",
      "Soft Bounce\n",
      "Sent\n",
      "Sent\n",
      "Soft Bounce\n",
      "Sent\n",
      "Soft Bounce\n",
      "Sent\n",
      "Sent\n",
      "Soft Bounce\n",
      "Sent\n",
      "Soft Bounce\n",
      "Sent\n",
      "Soft Bounce\n",
      "Sent\n",
      "Soft Bounce\n",
      "Sent\n",
      "Soft Bounce\n",
      "Soft Bounce\n",
      "Soft Bounce\n",
      "Sent\n",
      "Sent\n",
      "Sent\n",
      "Sent\n",
      "Sent\n",
      "Sent\n",
      "Sent\n",
      "Sent\n",
      "Sent\n",
      "Sent\n",
      "Sent\n",
      "Sent\n",
      "Sent\n",
      "Sent\n",
      "Sent\n",
      "Sent\n",
      "Sent\n",
      "Sent\n",
      "Sent\n",
      "Sent\n",
      "Sent\n",
      "Sent\n",
      "Sent\n",
      "Sent\n",
      "Sent\n",
      "Sent\n",
      "Sent\n",
      "Sent\n",
      "Soft Bounce\n",
      "Soft Bounce\n",
      "Soft Bounce\n",
      "Hard Bounce\n",
      "Sent\n",
      "Soft Bounce\n",
      "Hard Bounce\n",
      "Hard Bounce\n",
      "Hard Bounce\n",
      "Soft Bounce\n",
      "Hard Bounce\n",
      "Hard Bounce\n",
      "Hard Bounce\n",
      "Hard Bounce\n",
      "Hard Bounce\n",
      "Hard Bounce\n",
      "Hard Bounce\n",
      "Hard Bounce\n",
      "Hard Bounce\n",
      "Hard Bounce\n",
      "Hard Bounce\n",
      "Hard Bounce\n",
      "Hard Bounce\n",
      "Hard Bounce\n",
      "Hard Bounce\n",
      "Hard Bounce\n",
      "Hard Bounce\n",
      "Sent\n",
      "Soft Bounce\n",
      "Sent\n",
      "Sent\n",
      "Soft Bounce\n",
      "Soft Bounce\n",
      "Sent\n",
      "Sent\n",
      "Soft Bounce\n",
      "Sent\n",
      "Soft Bounce\n",
      "Sent\n",
      "Soft Bounce\n",
      "Sent\n",
      "Soft Bounce\n",
      "Sent\n",
      "Soft Bounce\n",
      "Soft Bounce\n",
      "Hard Bounce\n",
      "Soft Bounce\n",
      "Soft Bounce\n",
      "Sent\n",
      "Sent\n",
      "Sent\n",
      "Sent\n",
      "Sent\n",
      "Sent\n",
      "Sent\n",
      "Sent\n",
      "Sent\n",
      "Sent\n",
      "Sent\n",
      "Soft Bounce\n",
      "Soft Bounce\n",
      "Soft Bounce\n",
      "Sent\n",
      "Soft Bounce\n",
      "Soft Bounce\n",
      "Sent\n",
      "Soft Bounce\n",
      "Sent\n",
      "Soft Bounce\n",
      "Soft Bounce\n",
      "Sent\n",
      "Soft Bounce\n",
      "Soft Bounce\n",
      "Soft Bounce\n",
      "Soft Bounce\n",
      "Soft Bounce\n",
      "Soft Bounce\n",
      "Soft Bounce\n",
      "Soft Bounce\n",
      "Sent\n",
      "Sent\n",
      "Soft Bounce\n",
      "Sent\n",
      "Soft Bounce\n",
      "Sent\n",
      "Soft Bounce\n",
      "Sent\n",
      "Soft Bounce\n",
      "Sent\n",
      "Hard Bounce\n",
      "Sent\n",
      "Hard Bounce\n",
      "Sent\n",
      "Hard Bounce\n",
      "Sent\n",
      "Soft Bounce\n",
      "Sent\n",
      "Hard Bounce\n",
      "Sent\n",
      "Sent\n",
      "Hard Bounce\n",
      "Sent\n",
      "Hard Bounce\n",
      "Sent\n",
      "Hard Bounce\n",
      "Sent\n",
      "Hard Bounce\n",
      "Sent\n",
      "Hard Bounce\n",
      "Sent\n",
      "Hard Bounce\n",
      "Sent\n",
      "Hard Bounce\n",
      "Sent\n",
      "Hard Bounce\n",
      "Sent\n",
      "Hard Bounce\n",
      "Sent\n",
      "Sent\n",
      "Hard Bounce\n",
      "Sent\n",
      "Hard Bounce\n",
      "Sent\n",
      "Hard Bounce\n",
      "Sent\n",
      "Hard Bounce\n",
      "Sent\n",
      "Hard Bounce\n",
      "Hard Bounce\n",
      "Sent\n",
      "Soft Bounce\n",
      "Sent\n",
      "Soft Bounce\n",
      "Sent\n",
      "Hard Bounce\n",
      "Sent\n",
      "Sent\n",
      "Soft Bounce\n",
      "Sent\n",
      "Hard Bounce\n",
      "Sent\n",
      "Soft Bounce\n",
      "Sent\n",
      "Soft Bounce\n",
      "Sent\n",
      "Sent\n",
      "Soft Bounce\n",
      "Sent\n",
      "Soft Bounce\n",
      "Sent\n",
      "Soft Bounce\n",
      "Sent\n",
      "Soft Bounce\n",
      "Sent\n",
      "Soft Bounce\n",
      "Hard Bounce\n",
      "Sent\n",
      "Soft Bounce\n",
      "Soft Bounce\n",
      "Soft Bounce\n",
      "Sent\n",
      "Sent\n",
      "Sent\n",
      "Sent\n",
      "Sent\n",
      "Sent\n",
      "Sent\n",
      "Sent\n",
      "Sent\n",
      "Sent\n",
      "Sent\n",
      "Soft Bounce\n",
      "Soft Bounce\n",
      "Soft Bounce\n",
      "Soft Bounce\n",
      "Soft Bounce\n",
      "Hard Bounce\n",
      "Soft Bounce\n",
      "Soft Bounce\n",
      "Hard Bounce\n",
      "Soft Bounce\n",
      "Hard Bounce\n",
      "Hard Bounce\n",
      "Soft Bounce\n",
      "Soft Bounce\n",
      "Soft Bounce\n",
      "Soft Bounce\n",
      "Soft Bounce\n",
      "Soft Bounce\n",
      "Soft Bounce\n",
      "Soft Bounce\n",
      "Hard Bounce\n",
      "Sent\n",
      "Sent\n",
      "Sent\n",
      "Sent\n",
      "Sent\n",
      "Sent\n",
      "Sent\n",
      "Sent\n",
      "Sent\n",
      "Sent\n",
      "Sent\n",
      "Sent\n",
      "Sent\n",
      "Sent\n",
      "Sent\n",
      "Sent\n",
      "Sent\n",
      "Soft Bounce\n",
      "Sent\n",
      "Soft Bounce\n",
      "Sent\n",
      "Soft Bounce\n",
      "Sent\n",
      "Soft Bounce\n",
      "Sent\n",
      "Soft Bounce\n",
      "Sent\n",
      "Soft Bounce\n",
      "Sent\n",
      "Soft Bounce\n",
      "Soft Bounce\n",
      "Sent\n",
      "Hard Bounce\n",
      "Soft Bounce\n",
      "Soft Bounce\n",
      "Soft Bounce\n",
      "Soft Bounce\n",
      "Soft Bounce\n",
      "Soft Bounce\n",
      "Soft Bounce\n",
      "Sent\n",
      "Sent\n",
      "Sent\n",
      "Sent\n",
      "Sent\n",
      "Sent\n",
      "Sent\n",
      "Sent\n",
      "Sent\n",
      "Sent\n",
      "Sent\n",
      "Sent\n",
      "Sent\n",
      "Sent\n",
      "Soft Bounce\n",
      "Soft Bounce\n",
      "Sent\n",
      "Soft Bounce\n",
      "Soft Bounce\n",
      "Hard Bounce\n",
      "Sent\n",
      "Soft Bounce\n",
      "Soft Bounce\n",
      "Soft Bounce\n",
      "Sent\n",
      "Soft Bounce\n",
      "Sent\n",
      "Soft Bounce\n",
      "Sent\n",
      "Soft Bounce\n",
      "Sent\n",
      "Soft Bounce\n",
      "Sent\n",
      "Soft Bounce\n",
      "Sent\n",
      "Soft Bounce\n",
      "Soft Bounce\n",
      "Hard Bounce\n",
      "Soft Bounce\n",
      "Soft Bounce\n",
      "Hard Bounce\n",
      "Hard Bounce\n",
      "Sent\n",
      "Sent\n",
      "Sent\n",
      "Sent\n",
      "Sent\n",
      "Soft Bounce\n",
      "Soft Bounce\n",
      "Soft Bounce\n",
      "Sent\n",
      "Soft Bounce\n",
      "Sent\n",
      "Soft Bounce\n",
      "Sent\n",
      "Soft Bounce\n",
      "Soft Bounce\n",
      "Sent\n",
      "Soft Bounce\n",
      "Hard Bounce\n",
      "Hard Bounce\n",
      "Sent\n",
      "Soft Bounce\n",
      "Sent\n",
      "Soft Bounce\n",
      "Sent\n",
      "Soft Bounce\n",
      "Sent\n",
      "Soft Bounce\n",
      "Sent\n",
      "Soft Bounce\n",
      "Sent\n",
      "Soft Bounce\n",
      "Sent\n",
      "Soft Bounce\n",
      "Sent\n",
      "Sent\n",
      "Sent\n",
      "Hard Bounce\n",
      "Sent\n",
      "Sent\n",
      "Hard Bounce\n",
      "Sent\n",
      "Sent\n",
      "Sent\n",
      "Sent\n",
      "Sent\n",
      "Hard Bounce\n",
      "Sent\n",
      "Sent\n",
      "Sent\n",
      "Sent\n",
      "Sent\n",
      "Sent\n",
      "Sent\n",
      "Soft Bounce\n",
      "Soft Bounce\n",
      "Soft Bounce\n",
      "Sent\n",
      "Soft Bounce\n",
      "Soft Bounce\n",
      "Sent\n",
      "Soft Bounce\n",
      "Soft Bounce\n",
      "Soft Bounce\n",
      "Hard Bounce\n",
      "Hard Bounce\n",
      "Hard Bounce\n",
      "Soft Bounce\n",
      "Hard Bounce\n",
      "Soft Bounce\n",
      "Hard Bounce\n",
      "Hard Bounce\n",
      "Soft Bounce\n",
      "Sent\n",
      "Soft Bounce\n",
      "Soft Bounce\n",
      "Soft Bounce\n",
      "Soft Bounce\n",
      "Soft Bounce\n",
      "Soft Bounce\n",
      "Sent\n",
      "Sent\n",
      "Sent\n",
      "Sent\n",
      "Sent\n",
      "Sent\n",
      "Sent\n",
      "Sent\n",
      "Soft Bounce\n",
      "Sent\n",
      "Soft Bounce\n",
      "Sent\n",
      "Soft Bounce\n",
      "Sent\n",
      "Soft Bounce\n",
      "Sent\n",
      "Soft Bounce\n",
      "Sent\n",
      "Soft Bounce\n",
      "Sent\n",
      "Soft Bounce\n",
      "Sent\n",
      "Soft Bounce\n",
      "Sent\n",
      "Soft Bounce\n",
      "Sent\n",
      "Soft Bounce\n",
      "Sent\n",
      "Soft Bounce\n",
      "Sent\n",
      "Soft Bounce\n",
      "Sent\n",
      "Hard Bounce\n",
      "Sent\n",
      "Soft Bounce\n",
      "Sent\n",
      "Hard Bounce\n",
      "Sent\n",
      "Soft Bounce\n",
      "Sent\n",
      "Soft Bounce\n",
      "Sent\n",
      "Soft Bounce\n",
      "Sent\n",
      "Soft Bounce\n",
      "Sent\n",
      "Soft Bounce\n",
      "Sent\n",
      "Soft Bounce\n",
      "Sent\n",
      "Sent\n",
      "Sent\n",
      "Sent\n",
      "Sent\n",
      "Soft Bounce\n",
      "Sent\n",
      "Soft Bounce\n",
      "Sent\n",
      "Soft Bounce\n",
      "Sent\n",
      "Soft Bounce\n",
      "Sent\n",
      "Soft Bounce\n",
      "Sent\n",
      "Soft Bounce\n",
      "Soft Bounce\n",
      "Sent\n",
      "Soft Bounce\n",
      "Soft Bounce\n",
      "Sent\n",
      "Soft Bounce\n",
      "Soft Bounce\n",
      "Hard Bounce\n",
      "Sent\n",
      "Soft Bounce\n",
      "Sent\n",
      "Soft Bounce\n",
      "Sent\n",
      "Soft Bounce\n",
      "Sent\n",
      "Soft Bounce\n",
      "Sent\n",
      "Soft Bounce\n",
      "Sent\n",
      "Soft Bounce\n",
      "Sent\n",
      "Soft Bounce\n",
      "Sent\n",
      "Hard Bounce\n",
      "Sent\n",
      "Sent\n",
      "Soft Bounce\n",
      "Sent\n",
      "Soft Bounce\n",
      "Sent\n",
      "Hard Bounce\n",
      "Sent\n",
      "Hard Bounce\n",
      "Sent\n",
      "Hard Bounce\n",
      "Sent\n",
      "Soft Bounce\n",
      "Sent\n",
      "Hard Bounce\n",
      "Sent\n",
      "Soft Bounce\n",
      "Sent\n",
      "Soft Bounce\n",
      "Sent\n",
      "Soft Bounce\n",
      "Hard Bounce\n",
      "Sent\n",
      "Soft Bounce\n",
      "Sent\n",
      "Soft Bounce\n",
      "Sent\n",
      "Soft Bounce\n",
      "Sent\n",
      "Soft Bounce\n",
      "Sent\n",
      "Soft Bounce\n",
      "Sent\n",
      "Soft Bounce\n",
      "Sent\n",
      "Soft Bounce\n",
      "Sent\n",
      "Soft Bounce\n",
      "Sent\n",
      "Soft Bounce\n",
      "Sent\n",
      "Soft Bounce\n",
      "Sent\n",
      "Soft Bounce\n",
      "Sent\n",
      "Soft Bounce\n",
      "Sent\n",
      "Soft Bounce\n",
      "Sent\n",
      "Soft Bounce\n",
      "Sent\n",
      "Soft Bounce\n",
      "Sent\n",
      "Soft Bounce\n",
      "Sent\n",
      "Soft Bounce\n",
      "Sent\n",
      "Sent\n",
      "Sent\n",
      "Sent\n",
      "Sent\n",
      "Sent\n",
      "Soft Bounce\n",
      "Sent\n",
      "Sent\n",
      "Sent\n",
      "Soft Bounce\n",
      "Sent\n",
      "Sent\n",
      "Sent\n",
      "Soft Bounce\n",
      "Sent\n",
      "Sent\n",
      "Hard Bounce\n",
      "Sent\n",
      "Sent\n",
      "Sent\n",
      "Sent\n",
      "Sent\n",
      "Sent\n",
      "Soft Bounce\n",
      "Soft Bounce\n",
      "Soft Bounce\n",
      "Soft Bounce\n",
      "Soft Bounce\n",
      "Soft Bounce\n",
      "Soft Bounce\n",
      "Soft Bounce\n",
      "Soft Bounce\n",
      "Soft Bounce\n",
      "Soft Bounce\n",
      "Soft Bounce\n",
      "Soft Bounce\n",
      "Soft Bounce\n",
      "Soft Bounce\n",
      "Soft Bounce\n",
      "Sent\n",
      "Soft Bounce\n",
      "Sent\n",
      "Soft Bounce\n",
      "Sent\n",
      "Soft Bounce\n",
      "Sent\n",
      "Soft Bounce\n",
      "Sent\n",
      "Soft Bounce\n",
      "Sent\n",
      "Soft Bounce\n",
      "Sent\n",
      "Soft Bounce\n",
      "Sent\n",
      "Sent\n",
      "Sent\n",
      "Soft Bounce\n",
      "Sent\n",
      "Soft Bounce\n",
      "Sent\n",
      "Soft Bounce\n",
      "Sent\n",
      "Soft Bounce\n",
      "Sent\n",
      "Soft Bounce\n",
      "Sent\n",
      "Soft Bounce\n",
      "Sent\n",
      "Soft Bounce\n",
      "Sent\n",
      "Soft Bounce\n",
      "Sent\n",
      "Soft Bounce\n",
      "Sent\n",
      "Soft Bounce\n",
      "Sent\n",
      "Soft Bounce\n",
      "Sent\n",
      "Soft Bounce\n"
     ]
    }
   ],
   "source": [
    "c = 0\n",
    "d = 0\n",
    "f = 0\n",
    "for i in range(len(data)):\n",
    "    if \"nan\" not in str(data[\"Ultima email consegnata al contatto\"][i]) and \"nan\" not in str(data[\"Ultima email inviata al contatto\"][i]) and pd.to_datetime(data[\"Ultima email consegnata al contatto\"][i], format='%d/%m/%Y %H:%M')  >= pd.to_datetime(data[\"Ultima email inviata al contatto\"][i], format='%d/%m/%Y %H:%M') :\n",
    "        c += 1\n",
    "    elif \"nan\" not in str(data[\"Ultima email consegnata al contatto\"][i]) and \"nan\" not in str(data[\"Ultima email inviata al contatto\"][i]) and pd.to_datetime(data[\"Ultima email consegnata al contatto\"][i], format='%d/%m/%Y %H:%M')  < pd.to_datetime(data[\"Ultima email inviata al contatto\"][i], format='%d/%m/%Y %H:%M') :\n",
    "        d += 1\n",
    "    elif  \"nan\" not in str(data[\"Ultima email consegnata al contatto\"][i]) or \"nan\" not in str(data[\"Ultima email inviata al contatto\"][i]):\n",
    "        f += 1\n",
    "        print(data[\"EVENT.TYPE\"][i])"
   ]
  },
  {
   "cell_type": "code",
   "execution_count": 256,
   "id": "6c3fbc75",
   "metadata": {},
   "outputs": [
    {
     "data": {
      "text/plain": [
       "94.50425871055437"
      ]
     },
     "execution_count": 256,
     "metadata": {},
     "output_type": "execute_result"
    }
   ],
   "source": [
    "c / len(data) * 100"
   ]
  },
  {
   "cell_type": "code",
   "execution_count": 257,
   "id": "e605b108",
   "metadata": {},
   "outputs": [
    {
     "data": {
      "text/plain": [
       "4.478735783925446"
      ]
     },
     "execution_count": 257,
     "metadata": {},
     "output_type": "execute_result"
    }
   ],
   "source": [
    "d / len(data) * 100"
   ]
  },
  {
   "cell_type": "code",
   "execution_count": 258,
   "id": "31879621",
   "metadata": {},
   "outputs": [
    {
     "data": {
      "text/plain": [
       "1.0170055055201885"
      ]
     },
     "execution_count": 258,
     "metadata": {},
     "output_type": "execute_result"
    }
   ],
   "source": [
    "f / len(data) * 100"
   ]
  },
  {
   "cell_type": "markdown",
   "id": "1f4c6ef7",
   "metadata": {},
   "source": [
    "**Data ultima mail arrivata** dovrebbe essere la data dell'ultimo messaggio che il contatto ha ricevuto.\n",
    "Se il messaggio è stato aperto, dovrebbe coincidere con **data ultima mail aperta**, altrimenti la data dell'ultima mail aperta dovrebbe essere più vecchia.\n",
    "La logica dovrebbe essere \"se è aperta, è anche arrivata...non per forza il contrario\". <br>\n",
    "Here I am verifying that _Ultima email aperta dal contatto_ is <= than _Ultima email inviata al contatto_. VERIFIED."
   ]
  },
  {
   "cell_type": "code",
   "execution_count": 260,
   "id": "0f40365a",
   "metadata": {},
   "outputs": [
    {
     "name": "stdout",
     "output_type": "stream",
     "text": [
      "The number of mails where Ultima email aperta dal contatto > Ultima email inviata al contatto is : 0\n"
     ]
    }
   ],
   "source": [
    "counter_inviata_equals_aperta = len(data.loc[(data[\"EVENT.TYPE\"] == 'Open') & (data[\"Ultima email aperta dal contatto\"] == data[\"Ultima email inviata al contatto\"])])\n",
    "inviata_greater_than_aperta = len(data.loc[(data[\"EVENT.TYPE\"] == 'Open') & (data[\"Ultima email aperta dal contatto\"] != data[\"Ultima email inviata al contatto\"])])\n",
    "opened_mails = data.loc[(data[\"EVENT.TYPE\"] == 'Open')]\n",
    "counter_aperta_greater_than_inviata = 0 # note that this should be zero\n",
    "counter_inviata_greater_than_orequal_aperta = 0 # note that this should be equal to inviata_greater_than_aperta + counter_inviata_equals_aperta\n",
    "for i in range(len(opened_mails)):\n",
    "    if \"nan\" not in str(data[\"Ultima email aperta dal contatto\"][i]) and \"nan\" not in str(data[\"Ultima email inviata al contatto\"][i]) and pd.to_datetime(data[\"Ultima email aperta dal contatto\"][i], format='%d/%m/%Y %H:%M') > pd.to_datetime(data[\"Ultima email inviata al contatto\"][i], format='%d/%m/%Y %H:%M'):\n",
    "        print(\"aperta\", data[\"Ultima email aperta dal contatto\"][i])\n",
    "        print(\"inviata\", data[\"Ultima email inviata al contatto\"][i])\n",
    "        counter_aperta_greater_than_inviata += 1\n",
    "    else:\n",
    "        counter_inviata_greater_than_orequal_aperta += 1\n",
    "print(\"The number of mails where Ultima email aperta dal contatto > Ultima email inviata al contatto is :\", counter_aperta_greater_than_inviata)\n",
    "assert(counter_inviata_greater_than_orequal_aperta == (inviata_greater_than_aperta + counter_inviata_equals_aperta))"
   ]
  },
  {
   "cell_type": "markdown",
   "id": "64ce7ee4",
   "metadata": {},
   "source": [
    "**Data ultima mail cliccata** dovrebbe essere una mail aperta dentro la quale l'utente ha cliccato su qualche pulsante.\n",
    "Una mail può essere aperta ma non cliccata. Se una mail è cliccata, sicuramente è stata aperta. <br>\n",
    "Here I am verifying that if _Ultima email cliccata dal contatto_ exists, then _Ultima email aperta dal contatto_ exists too. VERIFIED."
   ]
  },
  {
   "cell_type": "code",
   "execution_count": 139,
   "id": "1651886f",
   "metadata": {},
   "outputs": [
    {
     "data": {
      "text/plain": [
       "15130"
      ]
     },
     "execution_count": 139,
     "metadata": {},
     "output_type": "execute_result"
    }
   ],
   "source": [
    "len(data.loc[(data[\"Ultima email cliccata dal contatto\"]) == (data[\"Ultima email aperta dal contatto\"])])"
   ]
  },
  {
   "cell_type": "code",
   "execution_count": 146,
   "id": "17e1d544",
   "metadata": {},
   "outputs": [],
   "source": [
    "for i in range(len(data)):\n",
    "    if \"nan\" not in str(data[\"Ultima email cliccata dal contatto\"][i]):\n",
    "        assert(str(data[\"Ultima email aperta dal contatto\"]) != \"nan\")"
   ]
  },
  {
   "cell_type": "markdown",
   "id": "b5c2facc",
   "metadata": {},
   "source": [
    "**Data ultima mail cliccata** dovrebbe essere l'ultimo messaggio su cui c'è stato un click. Dovrebbe essere univoca per utente. <br> Here I am verifying that Ultima email cliccata dal contatto is unique for each contanct. VERIFIED."
   ]
  },
  {
   "cell_type": "code",
   "execution_count": 186,
   "id": "2112c982",
   "metadata": {},
   "outputs": [
    {
     "data": {
      "text/plain": [
       "True"
      ]
     },
     "execution_count": 186,
     "metadata": {},
     "output_type": "execute_result"
    }
   ],
   "source": [
    "len(data.groupby(['HashContatto'])) == len(data.groupby(['HashContatto', 'Ultima email cliccata dal contatto']))"
   ]
  },
  {
   "cell_type": "markdown",
   "id": "fb39e2d5",
   "metadata": {},
   "source": [
    "**Timestamp ultimo click** credo si riferisca allo specifico messaggio. Dovrebbe essere univoco per messaggio. <br>\n",
    "Here I am verifying that timestamp ultimo click is unique for each message. VERIFIED."
   ]
  },
  {
   "cell_type": "code",
   "execution_count": 183,
   "id": "38523f6e",
   "metadata": {},
   "outputs": [
    {
     "data": {
      "text/plain": [
       "True"
      ]
     },
     "execution_count": 183,
     "metadata": {},
     "output_type": "execute_result"
    }
   ],
   "source": [
    "len(data.groupby(['HashMessaggio'])) == len(data.groupby(['HashMessaggio', 'MESSAGE_STATISTICS.LAST_CLICK_TIMESTAMP']))"
   ]
  },
  {
   "cell_type": "markdown",
   "id": "6cb5eb83",
   "metadata": {},
   "source": [
    "**Data ultima mail aperta** dovrebbe essere l'ultimo messaggio che l'utente ha aperto (senza necessariamente cliccare). Dovrebbe essere univoca per utente. <br>\n",
    "Here I am verifying that Ultima email aperta dal contatto is unique for each contact."
   ]
  },
  {
   "cell_type": "code",
   "execution_count": 190,
   "id": "fa27fb6b",
   "metadata": {},
   "outputs": [
    {
     "data": {
      "text/plain": [
       "True"
      ]
     },
     "execution_count": 190,
     "metadata": {},
     "output_type": "execute_result"
    }
   ],
   "source": [
    "len(data.groupby(['HashContatto'])) == len(data.groupby(['HashContatto', 'Ultima email aperta dal contatto']))"
   ]
  },
  {
   "cell_type": "markdown",
   "id": "c7f63e8a",
   "metadata": {},
   "source": [
    "**Timestamp ultima apertura messaggio** dovrebbe registrare l'ultimo evento di apertura dell'utente sul singolo messaggio. Dovrebbe essere univoco per utente, messaggio. <br>\n",
    "Verified that each message has a unique MESSAGE_STATISTICS.LAST_OPEN_TIMESTAMP. <br>\n",
    "Verified that each contact **DOES NOT** have a unique MESSAGE_STATISTICS.LAST_OPEN_TIMESTAMP."
   ]
  },
  {
   "cell_type": "code",
   "execution_count": 191,
   "id": "2c2f45b6",
   "metadata": {},
   "outputs": [
    {
     "data": {
      "text/plain": [
       "True"
      ]
     },
     "execution_count": 191,
     "metadata": {},
     "output_type": "execute_result"
    }
   ],
   "source": [
    "len(data.groupby(['HashMessaggio'])) == len(data.groupby(['HashMessaggio', 'MESSAGE_STATISTICS.LAST_OPEN_TIMESTAMP']))"
   ]
  },
  {
   "cell_type": "code",
   "execution_count": 192,
   "id": "3cfba28b",
   "metadata": {},
   "outputs": [
    {
     "data": {
      "text/plain": [
       "False"
      ]
     },
     "execution_count": 192,
     "metadata": {},
     "output_type": "execute_result"
    }
   ],
   "source": [
    "len(data.groupby(['HashContatto'])) == len(data.groupby(['HashContatto', 'MESSAGE_STATISTICS.LAST_OPEN_TIMESTAMP']))"
   ]
  },
  {
   "cell_type": "code",
   "execution_count": 231,
   "id": "322cf408",
   "metadata": {},
   "outputs": [
    {
     "data": {
      "text/plain": [
       "0        2021-02-17 13:03:29.952\n",
       "1773     2021-02-17 13:03:29.952\n",
       "1774     2021-02-17 13:03:29.952\n",
       "2345     2021-02-17 13:03:29.952\n",
       "3431     2020-07-14 09:54:14.993\n",
       "                  ...           \n",
       "96794    2021-06-23 13:04:57.177\n",
       "98634    2021-06-23 13:04:57.177\n",
       "99323    2021-06-23 13:04:57.177\n",
       "99839    2021-06-29 10:32:03.922\n",
       "99840    2021-06-29 10:32:03.922\n",
       "Name: MESSAGE_STATISTICS.LAST_OPEN_TIMESTAMP, Length: 140, dtype: object"
      ]
     },
     "execution_count": 231,
     "metadata": {},
     "output_type": "execute_result"
    }
   ],
   "source": [
    "data.loc[data['HashContatto'] == data['HashContatto'][0]]['MESSAGE_STATISTICS.LAST_OPEN_TIMESTAMP']"
   ]
  },
  {
   "cell_type": "code",
   "execution_count": 101,
   "id": "517b49b1",
   "metadata": {},
   "outputs": [],
   "source": [
    "test_if_all_rows_are_equal = data.loc[data['HashContatto'] == data['HashContatto'][0]].head(4)"
   ]
  },
  {
   "cell_type": "code",
   "execution_count": 15,
   "id": "6a38f768",
   "metadata": {},
   "outputs": [
    {
     "data": {
      "text/plain": [
       "MESSAGE.CHANNEL_ID                                                                            0\n",
       "MESSAGE.SUBJECT                               Segui i nostri workshop sulla strategia del co...\n",
       "MESSAGE.CHANNEL_NAME                                                                      email\n",
       "CAMPAIGN.CAMPAIGN_ID                                                                         25\n",
       "CAMPAIGN.CAMPAIGN_NAME                                                                      tbd\n",
       "COMUNICATION.SUBJECT                          Segui i nostri workshop sulla strategia del co...\n",
       "COMUNICATION.COMUNICATION_NAME                                                    Eventi Luglio\n",
       "EVENT.CONTENT_NAME                                                                          NaN\n",
       "EVENT.TAGS                                                                                  NaN\n",
       "EVENT.NEWSLETTER_ID                                                                        2868\n",
       "EVENT.MESSAGE_ID                                                                            NaN\n",
       "EVENT.BOUNCE_DETAIL                                                                         NaN\n",
       "EVENT.BOUNCE_CODE                                                                           NaN\n",
       "EVENT.DATE                                                              2021-02-17 13:03:29.952\n",
       "EVENT.CATEGORY                                                                 Image downloaded\n",
       "EVENT.TYPE                                                                                 Open\n",
       "EVENT.MESSAGE_CATEGORY                                                                      NaN\n",
       "EVENT.DELIVERY_ID                                                                           648\n",
       "EVENT.OFFSET                                                                     ns:2868:504441\n",
       "MESSAGE_STATISTICS.LAST_OPEN_TIMESTAMP                                  2021-02-17 13:03:29.952\n",
       "MESSAGE_STATISTICS.SENT_TIMESTAMP                                       2020-07-06 10:38:35.722\n",
       "MESSAGE_STATISTICS.LAST_CLICK_TIMESTAMP                                                     NaN\n",
       "MESSAGE_STATISTICS.GEO_LOCAL_INFO_CITY                                                    Milan\n",
       "MESSAGE_STATISTICS.GEO_LOCAL_INFO_COUNTRY                                                 Italy\n",
       "MESSAGE_STATISTICS.GEO_LOCAL_INFO_REGION                                              Lombardia\n",
       "MESSAGE_STATISTICS.GEO_LOCAL_INFO_TIMEZONE                                          Europe/Rome\n",
       "MESSAGE_STATISTICS.GEO_LOCAL_INFO_ISP                                                   Fastweb\n",
       "MESSAGE_STATISTICS.PLATFORM_DETAIL                                                          NaN\n",
       "MESSAGE_STATISTICS.PLATFORM_NAME                                                            NaN\n",
       "MESSAGE_STATISTICS.PLATFORM_TYPE                                                        Desktop\n",
       "MESSAGE_STATISTICS.USER_AGENT_TYPE                                                     Software\n",
       "MESSAGE_STATISTICS.USER_AGENT_DETAIL                                                        NaN\n",
       "MESSAGE_STATISTICS.USER_AGENT_NAME                                                          NaN\n",
       "CONTACT.LINGUA                                                                              NaN\n",
       "Causa di disiscrizione                                                                        0\n",
       "Causa di disiscrizione(descrizione)                                                         NaN\n",
       "Data di disiscrizione                                                                       NaN\n",
       "Ultima email cliccata dal contatto                                             10/03/2021 17:00\n",
       "Ultima email aperta dal contatto                                               29/06/2021 10:31\n",
       "Ultima email consegnata al contatto                                            29/06/2021 10:31\n",
       "Ultima email inviata al contatto                                               29/06/2021 10:31\n",
       "Aperture totali del contatto (Email)                                                        252\n",
       "HashMessaggio                                 638fc9f87168ed6312f74093610c48d0401d0989d8245f...\n",
       "HashContatto                                  f22b4b39d49fb0a08320d7d6bb18637279018566f48dc4...\n",
       "Name: 0, dtype: object"
      ]
     },
     "execution_count": 15,
     "metadata": {},
     "output_type": "execute_result"
    }
   ],
   "source": [
    "test_if_all_rows_are_equal.iloc[0]"
   ]
  },
  {
   "cell_type": "code",
   "execution_count": 16,
   "id": "73436f91",
   "metadata": {},
   "outputs": [
    {
     "data": {
      "text/plain": [
       "MESSAGE.CHANNEL_ID                                                                            0\n",
       "MESSAGE.SUBJECT                               Segui i nostri workshop sulla strategia del co...\n",
       "MESSAGE.CHANNEL_NAME                                                                      email\n",
       "CAMPAIGN.CAMPAIGN_ID                                                                         25\n",
       "CAMPAIGN.CAMPAIGN_NAME                                                                      tbd\n",
       "COMUNICATION.SUBJECT                          Segui i nostri workshop sulla strategia del co...\n",
       "COMUNICATION.COMUNICATION_NAME                                                    Eventi Luglio\n",
       "EVENT.CONTENT_NAME                                                                          NaN\n",
       "EVENT.TAGS                                                                                  NaN\n",
       "EVENT.NEWSLETTER_ID                                                                        2868\n",
       "EVENT.MESSAGE_ID                                                                            NaN\n",
       "EVENT.BOUNCE_DETAIL                                                                         NaN\n",
       "EVENT.BOUNCE_CODE                                                                           NaN\n",
       "EVENT.DATE                                                              2020-07-06 11:21:27.921\n",
       "EVENT.CATEGORY                                                                 Image downloaded\n",
       "EVENT.TYPE                                                                                 Open\n",
       "EVENT.MESSAGE_CATEGORY                                                                      NaN\n",
       "EVENT.DELIVERY_ID                                                                           648\n",
       "EVENT.OFFSET                                                                     ns:2868:313542\n",
       "MESSAGE_STATISTICS.LAST_OPEN_TIMESTAMP                                  2021-02-17 13:03:29.952\n",
       "MESSAGE_STATISTICS.SENT_TIMESTAMP                                       2020-07-06 10:38:35.722\n",
       "MESSAGE_STATISTICS.LAST_CLICK_TIMESTAMP                                                     NaN\n",
       "MESSAGE_STATISTICS.GEO_LOCAL_INFO_CITY                                                    Milan\n",
       "MESSAGE_STATISTICS.GEO_LOCAL_INFO_COUNTRY                                                 Italy\n",
       "MESSAGE_STATISTICS.GEO_LOCAL_INFO_REGION                                              Lombardia\n",
       "MESSAGE_STATISTICS.GEO_LOCAL_INFO_TIMEZONE                                          Europe/Rome\n",
       "MESSAGE_STATISTICS.GEO_LOCAL_INFO_ISP                                                   Fastweb\n",
       "MESSAGE_STATISTICS.PLATFORM_DETAIL                                                          NaN\n",
       "MESSAGE_STATISTICS.PLATFORM_NAME                                                            NaN\n",
       "MESSAGE_STATISTICS.PLATFORM_TYPE                                                        Desktop\n",
       "MESSAGE_STATISTICS.USER_AGENT_TYPE                                                     Software\n",
       "MESSAGE_STATISTICS.USER_AGENT_DETAIL                                                        NaN\n",
       "MESSAGE_STATISTICS.USER_AGENT_NAME                                                          NaN\n",
       "CONTACT.LINGUA                                                                              NaN\n",
       "Causa di disiscrizione                                                                        0\n",
       "Causa di disiscrizione(descrizione)                                                         NaN\n",
       "Data di disiscrizione                                                                       NaN\n",
       "Ultima email cliccata dal contatto                                             10/03/2021 17:00\n",
       "Ultima email aperta dal contatto                                               29/06/2021 10:31\n",
       "Ultima email consegnata al contatto                                            29/06/2021 10:31\n",
       "Ultima email inviata al contatto                                               29/06/2021 10:31\n",
       "Aperture totali del contatto (Email)                                                        252\n",
       "HashMessaggio                                 638fc9f87168ed6312f74093610c48d0401d0989d8245f...\n",
       "HashContatto                                  f22b4b39d49fb0a08320d7d6bb18637279018566f48dc4...\n",
       "Name: 1773, dtype: object"
      ]
     },
     "execution_count": 16,
     "metadata": {},
     "output_type": "execute_result"
    }
   ],
   "source": [
    "test_if_all_rows_are_equal.iloc[1]"
   ]
  },
  {
   "cell_type": "markdown",
   "id": "fb86f55a",
   "metadata": {},
   "source": [
    "Above I checked whether for each \"contact, message\" there was a differet MESSAGE_STATISTICS.LAST_OPEN_TIMESTAMP. It should be but actually it is not. Indeed there are duplicates in these rows, the only thing that changes is for the columns \"EVENT.DATE\" and \"EVENT.OFFSET\"."
   ]
  },
  {
   "cell_type": "markdown",
   "id": "1ab68cff",
   "metadata": {},
   "source": [
    "**Ultima email inviata al contatto** dovrebbe differire in generale dalla data **Ultima email consegnata al contatto** perché alcune mail potrebbero essere \"rimbalzate\" (bounce) e quindi non consegnate. <br>\n",
    "Here I am verifying whether inviata < consegnata (because the most of the major mails should have been arrived so the date of consegnata should be higher)"
   ]
  },
  {
   "cell_type": "code",
   "execution_count": 262,
   "id": "3f82eeab",
   "metadata": {},
   "outputs": [],
   "source": [
    "inviata_less_than_consegnata = 0\n",
    "consegnata_less_than_inviata = 0\n",
    "for i in range(len(opened_mails)):\n",
    "    if \"nan\" not in str(data[\"Ultima email consegnata al contatto\"][i]) and \"nan\" not in str(data[\"Ultima email inviata al contatto\"][i]) and pd.to_datetime(data[\"Ultima email consegnata al contatto\"][i], format='%d/%m/%Y %H:%M') >= pd.to_datetime(data[\"Ultima email inviata al contatto\"][i], format='%d/%m/%Y %H:%M'):\n",
    "        #print(\"consegnata\", data[\"Ultima email consegnata al contatto\"][i])\n",
    "        #print(\"inviata\", data[\"Ultima email inviata al contatto\"][i])\n",
    "        inviata_less_than_consegnata += 1\n",
    "    else:\n",
    "        #print(\"consegnata\", data[\"Ultima email consegnata al contatto\"][i])\n",
    "        #print(\"inviata\", data[\"Ultima email inviata al contatto\"][i])\n",
    "        consegnata_less_than_inviata +=1"
   ]
  },
  {
   "cell_type": "code",
   "execution_count": 263,
   "id": "3efcedcb",
   "metadata": {},
   "outputs": [
    {
     "data": {
      "text/plain": [
       "6.7770651861778495"
      ]
     },
     "execution_count": 263,
     "metadata": {},
     "output_type": "execute_result"
    }
   ],
   "source": [
    "# % of mails that has consegnata less than inviata\n",
    "consegnata_less_than_inviata / (inviata_less_than_consegnata + consegnata_less_than_inviata) * 100"
   ]
  },
  {
   "cell_type": "code",
   "execution_count": 264,
   "id": "c35f0af7",
   "metadata": {},
   "outputs": [
    {
     "data": {
      "text/plain": [
       "93.22293481382215"
      ]
     },
     "execution_count": 264,
     "metadata": {},
     "output_type": "execute_result"
    }
   ],
   "source": [
    "# % of mails that has inviata less than consegnata\n",
    "inviata_less_than_consegnata / (inviata_less_than_consegnata + consegnata_less_than_inviata) * 100"
   ]
  },
  {
   "cell_type": "markdown",
   "id": "c6c7ab51",
   "metadata": {},
   "source": [
    "L'ora dove la gente ha aperto piu mails basato su EVENT.DATE"
   ]
  },
  {
   "cell_type": "code",
   "execution_count": 121,
   "id": "05118f13",
   "metadata": {},
   "outputs": [
    {
     "data": {
      "text/plain": [
       "<AxesSubplot:xlabel='date'>"
      ]
     },
     "execution_count": 121,
     "metadata": {},
     "output_type": "execute_result"
    },
    {
     "data": {
      "image/png": "[encoded data removed]",
      "text/plain": [
       "<Figure size 432x288 with 1 Axes>"
      ]
     },
     "metadata": {
      "needs_background": "light"
     },
     "output_type": "display_data"
    }
   ],
   "source": [
    "opened_mail_list = [] # based on the hour of EVENT.DATE\n",
    "for i in range(len(data)):\n",
    "    if \"nan\" not in str(data[\"EVENT.DATE\"][i]) and str(data[\"EVENT.TYPE\"][i]) == 'Open':\n",
    "        opened_mail_list.append(pd.to_datetime(data[\"EVENT.DATE\"][i], format='%Y/%m/%d %H:%M'))\n",
    "df = pd.DataFrame(opened_mail_list, columns =['date'])\n",
    "df.groupby(df[\"date\"].dt.hour).count().plot(kind=\"bar\")"
   ]
  },
  {
   "cell_type": "code",
   "execution_count": 122,
   "id": "62470afc",
   "metadata": {},
   "outputs": [],
   "source": [
    "open_mail_per_hour = list(df.groupby(df[\"date\"].dt.hour).count()['date'])"
   ]
  },
  {
   "cell_type": "code",
   "execution_count": 126,
   "id": "b32684dd",
   "metadata": {},
   "outputs": [
    {
     "data": {
      "text/plain": [
       "31341"
      ]
     },
     "execution_count": 126,
     "metadata": {},
     "output_type": "execute_result"
    }
   ],
   "source": [
    "sum(open_mail_per_hour)"
   ]
  },
  {
   "cell_type": "markdown",
   "id": "83b440f2",
   "metadata": {},
   "source": [
    "Il 20.55% degli utenti aprono le mail alle 12 circa"
   ]
  },
  {
   "cell_type": "code",
   "execution_count": 268,
   "id": "569d9d49",
   "metadata": {},
   "outputs": [
    {
     "data": {
      "text/plain": [
       "20.55454516448103"
      ]
     },
     "execution_count": 268,
     "metadata": {},
     "output_type": "execute_result"
    }
   ],
   "source": [
    "open_mail_per_hour[np.argmax(open_mail_per_hour)] / np.sum(open_mail_per_hour) * 100 # are all the NON DISTINCT opened mails"
   ]
  },
  {
   "cell_type": "markdown",
   "id": "e6de587b",
   "metadata": {},
   "source": [
    "Il 15.58% degli utenti aprono le mail alle 11 circa"
   ]
  },
  {
   "cell_type": "code",
   "execution_count": 269,
   "id": "fa810a2d",
   "metadata": {},
   "outputs": [
    {
     "data": {
      "text/plain": [
       "15.583421077821383"
      ]
     },
     "execution_count": 269,
     "metadata": {},
     "output_type": "execute_result"
    }
   ],
   "source": [
    "open_mail_per_hour[np.argsort(open_mail_per_hour)[-2]] / np.sum(open_mail_per_hour) * 100"
   ]
  },
  {
   "cell_type": "markdown",
   "id": "0cd5dbdd",
   "metadata": {},
   "source": [
    "Il 13.92% degli utenti aprono le mail alle 15 circa"
   ]
  },
  {
   "cell_type": "code",
   "execution_count": 270,
   "id": "293951b1",
   "metadata": {},
   "outputs": [
    {
     "data": {
      "text/plain": [
       "13.927443285153633"
      ]
     },
     "execution_count": 270,
     "metadata": {},
     "output_type": "execute_result"
    }
   ],
   "source": [
    "open_mail_per_hour[np.argsort(open_mail_per_hour)[-3]] / np.sum(open_mail_per_hour) * 100"
   ]
  },
  {
   "cell_type": "markdown",
   "id": "54f065c8",
   "metadata": {},
   "source": [
    "Periodo dove la gente si è disisscritta maggiormente"
   ]
  },
  {
   "cell_type": "code",
   "execution_count": 281,
   "id": "7fed578b",
   "metadata": {},
   "outputs": [],
   "source": [
    "unsubscribed_list = []\n",
    "for i in range(len(data)):\n",
    "    if \"nan\" not in str(data[\"Data di disiscrizione\"][i]):\n",
    "        unsubscribed_list.append(pd.to_datetime(data[\"Data di disiscrizione\"][i], format='%d/%m/%Y %H:%M'))"
   ]
  },
  {
   "cell_type": "code",
   "execution_count": 282,
   "id": "139c05e3",
   "metadata": {},
   "outputs": [],
   "source": [
    "df = pd.DataFrame(unsubscribed_list, columns =['date'])"
   ]
  },
  {
   "cell_type": "code",
   "execution_count": 283,
   "id": "74c39367",
   "metadata": {},
   "outputs": [],
   "source": [
    "df[\"date\"] = df[\"date\"].astype(\"datetime64\")"
   ]
  },
  {
   "cell_type": "code",
   "execution_count": 284,
   "id": "86f953d4",
   "metadata": {},
   "outputs": [
    {
     "data": {
      "text/plain": [
       "<AxesSubplot:xlabel='date,date'>"
      ]
     },
     "execution_count": 284,
     "metadata": {},
     "output_type": "execute_result"
    },
    {
     "data": {
      "image/png": "[encoded data removed]",
      "text/plain": [
       "<Figure size 432x288 with 1 Axes>"
      ]
     },
     "metadata": {
      "needs_background": "light"
     },
     "output_type": "display_data"
    }
   ],
   "source": [
    "df.groupby([df[\"date\"].dt.year, df[\"date\"].dt.month]).count().plot(kind=\"bar\")"
   ]
  },
  {
   "cell_type": "code",
   "execution_count": 29,
   "id": "343361a0",
   "metadata": {},
   "outputs": [
    {
     "data": {
      "text/html": [
       "<div>\n",
       "<style scoped>\n",
       "    .dataframe tbody tr th:only-of-type {\n",
       "        vertical-align: middle;\n",
       "    }\n",
       "\n",
       "    .dataframe tbody tr th {\n",
       "        vertical-align: top;\n",
       "    }\n",
       "\n",
       "    .dataframe thead th {\n",
       "        text-align: right;\n",
       "    }\n",
       "</style>\n",
       "<table border=\"1\" class=\"dataframe\">\n",
       "  <thead>\n",
       "    <tr style=\"text-align: right;\">\n",
       "      <th></th>\n",
       "      <th></th>\n",
       "      <th>date</th>\n",
       "    </tr>\n",
       "    <tr>\n",
       "      <th>date</th>\n",
       "      <th>date</th>\n",
       "      <th></th>\n",
       "    </tr>\n",
       "  </thead>\n",
       "  <tbody>\n",
       "    <tr>\n",
       "      <th rowspan=\"6\" valign=\"top\">2020</th>\n",
       "      <th>7</th>\n",
       "      <td>106</td>\n",
       "    </tr>\n",
       "    <tr>\n",
       "      <th>8</th>\n",
       "      <td>34</td>\n",
       "    </tr>\n",
       "    <tr>\n",
       "      <th>9</th>\n",
       "      <td>131</td>\n",
       "    </tr>\n",
       "    <tr>\n",
       "      <th>10</th>\n",
       "      <td>470</td>\n",
       "    </tr>\n",
       "    <tr>\n",
       "      <th>11</th>\n",
       "      <td>515</td>\n",
       "    </tr>\n",
       "    <tr>\n",
       "      <th>12</th>\n",
       "      <td>426</td>\n",
       "    </tr>\n",
       "    <tr>\n",
       "      <th rowspan=\"6\" valign=\"top\">2021</th>\n",
       "      <th>1</th>\n",
       "      <td>661</td>\n",
       "    </tr>\n",
       "    <tr>\n",
       "      <th>2</th>\n",
       "      <td>707</td>\n",
       "    </tr>\n",
       "    <tr>\n",
       "      <th>3</th>\n",
       "      <td>1052</td>\n",
       "    </tr>\n",
       "    <tr>\n",
       "      <th>4</th>\n",
       "      <td>698</td>\n",
       "    </tr>\n",
       "    <tr>\n",
       "      <th>5</th>\n",
       "      <td>808</td>\n",
       "    </tr>\n",
       "    <tr>\n",
       "      <th>6</th>\n",
       "      <td>1305</td>\n",
       "    </tr>\n",
       "  </tbody>\n",
       "</table>\n",
       "</div>"
      ],
      "text/plain": [
       "           date\n",
       "date date      \n",
       "2020 7      106\n",
       "     8       34\n",
       "     9      131\n",
       "     10     470\n",
       "     11     515\n",
       "     12     426\n",
       "2021 1      661\n",
       "     2      707\n",
       "     3     1052\n",
       "     4      698\n",
       "     5      808\n",
       "     6     1305"
      ]
     },
     "execution_count": 29,
     "metadata": {},
     "output_type": "execute_result"
    }
   ],
   "source": [
    "df.groupby([df[\"date\"].dt.year, df[\"date\"].dt.month]).count()"
   ]
  },
  {
   "cell_type": "code",
   "execution_count": null,
   "id": "1369f712",
   "metadata": {},
   "outputs": [],
   "source": [
    "2020/11:1305\n",
    "2020/10:1052\n",
    "2021/03:808    "
   ]
  },
  {
   "cell_type": "code",
   "execution_count": 30,
   "id": "6a57cd1e",
   "metadata": {},
   "outputs": [
    {
     "data": {
      "text/plain": [
       "45.7833068132504"
      ]
     },
     "execution_count": 30,
     "metadata": {},
     "output_type": "execute_result"
    }
   ],
   "source": [
    "(1305+1052+808)/(106+34+131+470+515+426+661+707+1052+698+808+1305) * 100"
   ]
  },
  {
   "cell_type": "markdown",
   "id": "054db411",
   "metadata": {},
   "source": [
    "Regione dove ci sono state più unsubscriptions"
   ]
  },
  {
   "cell_type": "code",
   "execution_count": 345,
   "id": "5311bfe5",
   "metadata": {},
   "outputs": [
    {
     "name": "stdout",
     "output_type": "stream",
     "text": [
      "The region Dhaka Division is the region with most unsubs, the % of unsubs wrt the total unsubs is 29.84 %\n"
     ]
    }
   ],
   "source": [
    "regions_list = data['MESSAGE_STATISTICS.GEO_LOCAL_INFO_REGION'].unique()\n",
    "region_with_most_unsubs = regions_list[np.argmax(list(data.groupby(data['MESSAGE_STATISTICS.GEO_LOCAL_INFO_REGION']).count()['Data di disiscrizione']))]\n",
    "number_of_unsubs = data.groupby(data['MESSAGE_STATISTICS.GEO_LOCAL_INFO_REGION']).count()['Data di disiscrizione'][np.argmax(list(data.groupby(data['MESSAGE_STATISTICS.GEO_LOCAL_INFO_REGION']).count()['Data di disiscrizione']))]\n",
    "percentage = number_of_unsubs / np.sum(list(data.groupby(data['MESSAGE_STATISTICS.GEO_LOCAL_INFO_REGION']).count()['Data di disiscrizione'])) * 100\n",
    "print(\"The region {} is the region with most unsubs, the % of unsubs wrt the total unsubs is {:.2f} %\".format(region_with_most_unsubs, percentage))"
   ]
  },
  {
   "cell_type": "markdown",
   "id": "9d329c00",
   "metadata": {},
   "source": [
    "Regione più attiva (regione che ha aperto il maggior numbero di mail inviate)"
   ]
  },
  {
   "cell_type": "code",
   "execution_count": 363,
   "id": "d26ee623",
   "metadata": {},
   "outputs": [
    {
     "data": {
      "image/png": "[encoded data removed]",
      "text/plain": [
       "<Figure size 432x288 with 1 Axes>"
      ]
     },
     "metadata": {
      "needs_background": "light"
     },
     "output_type": "display_data"
    }
   ],
   "source": [
    "# % opened mails per MESSAGE_STATISTICS.GEO_LOCAL_INFO_REGION\n",
    "import numpy as np\n",
    "\n",
    "l4 = []\n",
    "for i in data[\"MESSAGE_STATISTICS.GEO_LOCAL_INFO_REGION\"].unique():\n",
    "    if len(data.loc[(data[\"MESSAGE_STATISTICS.GEO_LOCAL_INFO_REGION\"] == i) & (data[\"EVENT.TYPE\"] == 'Sent')]) > 0:\n",
    "        l4.append(len(data.loc[(data[\"MESSAGE_STATISTICS.GEO_LOCAL_INFO_REGION\"] == i) & (data[\"EVENT.TYPE\"] == 'Open')]) / len(data.loc[(data[\"MESSAGE_STATISTICS.GEO_LOCAL_INFO_REGION\"] == i) & (data[\"EVENT.TYPE\"] == 'Sent')]) * 100)\n",
    "\n",
    "plt.plot(range(0, len(l4)), l4, 'go')\n",
    "plt.show()"
   ]
  },
  {
   "cell_type": "code",
   "execution_count": 364,
   "id": "dd44bd71",
   "metadata": {},
   "outputs": [],
   "source": [
    "# top MESSAGE_STATISTICS.GEO_LOCAL_INFO_REGION\n",
    "most_active_region = data[\"MESSAGE_STATISTICS.GEO_LOCAL_INFO_REGION\"].unique()[np.argmax(l4)]"
   ]
  },
  {
   "cell_type": "code",
   "execution_count": 365,
   "id": "8e50a3f1",
   "metadata": {},
   "outputs": [
    {
     "name": "stdout",
     "output_type": "stream",
     "text": [
      "The region most active is Pomerania with a % of opened mails wrt the total opened mails of 11.81 %\n"
     ]
    }
   ],
   "source": [
    "print(\"The region most active is {} with a % of opened mails wrt the total opened mails of {:.2f} %\".format(most_active_region, np.max(l4) / len(data.loc[data[\"EVENT.TYPE\"] == 'Open']) * 100))"
   ]
  },
  {
   "cell_type": "code",
   "execution_count": null,
   "id": "0069ecc5",
   "metadata": {},
   "outputs": [],
   "source": [
    "l4.append(-np.max(l4))"
   ]
  },
  {
   "cell_type": "code",
   "execution_count": 370,
   "id": "cab55c77",
   "metadata": {},
   "outputs": [
    {
     "name": "stdout",
     "output_type": "stream",
     "text": [
      "The other regions have a % of opened mails on average of 0.44 %:\n"
     ]
    }
   ],
   "source": [
    "print(\"The other regions have a % of opened mails on average of :\".format(np.mean(l4) / len(data.loc[data[\"EVENT.TYPE\"] == 'Open']) * 100))"
   ]
  },
  {
   "cell_type": "markdown",
   "id": "eacc4b21",
   "metadata": {},
   "source": [
    "--------------------------------------"
   ]
  },
  {
   "cell_type": "markdown",
   "id": "ae784da7",
   "metadata": {},
   "source": [
    "**L'ora dove l'azienda ha inviato più mails**"
   ]
  },
  {
   "cell_type": "code",
   "execution_count": 128,
   "id": "2241cb44",
   "metadata": {},
   "outputs": [
    {
     "data": {
      "text/plain": [
       "<AxesSubplot:xlabel='date'>"
      ]
     },
     "execution_count": 128,
     "metadata": {},
     "output_type": "execute_result"
    },
    {
     "data": {
      "image/png": "[encoded data removed]",
      "text/plain": [
       "<Figure size 432x288 with 1 Axes>"
      ]
     },
     "metadata": {
      "needs_background": "light"
     },
     "output_type": "display_data"
    }
   ],
   "source": [
    "sent_mail_list = [] # based on the hour of EVENT.DATE\n",
    "for i in range(len(data)):\n",
    "    if \"nan\" not in str(data[\"EVENT.DATE\"][i]) and str(data[\"EVENT.TYPE\"][i]) == 'Sent':\n",
    "        sent_mail_list.append(pd.to_datetime(data[\"EVENT.DATE\"][i], format='%Y/%m/%d %H:%M'))\n",
    "df = pd.DataFrame(sent_mail_list, columns =['date'])\n",
    "df.groupby(df[\"date\"].dt.hour).count().plot(kind=\"bar\")"
   ]
  },
  {
   "cell_type": "code",
   "execution_count": 131,
   "id": "5e613bb1",
   "metadata": {},
   "outputs": [],
   "source": [
    "sent_mail_per_hour = list(df.groupby(df[\"date\"].dt.hour).count()['date'])"
   ]
  },
  {
   "cell_type": "code",
   "execution_count": 132,
   "id": "e2dfdde4",
   "metadata": {},
   "outputs": [
    {
     "data": {
      "text/plain": [
       "64928"
      ]
     },
     "execution_count": 132,
     "metadata": {},
     "output_type": "execute_result"
    }
   ],
   "source": [
    "sum(sent_mail_per_hour)"
   ]
  },
  {
   "cell_type": "markdown",
   "id": "bf2497ba",
   "metadata": {},
   "source": [
    "Il 34.65% delle mail sono state inviate dall'azienda ai clienti alle ore 11."
   ]
  },
  {
   "cell_type": "code",
   "execution_count": 288,
   "id": "d149abde",
   "metadata": {},
   "outputs": [
    {
     "data": {
      "text/plain": [
       "34.65685066535239"
      ]
     },
     "execution_count": 288,
     "metadata": {},
     "output_type": "execute_result"
    }
   ],
   "source": [
    "sent_mail_per_hour[np.argmax(sent_mail_per_hour)] / np.sum(sent_mail_per_hour) * 100"
   ]
  },
  {
   "cell_type": "markdown",
   "id": "5a161312",
   "metadata": {},
   "source": [
    "Il 24.85% delle mail sono state inviate dall'azienda ai clienti alle ore 12."
   ]
  },
  {
   "cell_type": "code",
   "execution_count": 289,
   "id": "e5dc4a09",
   "metadata": {},
   "outputs": [
    {
     "data": {
      "text/plain": [
       "24.85830458353869"
      ]
     },
     "execution_count": 289,
     "metadata": {},
     "output_type": "execute_result"
    }
   ],
   "source": [
    "sent_mail_per_hour[np.argsort(sent_mail_per_hour)[-2]] / np.sum(sent_mail_per_hour) * 100"
   ]
  },
  {
   "cell_type": "markdown",
   "id": "126fe79e",
   "metadata": {},
   "source": [
    "Il 16.68% delle mail sono state inviate dall'azienda ai clienti alle ore 15."
   ]
  },
  {
   "cell_type": "code",
   "execution_count": 290,
   "id": "3e01e7a4",
   "metadata": {},
   "outputs": [
    {
     "data": {
      "text/plain": [
       "16.68463528831937"
      ]
     },
     "execution_count": 290,
     "metadata": {},
     "output_type": "execute_result"
    }
   ],
   "source": [
    "sent_mail_per_hour[np.argsort(sent_mail_per_hour)[-3]] / np.sum(sent_mail_per_hour) * 100"
   ]
  },
  {
   "cell_type": "markdown",
   "id": "c33707a5",
   "metadata": {},
   "source": [
    "**Invii per fascia oraria (es. notte, mattina, pranzo, pomeriggio, cena, sera)**"
   ]
  },
  {
   "cell_type": "code",
   "execution_count": 93,
   "id": "1d4513d9",
   "metadata": {},
   "outputs": [],
   "source": [
    "df=df.assign(session=pd.cut(df[\"date\"].dt.hour,\n",
    "                            [0,3,6,9,12,15,18,21,24],\n",
    "                            labels=['Night0-3','Nigh3-6','Morning6-9','Morning9-12','Afternoon12-15','Afternoon15-18','Evening18-21', 'Evening21-24'],\n",
    "                            include_lowest=True))"
   ]
  },
  {
   "cell_type": "code",
   "execution_count": 94,
   "id": "f96eaf07",
   "metadata": {},
   "outputs": [
    {
     "data": {
      "text/plain": [
       "<AxesSubplot:>"
      ]
     },
     "execution_count": 94,
     "metadata": {},
     "output_type": "execute_result"
    },
    {
     "data": {
      "image/png": "[encoded data removed]",
      "text/plain": [
       "<Figure size 432x288 with 1 Axes>"
      ]
     },
     "metadata": {
      "needs_background": "light"
     },
     "output_type": "display_data"
    }
   ],
   "source": [
    "df['session'].value_counts().plot.bar()"
   ]
  },
  {
   "cell_type": "code",
   "execution_count": 66,
   "id": "ff551ad1",
   "metadata": {},
   "outputs": [
    {
     "data": {
      "text/plain": [
       "66.75702316412026"
      ]
     },
     "execution_count": 66,
     "metadata": {},
     "output_type": "execute_result"
    }
   ],
   "source": [
    "df['session'].value_counts()[0] / df['session'].value_counts().sum() * 100"
   ]
  },
  {
   "cell_type": "code",
   "execution_count": 67,
   "id": "7be19004",
   "metadata": {},
   "outputs": [
    {
     "data": {
      "text/plain": [
       "19.966732380482995"
      ]
     },
     "execution_count": 67,
     "metadata": {},
     "output_type": "execute_result"
    }
   ],
   "source": [
    "df['session'].value_counts()[1] / df['session'].value_counts().sum() * 100"
   ]
  },
  {
   "cell_type": "code",
   "execution_count": 68,
   "id": "d9cb8618",
   "metadata": {},
   "outputs": [
    {
     "data": {
      "text/plain": [
       "9.960263676688024"
      ]
     },
     "execution_count": 68,
     "metadata": {},
     "output_type": "execute_result"
    }
   ],
   "source": [
    "df['session'].value_counts()[2] / df['session'].value_counts().sum() * 100"
   ]
  },
  {
   "cell_type": "code",
   "execution_count": 69,
   "id": "5bf294cf",
   "metadata": {},
   "outputs": [
    {
     "data": {
      "text/plain": [
       "3.3159807787087234"
      ]
     },
     "execution_count": 69,
     "metadata": {},
     "output_type": "execute_result"
    }
   ],
   "source": [
    "df['session'].value_counts()[3] / df['session'].value_counts().sum() * 100"
   ]
  },
  {
   "cell_type": "code",
   "execution_count": 95,
   "id": "494046f6",
   "metadata": {},
   "outputs": [
    {
     "data": {
      "text/plain": [
       "0.0"
      ]
     },
     "execution_count": 95,
     "metadata": {},
     "output_type": "execute_result"
    }
   ],
   "source": [
    "df['session'].value_counts()[4] / df['session'].value_counts().sum() * 100"
   ]
  },
  {
   "cell_type": "code",
   "execution_count": 96,
   "id": "568358b7",
   "metadata": {},
   "outputs": [
    {
     "data": {
      "text/plain": [
       "0.0"
      ]
     },
     "execution_count": 96,
     "metadata": {},
     "output_type": "execute_result"
    }
   ],
   "source": [
    "df['session'].value_counts()[5] / df['session'].value_counts().sum() * 100"
   ]
  },
  {
   "cell_type": "code",
   "execution_count": 97,
   "id": "0e7f2cc0",
   "metadata": {},
   "outputs": [
    {
     "data": {
      "text/plain": [
       "0.0"
      ]
     },
     "execution_count": 97,
     "metadata": {},
     "output_type": "execute_result"
    }
   ],
   "source": [
    "df['session'].value_counts()[6] / df['session'].value_counts().sum() * 100"
   ]
  },
  {
   "cell_type": "code",
   "execution_count": 98,
   "id": "312e2205",
   "metadata": {},
   "outputs": [
    {
     "data": {
      "text/plain": [
       "0.0"
      ]
     },
     "execution_count": 98,
     "metadata": {},
     "output_type": "execute_result"
    }
   ],
   "source": [
    "df['session'].value_counts()[7] / df['session'].value_counts().sum() * 100"
   ]
  },
  {
   "cell_type": "markdown",
   "id": "6ecd4487",
   "metadata": {},
   "source": [
    "**Aperture mails per fascia oraria**"
   ]
  },
  {
   "cell_type": "code",
   "execution_count": 134,
   "id": "0cdf3c23",
   "metadata": {},
   "outputs": [],
   "source": [
    "open_mail_list = [] # based on the hour of EVENT.DATE\n",
    "for i in range(len(data)):\n",
    "    if \"nan\" not in str(data[\"EVENT.DATE\"][i]) and str(data[\"EVENT.TYPE\"][i]) == 'Open':\n",
    "        open_mail_list.append(pd.to_datetime(data[\"EVENT.DATE\"][i], format='%Y/%m/%d %H:%M'))\n",
    "df = pd.DataFrame(open_mail_list, columns =['date'])"
   ]
  },
  {
   "cell_type": "code",
   "execution_count": 135,
   "id": "8965098f",
   "metadata": {},
   "outputs": [],
   "source": [
    "df=df.assign(session=pd.cut(df[\"date\"].dt.hour,\n",
    "                            [0,3,6,9,12,15,18,21,24],\n",
    "                            labels=['Night0-3','Nigh3-6','Morning6-9','Morning9-12','Afternoon12-15','Afternoon15-18','Evening18-21', 'Evening21-24'],\n",
    "                            include_lowest=True))"
   ]
  },
  {
   "cell_type": "code",
   "execution_count": 136,
   "id": "8a7eaf23",
   "metadata": {},
   "outputs": [
    {
     "data": {
      "text/plain": [
       "<AxesSubplot:>"
      ]
     },
     "execution_count": 136,
     "metadata": {},
     "output_type": "execute_result"
    },
    {
     "data": {
      "image/png": "[encoded data removed]",
      "text/plain": [
       "<Figure size 432x288 with 1 Axes>"
      ]
     },
     "metadata": {
      "needs_background": "light"
     },
     "output_type": "display_data"
    }
   ],
   "source": [
    "df['session'].value_counts().plot.bar()"
   ]
  },
  {
   "cell_type": "code",
   "execution_count": 295,
   "id": "ac8ef4cd",
   "metadata": {},
   "outputs": [
    {
     "data": {
      "text/plain": [
       "39.74665773268243"
      ]
     },
     "execution_count": 295,
     "metadata": {},
     "output_type": "execute_result"
    }
   ],
   "source": [
    "df['session'].value_counts()[0] / df['session'].value_counts().sum() * 100"
   ]
  },
  {
   "cell_type": "code",
   "execution_count": 296,
   "id": "210d4918",
   "metadata": {},
   "outputs": [
    {
     "data": {
      "text/plain": [
       "27.695351137487634"
      ]
     },
     "execution_count": 296,
     "metadata": {},
     "output_type": "execute_result"
    }
   ],
   "source": [
    "df['session'].value_counts()[1] / df['session'].value_counts().sum() * 100"
   ]
  },
  {
   "cell_type": "code",
   "execution_count": 297,
   "id": "5752dd0b",
   "metadata": {},
   "outputs": [
    {
     "data": {
      "text/plain": [
       "17.804154302670625"
      ]
     },
     "execution_count": 297,
     "metadata": {},
     "output_type": "execute_result"
    }
   ],
   "source": [
    "df['session'].value_counts()[2] / df['session'].value_counts().sum() * 100"
   ]
  },
  {
   "cell_type": "code",
   "execution_count": 298,
   "id": "2718352c",
   "metadata": {},
   "outputs": [
    {
     "data": {
      "text/plain": [
       "7.906576050540826"
      ]
     },
     "execution_count": 298,
     "metadata": {},
     "output_type": "execute_result"
    }
   ],
   "source": [
    "df['session'].value_counts()[3] / df['session'].value_counts().sum() * 100"
   ]
  },
  {
   "cell_type": "code",
   "execution_count": 299,
   "id": "a13d7574",
   "metadata": {},
   "outputs": [
    {
     "data": {
      "text/plain": [
       "4.250023930314923"
      ]
     },
     "execution_count": 299,
     "metadata": {},
     "output_type": "execute_result"
    }
   ],
   "source": [
    "df['session'].value_counts()[4] / df['session'].value_counts().sum() * 100"
   ]
  },
  {
   "cell_type": "code",
   "execution_count": 300,
   "id": "d5494594",
   "metadata": {},
   "outputs": [
    {
     "data": {
      "text/plain": [
       "1.5570658243195814"
      ]
     },
     "execution_count": 300,
     "metadata": {},
     "output_type": "execute_result"
    }
   ],
   "source": [
    "df['session'].value_counts()[5] / df['session'].value_counts().sum() * 100"
   ]
  },
  {
   "cell_type": "code",
   "execution_count": 301,
   "id": "34f529e6",
   "metadata": {},
   "outputs": [
    {
     "data": {
      "text/plain": [
       "0.5902811014326281"
      ]
     },
     "execution_count": 301,
     "metadata": {},
     "output_type": "execute_result"
    }
   ],
   "source": [
    "df['session'].value_counts()[6] / df['session'].value_counts().sum() * 100"
   ]
  },
  {
   "cell_type": "code",
   "execution_count": 302,
   "id": "157c48b8",
   "metadata": {},
   "outputs": [
    {
     "data": {
      "text/plain": [
       "0.44988992055135446"
      ]
     },
     "execution_count": 302,
     "metadata": {},
     "output_type": "execute_result"
    }
   ],
   "source": [
    "df['session'].value_counts()[7] / df['session'].value_counts().sum() * 100"
   ]
  },
  {
   "cell_type": "markdown",
   "id": "8b31c62b",
   "metadata": {},
   "source": [
    "-------------------------------------------------------------------"
   ]
  },
  {
   "cell_type": "markdown",
   "id": "3a931823",
   "metadata": {},
   "source": [
    "**Numero di contatti distinti**"
   ]
  },
  {
   "cell_type": "code",
   "execution_count": 102,
   "id": "de514329",
   "metadata": {},
   "outputs": [
    {
     "data": {
      "text/plain": [
       "2942"
      ]
     },
     "execution_count": 102,
     "metadata": {},
     "output_type": "execute_result"
    }
   ],
   "source": [
    "data[\"HashContatto\"].nunique()"
   ]
  },
  {
   "cell_type": "markdown",
   "id": "5260bf86",
   "metadata": {},
   "source": [
    "**Numero di campagne distinte**"
   ]
  },
  {
   "cell_type": "code",
   "execution_count": 104,
   "id": "da6a0830",
   "metadata": {},
   "outputs": [
    {
     "data": {
      "text/plain": [
       "3"
      ]
     },
     "execution_count": 104,
     "metadata": {},
     "output_type": "execute_result"
    }
   ],
   "source": [
    "data['CAMPAIGN.CAMPAIGN_ID'].nunique()"
   ]
  },
  {
   "cell_type": "markdown",
   "id": "89984efc",
   "metadata": {},
   "source": [
    "**Numero di messaggi distinti**"
   ]
  },
  {
   "cell_type": "code",
   "execution_count": 105,
   "id": "be61ae36",
   "metadata": {},
   "outputs": [
    {
     "data": {
      "text/plain": [
       "64928"
      ]
     },
     "execution_count": 105,
     "metadata": {},
     "output_type": "execute_result"
    }
   ],
   "source": [
    "data[\"HashMessaggio\"].nunique()"
   ]
  },
  {
   "cell_type": "markdown",
   "id": "9d105e27",
   "metadata": {},
   "source": [
    "**Media messaggi inviati, aperti, cliccati per singolo contatto**"
   ]
  },
  {
   "cell_type": "code",
   "execution_count": 149,
   "id": "3c814cf2",
   "metadata": {},
   "outputs": [],
   "source": [
    "d = {}\n",
    "for i in data[\"HashContatto\"].unique():\n",
    "    if i not in d:\n",
    "        d[i] = {'Sent': 0, 'Open': 0, 'Click': 0}"
   ]
  },
  {
   "cell_type": "code",
   "execution_count": 150,
   "id": "d7b7186d",
   "metadata": {},
   "outputs": [],
   "source": [
    "list_contact_concatenated_mex  = []\n",
    "for i in range(len(data)):\n",
    "    if str(data[\"EVENT.TYPE\"][i]) == 'Sent':\n",
    "        d[data[\"HashContatto\"][i]]['Sent'] += 1\n",
    "    elif (str(data[\"EVENT.TYPE\"][i]) == 'Open') and (data['HashContatto'][i] + data['HashMessaggio'][i] not in list_contact_concatenated_mex):\n",
    "        list_contact_concatenated_mex.append(data['HashContatto'][i] + data['HashMessaggio'][i])\n",
    "        d[data[\"HashContatto\"][i]]['Open'] += 1\n",
    "    elif str(data[\"EVENT.TYPE\"][i]) == 'Click':\n",
    "        d[data[\"HashContatto\"][i]]['Click'] += 1\n",
    "    else:\n",
    "        pass"
   ]
  },
  {
   "cell_type": "code",
   "execution_count": 151,
   "id": "084ffffe",
   "metadata": {},
   "outputs": [
    {
     "data": {
      "text/plain": [
       "{'Sent': 29, 'Open': 28, 'Click': 13}"
      ]
     },
     "execution_count": 151,
     "metadata": {},
     "output_type": "execute_result"
    }
   ],
   "source": [
    "d['f22b4b39d49fb0a08320d7d6bb18637279018566f48dc4ae0bad68bf8a92a68a']"
   ]
  },
  {
   "cell_type": "code",
   "execution_count": 157,
   "id": "4f7fc4a7",
   "metadata": {},
   "outputs": [],
   "source": [
    "o = []\n",
    "for key, value in d.items():\n",
    "    o.append(value['Open'] / value['Sent'])"
   ]
  },
  {
   "cell_type": "code",
   "execution_count": 158,
   "id": "c6d1baf2",
   "metadata": {},
   "outputs": [
    {
     "data": {
      "text/plain": [
       "(0.2364853295205327, 0.2921420237565315)"
      ]
     },
     "execution_count": 158,
     "metadata": {},
     "output_type": "execute_result"
    }
   ],
   "source": [
    "np.mean(o), np.std(o)"
   ]
  },
  {
   "cell_type": "markdown",
   "id": "94863f98",
   "metadata": {},
   "source": [
    "**Numero medio di messaggi inviati per utente**"
   ]
  },
  {
   "cell_type": "code",
   "execution_count": 163,
   "id": "7d9617a6",
   "metadata": {},
   "outputs": [],
   "source": [
    "c2 = 0\n",
    "o2 = 0\n",
    "s2 = 0\n",
    "for key, value in d.items():\n",
    "    c2 += value['Click']\n",
    "    o2 += value['Open']\n",
    "    s2 += value['Sent']"
   ]
  },
  {
   "cell_type": "code",
   "execution_count": 167,
   "id": "115f4f06",
   "metadata": {},
   "outputs": [
    {
     "data": {
      "text/plain": [
       "0.23208785115820602"
      ]
     },
     "execution_count": 167,
     "metadata": {},
     "output_type": "execute_result"
    }
   ],
   "source": [
    "(o2 / s2)"
   ]
  },
  {
   "cell_type": "markdown",
   "id": "5ae0ab1a",
   "metadata": {},
   "source": [
    "**Numero di comunicazioni distinte**"
   ]
  },
  {
   "cell_type": "code",
   "execution_count": 5,
   "id": "a0b3c9a7",
   "metadata": {},
   "outputs": [
    {
     "data": {
      "text/plain": [
       "(26, 28)"
      ]
     },
     "execution_count": 5,
     "metadata": {},
     "output_type": "execute_result"
    }
   ],
   "source": [
    "data[\"COMUNICATION.COMUNICATION_NAME\"].nunique(), data[\"COMUNICATION.SUBJECT\"].nunique()"
   ]
  },
  {
   "cell_type": "markdown",
   "id": "d1c9599f",
   "metadata": {},
   "source": [
    "**Distribuzione dei messaggi inviati distinti nelle comunicazioni (ie. quanti messaggi inviati distinti per ciascuna comunicazione)**"
   ]
  },
  {
   "cell_type": "code",
   "execution_count": 42,
   "id": "1edb949e",
   "metadata": {},
   "outputs": [],
   "source": [
    "# Given 'day_of_week' and 'comm_name', this function returns the number of distinct messages for communication\n",
    "# 'comm_name' sent in the day 'day_of_week'\n",
    "def distribution_mex_for_comm_with_day(day_of_week=None, comm_name=None):\n",
    "    counter_mex_comm_for_day = 0\n",
    "    list_hash_mex = [] # this is needed for take the distinct communications\n",
    "    if day_of_week is not None:\n",
    "        for i in range(len(data)):\n",
    "            if data[\"HashMessaggio\"][i] not in list_hash_mex and data['EVENT.TYPE'][i] == 'Sent' and data['day_of_week'][i] == day_of_week and data[\"COMUNICATION.COMUNICATION_NAME\"][i] == comm_name:\n",
    "                list_hash_mex.append(data[\"HashMessaggio\"][i])\n",
    "                counter_mex_comm_for_day += 1\n",
    "\n",
    "        return counter_mex_comm_for_day\n",
    "    else:\n",
    "        d3 = {}\n",
    "        for i in data[\"COMUNICATION.COMUNICATION_NAME\"].unique():\n",
    "            if i not in d3:\n",
    "                d3[i] = 0\n",
    "        list_hash_mex = [] # this is needed for take the distinct communications\n",
    "        for i in range(len(data)):\n",
    "            if data[\"HashMessaggio\"][i] not in list_hash_mex:\n",
    "                list_hash_mex.append(data[\"HashMessaggio\"][i])\n",
    "                d3[data[\"COMUNICATION.COMUNICATION_NAME\"][i]] += 1\n",
    "        return list(d3.values())\n",
    "    \n",
    "def plot_distribution_mex_for_comm_with_day(out):\n",
    "    if type(out) is list:\n",
    "        plt.plot(range(0, len(out)), out, 'bo')\n",
    "        plt.show()\n",
    "    else:\n",
    "        print(out)"
   ]
  },
  {
   "cell_type": "code",
   "execution_count": 43,
   "id": "e4de7bb4",
   "metadata": {},
   "outputs": [
    {
     "data": {
      "text/plain": [
       "array(['Wednesday', 'Monday', 'Tuesday', 'Thursday', 'Friday', 'Saturday',\n",
       "       'Sunday'], dtype=object)"
      ]
     },
     "execution_count": 43,
     "metadata": {},
     "output_type": "execute_result"
    }
   ],
   "source": [
    "data['day_of_week'].unique()"
   ]
  },
  {
   "cell_type": "code",
   "execution_count": 110,
   "id": "85b88af5",
   "metadata": {},
   "outputs": [
    {
     "name": "stdout",
     "output_type": "stream",
     "text": [
      "2549\n"
     ]
    }
   ],
   "source": [
    "out = distribution_mex_for_comm_with_day(day_of_week='Wednesday', comm_name=data[\"COMUNICATION.COMUNICATION_NAME\"].unique()[24])\n",
    "plot_distribution_mex_for_comm_with_day(out)"
   ]
  },
  {
   "cell_type": "code",
   "execution_count": 51,
   "id": "c1b72f70",
   "metadata": {},
   "outputs": [],
   "source": [
    "out2 = distribution_mex_for_comm_with_day() # all"
   ]
  },
  {
   "cell_type": "code",
   "execution_count": 52,
   "id": "8259aa76",
   "metadata": {},
   "outputs": [
    {
     "data": {
      "image/png": "[encoded data removed]",
      "text/plain": [
       "<Figure size 432x288 with 1 Axes>"
      ]
     },
     "metadata": {
      "needs_background": "light"
     },
     "output_type": "display_data"
    }
   ],
   "source": [
    "plot_distribution_mex_for_comm_with_day(out2)"
   ]
  },
  {
   "cell_type": "markdown",
   "id": "f989efd2",
   "metadata": {},
   "source": [
    "**Distanza temporale media sent->open**"
   ]
  },
  {
   "cell_type": "code",
   "execution_count": 3,
   "id": "11227da7",
   "metadata": {},
   "outputs": [],
   "source": [
    "d4 = {}\n",
    "for i in data[\"HashMessaggio\"].unique():\n",
    "    if i not in d4:\n",
    "        d4[i] = {'Sent': 'null', 'Open': []}"
   ]
  },
  {
   "cell_type": "code",
   "execution_count": 4,
   "id": "fe6a67de",
   "metadata": {},
   "outputs": [],
   "source": [
    "for i in range(len(data)):\n",
    "    if str(data[\"EVENT.TYPE\"][i]) == 'Sent':\n",
    "        d4[data[\"HashMessaggio\"][i]]['Sent'] = pd.to_datetime(data[\"EVENT.DATE\"][i], format='%Y/%m/%d %H:%M')\n",
    "    elif str(data[\"EVENT.TYPE\"][i]) == 'Open':\n",
    "        d4[data[\"HashMessaggio\"][i]]['Open'].append(pd.to_datetime(data[\"EVENT.DATE\"][i], format='%Y/%m/%d %H:%M'))\n",
    "    else:\n",
    "        pass"
   ]
  },
  {
   "cell_type": "code",
   "execution_count": 5,
   "id": "7eee250a",
   "metadata": {},
   "outputs": [
    {
     "data": {
      "text/plain": [
       "{'Sent': Timestamp('2020-07-06 10:38:35.722000'),\n",
       " 'Open': [Timestamp('2021-02-17 13:03:29.952000'),\n",
       "  Timestamp('2020-07-06 11:21:27.921000'),\n",
       "  Timestamp('2020-07-06 11:21:28.464000')]}"
      ]
     },
     "execution_count": 5,
     "metadata": {},
     "output_type": "execute_result"
    }
   ],
   "source": [
    "d4['638fc9f87168ed6312f74093610c48d0401d0989d8245f5574bcc21b26ad0bc6']"
   ]
  },
  {
   "cell_type": "code",
   "execution_count": 6,
   "id": "68b837f8",
   "metadata": {},
   "outputs": [],
   "source": [
    "# preserve the oldest 'Open' date and delete the others\n",
    "for i in data[\"HashMessaggio\"].unique():\n",
    "    timestamp_open_list = d4[i]['Open']\n",
    "    oldest = None\n",
    "    for j in timestamp_open_list:\n",
    "        if oldest is None:\n",
    "            oldest = j\n",
    "        elif j < oldest:\n",
    "            oldest = j\n",
    "    d4[i]['Open'] = oldest"
   ]
  },
  {
   "cell_type": "code",
   "execution_count": 7,
   "id": "0b880e1e",
   "metadata": {},
   "outputs": [],
   "source": [
    "# get differences between 'Open' and 'Sent'\n",
    "list_deltas_open_minus_sent = []\n",
    "for i in data[\"HashMessaggio\"].unique():\n",
    "    if d4[i]['Open'] is not None:\n",
    "        list_deltas_open_minus_sent.append(d4[i]['Open'] - d4[i]['Sent'])"
   ]
  },
  {
   "cell_type": "markdown",
   "id": "3d3dd948",
   "metadata": {},
   "source": [
    "**Distanza tra Sent e Open per fascia oraria**. Grafico che dice \"quanti messaggi di quelli inviati vengono aperti nella prima ora, quante nella seconda ecc. fino a 48+\"."
   ]
  },
  {
   "cell_type": "code",
   "execution_count": 106,
   "id": "1d6ebcef",
   "metadata": {},
   "outputs": [
    {
     "data": {
      "text/plain": [
       "Timedelta('1 days 00:13:54.540856062')"
      ]
     },
     "execution_count": 106,
     "metadata": {},
     "output_type": "execute_result"
    }
   ],
   "source": [
    "# get the mean of time elapsed between sent -> open mail\n",
    "mean_sent_open = list_deltas_open_minus_sent[0]\n",
    "for i in range(1, len(list_deltas_open_minus_sent)):\n",
    "    mean_sent_open += list_deltas_open_minus_sent[i]\n",
    "mean_sent_open / len(list_deltas_open_minus_sent)"
   ]
  },
  {
   "cell_type": "code",
   "execution_count": 174,
   "id": "72e0ee14",
   "metadata": {},
   "outputs": [],
   "source": [
    "# get hours\n",
    "hours_list = []\n",
    "for i in range(len(list_deltas_open_minus_sent)):\n",
    "    hours_list.append((list_deltas_open_minus_sent[i].days*24) + list_deltas_open_minus_sent[i].seconds//3600)"
   ]
  },
  {
   "cell_type": "code",
   "execution_count": 175,
   "id": "2448b7f7",
   "metadata": {},
   "outputs": [],
   "source": [
    "# all the number greater than 48 make it equal to 48\n",
    "for i in range(len(hours_list)):\n",
    "    if hours_list[i] > 48:\n",
    "        hours_list[i] = 48"
   ]
  },
  {
   "cell_type": "code",
   "execution_count": 181,
   "id": "bef28e01",
   "metadata": {},
   "outputs": [
    {
     "data": {
      "image/png": "[encoded data removed]",
      "text/plain": [
       "<Figure size 432x288 with 1 Axes>"
      ]
     },
     "metadata": {
      "needs_background": "light"
     },
     "output_type": "display_data"
    }
   ],
   "source": [
    "bins = 48\n",
    "plt.xlim([0, 48])\n",
    "plt.hist(hours_list, bins=bins, alpha=0.5)\n",
    "plt.xlabel('bin = 1h')\n",
    "plt.ylabel('count')\n",
    "\n",
    "plt.show()"
   ]
  },
  {
   "cell_type": "markdown",
   "id": "4e0c8b2b",
   "metadata": {},
   "source": [
    "**Distanza temporale media open->click**"
   ]
  },
  {
   "cell_type": "code",
   "execution_count": 134,
   "id": "ea22ff06",
   "metadata": {},
   "outputs": [],
   "source": [
    "d5 = {}\n",
    "for i in data[\"HashMessaggio\"].unique():\n",
    "    if i not in d5:\n",
    "        d5[i] = {'Open': [], 'Click': []}\n",
    "        \n",
    "communication_name = data['COMUNICATION.COMUNICATION_NAME'].unique()[3]"
   ]
  },
  {
   "cell_type": "code",
   "execution_count": 135,
   "id": "341d4eac",
   "metadata": {},
   "outputs": [],
   "source": [
    "for i in range(len(data)):\n",
    "    if \"nan\" not in str(data[\"EVENT.DATE\"][i]) and str(data[\"EVENT.TYPE\"][i]) == 'Open':\n",
    "        d5[data[\"HashMessaggio\"][i]]['Open'].append(pd.to_datetime(data[\"EVENT.DATE\"][i], format='%Y/%m/%d %H:%M'))\n",
    "    elif \"nan\" not in str(data[\"EVENT.DATE\"][i]) and str(data[\"EVENT.TYPE\"][i]) == 'Click':\n",
    "        d5[data[\"HashMessaggio\"][i]]['Click'].append(pd.to_datetime(data[\"EVENT.DATE\"][i], format='%Y/%m/%d %H:%M'))\n",
    "    else:\n",
    "        pass"
   ]
  },
  {
   "cell_type": "code",
   "execution_count": 136,
   "id": "281d28fa",
   "metadata": {},
   "outputs": [],
   "source": [
    "# delete record with 'Open' == null or 'Click' == []\n",
    "d6 = {}\n",
    "for k, v in d5.items():\n",
    "    if (v['Click'] != []) and v['Open'] != []:\n",
    "        d6[k] = {'Open':v['Open'], 'Click':v['Click']}\n",
    "        "
   ]
  },
  {
   "cell_type": "code",
   "execution_count": 137,
   "id": "66d73eb4",
   "metadata": {},
   "outputs": [],
   "source": [
    "# preserve the oldest 'Click' date and delete the others\n",
    "for i in data[\"HashMessaggio\"].unique():\n",
    "    if i in d6:\n",
    "        timestamp_click_list = d6[i]['Click']\n",
    "        oldest = None\n",
    "        for j in timestamp_click_list:\n",
    "            if oldest is None:\n",
    "                oldest = j\n",
    "            elif j < oldest:\n",
    "                oldest = j\n",
    "        d6[i]['Click'] = oldest\n",
    "        # among the 'Open' timestamps, take the oldest\n",
    "        timestamp_open_list = d6[i]['Open']\n",
    "        oldest = None\n",
    "        for j in timestamp_open_list:\n",
    "            if oldest is None:\n",
    "                oldest = j\n",
    "            elif j < oldest:\n",
    "                oldest = j\n",
    "        d6[i]['Open'] = oldest"
   ]
  },
  {
   "cell_type": "code",
   "execution_count": 138,
   "id": "5938a735",
   "metadata": {},
   "outputs": [],
   "source": [
    "# get differences between 'Click' and 'Open'\n",
    "list_deltas_click_minus_open = []\n",
    "for i in data[\"HashMessaggio\"].unique():\n",
    "    if (i in d6):\n",
    "        list_deltas_click_minus_open.append(d6[i]['Click'] - d6[i]['Open'])"
   ]
  },
  {
   "cell_type": "markdown",
   "id": "8c969098",
   "metadata": {},
   "source": [
    "**Distanza tra open e click per fascia oraria**."
   ]
  },
  {
   "cell_type": "code",
   "execution_count": 139,
   "id": "51bac735",
   "metadata": {},
   "outputs": [],
   "source": [
    "# get hours\n",
    "hours_list = []\n",
    "for i in range(len(list_deltas_click_minus_open)):\n",
    "    hours_list.append((list_deltas_click_minus_open[i].days*24) + list_deltas_click_minus_open[i].seconds//3600)"
   ]
  },
  {
   "cell_type": "code",
   "execution_count": 140,
   "id": "202133b7",
   "metadata": {},
   "outputs": [],
   "source": [
    "# all the number greater than 48 make it equal to 48\n",
    "for i in range(len(hours_list)):\n",
    "    if hours_list[i] > 48:\n",
    "        hours_list[i] = 48\n",
    "    if hours_list[i] < 0: # excluding click date < open date\n",
    "        hours_list[i] = 0"
   ]
  },
  {
   "cell_type": "code",
   "execution_count": 141,
   "id": "533fd69e",
   "metadata": {},
   "outputs": [
    {
     "data": {
      "image/png": "[encoded data removed]",
      "text/plain": [
       "<Figure size 432x288 with 1 Axes>"
      ]
     },
     "metadata": {
      "needs_background": "light"
     },
     "output_type": "display_data"
    }
   ],
   "source": [
    "from matplotlib import pyplot as plt\n",
    "\n",
    "bins = 48\n",
    "plt.xlim([0, 48])\n",
    "plt.hist(hours_list, bins=bins, alpha=0.5)\n",
    "plt.xlabel('bin = 1h')\n",
    "plt.ylabel('count')\n",
    "\n",
    "plt.show()"
   ]
  },
  {
   "cell_type": "code",
   "execution_count": 190,
   "id": "9ded0eff",
   "metadata": {},
   "outputs": [
    {
     "data": {
      "text/plain": [
       "Timedelta('0 days 14:40:25.203578125')"
      ]
     },
     "execution_count": 190,
     "metadata": {},
     "output_type": "execute_result"
    }
   ],
   "source": [
    "# get the mean of time elapsed between sent -> open mail\n",
    "mean_open_click = list_deltas_click_minus_open[0]\n",
    "for i in range(1, len(list_deltas_click_minus_open)):\n",
    "    mean_open_click += list_deltas_click_minus_open[i]\n",
    "mean_open_click / len(list_deltas_click_minus_open)"
   ]
  },
  {
   "cell_type": "markdown",
   "id": "1dec4ef6",
   "metadata": {},
   "source": [
    "**Tassi di apertura per comunicazione/campagna per fascia oraria**. Significa che per ogni comunicazione/campagna devo mostrare quanti messaggi vengono aperti nella prima ora, poi seconda, ecc. fino a 48+."
   ]
  },
  {
   "cell_type": "code",
   "execution_count": 27,
   "id": "d97c7be7",
   "metadata": {},
   "outputs": [],
   "source": [
    "from matplotlib import pyplot as plt\n",
    "# TODO: adapt this function to the others\n",
    "def apertura_per_fascia_oraria(name, comm_or_camp=None):\n",
    "    d = {}\n",
    "    for i in data[\"HashMessaggio\"].unique():\n",
    "        if i not in d:\n",
    "            d[i] = {'Sent': 'null', 'Open': []}\n",
    "\n",
    "    if name == 'all': # if is 'all' it does not matter the 'comm_or_camp'\n",
    "        for i in range(len(data)):\n",
    "            if str(data[\"EVENT.TYPE\"][i]) == 'Sent':\n",
    "                d[data[\"HashMessaggio\"][i]]['Sent'] = pd.to_datetime(data[\"EVENT.DATE\"][i], format='%Y/%m/%d %H:%M')\n",
    "            elif str(data[\"EVENT.TYPE\"][i]) == 'Open':\n",
    "                d[data[\"HashMessaggio\"][i]]['Open'].append(pd.to_datetime(data[\"EVENT.DATE\"][i], format='%Y/%m/%d %H:%M'))\n",
    "            else:\n",
    "                pass\n",
    "    elif comm_or_camp == 'communication':\n",
    "        for i in range(len(data)):\n",
    "            if str(data[\"EVENT.TYPE\"][i]) == 'Sent' and data['COMUNICATION.COMUNICATION_NAME'][i] == name:\n",
    "                d[data[\"HashMessaggio\"][i]]['Sent'] = pd.to_datetime(data[\"EVENT.DATE\"][i], format='%Y/%m/%d %H:%M')\n",
    "            elif str(data[\"EVENT.TYPE\"][i]) == 'Open' and data['COMUNICATION.COMUNICATION_NAME'][i] == name:\n",
    "                d[data[\"HashMessaggio\"][i]]['Open'].append(pd.to_datetime(data[\"EVENT.DATE\"][i], format='%Y/%m/%d %H:%M'))\n",
    "            else:\n",
    "                pass\n",
    "    elif comm_or_camp == 'campaign':\n",
    "        for i in range(len(data)):\n",
    "            if str(data[\"EVENT.TYPE\"][i]) == 'Sent' and data['CAMPAIGN.CAMPAIGN_NAME'][i] == name:\n",
    "                d[data[\"HashMessaggio\"][i]]['Sent'] = pd.to_datetime(data[\"EVENT.DATE\"][i], format='%Y/%m/%d %H:%M')\n",
    "            elif str(data[\"EVENT.TYPE\"][i]) == 'Open' and data['CAMPAIGN.CAMPAIGN_NAME'][i] == name:\n",
    "                d[data[\"HashMessaggio\"][i]]['Open'].append(pd.to_datetime(data[\"EVENT.DATE\"][i], format='%Y/%m/%d %H:%M'))\n",
    "            else:\n",
    "                pass\n",
    "    else:\n",
    "        raise Exception(str(name) + \" does not exists in \"+ str(comm_or_camp))\n",
    "\n",
    "    # preserve the oldest 'Open' date and delete the others\n",
    "    for i in data[\"HashMessaggio\"].unique():\n",
    "        timestamp_open_list = d[i]['Open']\n",
    "        oldest = None\n",
    "        for j in timestamp_open_list:\n",
    "            if oldest is None:\n",
    "                oldest = j\n",
    "            elif j < oldest:\n",
    "                oldest = j\n",
    "        d[i]['Open'] = oldest\n",
    "\n",
    "    # get differences between 'Open' and 'Sent'\n",
    "    list_deltas_open_minus_sent_comm = []\n",
    "    for i in data[\"HashMessaggio\"].unique():\n",
    "        if d[i]['Open'] is not None:\n",
    "            list_deltas_open_minus_sent_comm.append(d[i]['Open'] - d[i]['Sent'])\n",
    "\n",
    "    # get hours\n",
    "    hours_list = []\n",
    "    for i in range(len(list_deltas_open_minus_sent_comm)):\n",
    "        hours_list.append((list_deltas_open_minus_sent_comm[i].days*24) + list_deltas_open_minus_sent_comm[i].seconds//3600)\n",
    "\n",
    "    # all the number greater than 48 make it equal to 48\n",
    "    for i in range(len(hours_list)):\n",
    "        if hours_list[i] > 48:\n",
    "            hours_list[i] = 48\n",
    "\n",
    "    return hours_list"
   ]
  },
  {
   "cell_type": "markdown",
   "id": "079c8126",
   "metadata": {},
   "source": [
    "**Tassi di click per comunicazione/campagna per fascia oraria**. Significa che per ogni comunicazione/campagna devo mostrare quanti messaggi vengono clickati nella prima ora, poi seconda, ecc. fino a 48+."
   ]
  },
  {
   "cell_type": "code",
   "execution_count": 28,
   "id": "59e672de",
   "metadata": {},
   "outputs": [],
   "source": [
    "def click_per_fascia_oraria(name, comm_or_camp=None):\n",
    "    d5 = {}\n",
    "    for i in data[\"HashMessaggio\"].unique():\n",
    "        if i not in d5:\n",
    "            d5[i] = {'Open': [], 'Click': []}\n",
    "        \n",
    "    if name == 'all':\n",
    "        for i in range(len(data)):\n",
    "            if \"nan\" not in str(data[\"EVENT.DATE\"][i]) and str(data[\"EVENT.TYPE\"][i]) == 'Open':\n",
    "                d5[data[\"HashMessaggio\"][i]]['Open'].append(pd.to_datetime(data[\"EVENT.DATE\"][i], format='%Y/%m/%d %H:%M'))\n",
    "            elif \"nan\" not in str(data[\"EVENT.DATE\"][i]) and str(data[\"EVENT.TYPE\"][i]) == 'Click':\n",
    "                d5[data[\"HashMessaggio\"][i]]['Click'].append(pd.to_datetime(data[\"EVENT.DATE\"][i], format='%Y/%m/%d %H:%M'))\n",
    "            else:\n",
    "                pass\n",
    "\n",
    "    elif comm_or_camp == 'communication':\n",
    "        for i in range(len(data)):\n",
    "            if \"nan\" not in str(data[\"EVENT.DATE\"][i]) and str(data[\"EVENT.TYPE\"][i]) == 'Open' and data['COMUNICATION.COMUNICATION_NAME'][i] == name:\n",
    "                d5[data[\"HashMessaggio\"][i]]['Open'].append(pd.to_datetime(data[\"EVENT.DATE\"][i], format='%Y/%m/%d %H:%M'))\n",
    "            elif \"nan\" not in str(data[\"EVENT.DATE\"][i]) and str(data[\"EVENT.TYPE\"][i]) == 'Click' and data['COMUNICATION.COMUNICATION_NAME'][i] == name:\n",
    "                d5[data[\"HashMessaggio\"][i]]['Click'].append(pd.to_datetime(data[\"EVENT.DATE\"][i], format='%Y/%m/%d %H:%M'))\n",
    "            else:\n",
    "                pass\n",
    "    elif comm_or_camp == 'campaign':\n",
    "        for i in range(len(data)):\n",
    "            if \"nan\" not in str(data[\"EVENT.DATE\"][i]) and str(data[\"EVENT.TYPE\"][i]) == 'Open' and data['CAMPAIGN.CAMPAIGN_NAME'][i] == name:\n",
    "                d5[data[\"HashMessaggio\"][i]]['Open'].append(pd.to_datetime(data[\"EVENT.DATE\"][i], format='%Y/%m/%d %H:%M'))\n",
    "            elif \"nan\" not in str(data[\"EVENT.DATE\"][i]) and str(data[\"EVENT.TYPE\"][i]) == 'Click' and data['CAMPAIGN.CAMPAIGN_NAME'][i] == name:\n",
    "                d5[data[\"HashMessaggio\"][i]]['Click'].append(pd.to_datetime(data[\"EVENT.DATE\"][i], format='%Y/%m/%d %H:%M'))\n",
    "            else:\n",
    "                pass\n",
    "    else:\n",
    "        raise Exception(str(name) + \" does not exists in \"+ str(comm_or_camp))\n",
    "\n",
    "\n",
    "    # delete record with 'Open' == null or 'Click' == []\n",
    "    d6 = {}\n",
    "    for k, v in d5.items():\n",
    "        if (v['Click'] != []) and v['Open'] != []:\n",
    "            d6[k] = {'Open':v['Open'], 'Click':v['Click']}\n",
    "\n",
    "\n",
    "    # preserve the oldest 'Click' date and delete the others\n",
    "    for i in data[\"HashMessaggio\"].unique():\n",
    "        if i in d6:\n",
    "            timestamp_click_list = d6[i]['Click']\n",
    "            oldest = None\n",
    "            for j in timestamp_click_list:\n",
    "                if oldest is None:\n",
    "                    oldest = j\n",
    "                elif j < oldest:\n",
    "                    oldest = j\n",
    "            d6[i]['Click'] = oldest\n",
    "            # among the 'Open' timestamps, take the oldest\n",
    "            timestamp_open_list = d6[i]['Open']\n",
    "            oldest = None\n",
    "            for j in timestamp_open_list:\n",
    "                if oldest is None:\n",
    "                    oldest = j\n",
    "                elif j < oldest:\n",
    "                    oldest = j\n",
    "            d6[i]['Open'] = oldest\n",
    "\n",
    "    # get differences between 'Click' and 'Open'\n",
    "    list_deltas_click_minus_open = []\n",
    "    for i in data[\"HashMessaggio\"].unique():\n",
    "        if (i in d6):\n",
    "            list_deltas_click_minus_open.append(d6[i]['Click'] - d6[i]['Open'])\n",
    "    \n",
    "    # get hours\n",
    "    hours_list = []\n",
    "    for i in range(len(list_deltas_click_minus_open)):\n",
    "        hours_list.append((list_deltas_click_minus_open[i].days*24) + list_deltas_click_minus_open[i].seconds//3600)\n",
    "\n",
    "    # all the number greater than 48 make it equal to 48\n",
    "    for i in range(len(hours_list)):\n",
    "        if hours_list[i] > 48:\n",
    "            hours_list[i] = 48\n",
    "        if hours_list[i] < 0: # excluding click date < open date\n",
    "            hours_list[i] = 0\n",
    "\n",
    "    return hours_list"
   ]
  },
  {
   "cell_type": "markdown",
   "id": "01c3206d",
   "metadata": {},
   "source": [
    "**Tassi di apertura per campagna per fascia oraria**."
   ]
  },
  {
   "cell_type": "code",
   "execution_count": 154,
   "id": "2a0dd02c",
   "metadata": {},
   "outputs": [
    {
     "data": {
      "text/plain": [
       "array(['tbd', 'Diennea', 'MagNews Comunicazioni 2021'], dtype=object)"
      ]
     },
     "execution_count": 154,
     "metadata": {},
     "output_type": "execute_result"
    }
   ],
   "source": [
    "data['CAMPAIGN.CAMPAIGN_NAME'].unique()"
   ]
  },
  {
   "cell_type": "code",
   "execution_count": 213,
   "id": "92d14248",
   "metadata": {},
   "outputs": [
    {
     "data": {
      "image/png": "[encoded data removed]",
      "text/plain": [
       "<Figure size 432x288 with 1 Axes>"
      ]
     },
     "metadata": {
      "needs_background": "light"
     },
     "output_type": "display_data"
    }
   ],
   "source": [
    "camp0_open = apertura_per_fascia_oraria(data['CAMPAIGN.CAMPAIGN_NAME'].unique()[0], comm_or_camp = 'campaign')\n",
    "bins = 48\n",
    "plt.xlim([0, 48])\n",
    "plt.hist(camp0_open, bins=bins, alpha=0.5)\n",
    "plt.xlabel('bin = 1h')\n",
    "plt.ylabel('count')\n",
    "\n",
    "plt.show()"
   ]
  },
  {
   "cell_type": "code",
   "execution_count": 212,
   "id": "e2dee8a7",
   "metadata": {},
   "outputs": [
    {
     "data": {
      "image/png": "[encoded data removed]",
      "text/plain": [
       "<Figure size 432x288 with 1 Axes>"
      ]
     },
     "metadata": {
      "needs_background": "light"
     },
     "output_type": "display_data"
    }
   ],
   "source": [
    "camp1_open = apertura_per_fascia_oraria(data['CAMPAIGN.CAMPAIGN_NAME'].unique()[1], comm_or_camp = 'campaign')\n",
    "bins = 48\n",
    "plt.xlim([0, 48])\n",
    "plt.hist(camp1_open, bins=bins, alpha=0.5)\n",
    "plt.xlabel('bin = 1h')\n",
    "plt.ylabel('count')\n",
    "\n",
    "plt.show()"
   ]
  },
  {
   "cell_type": "code",
   "execution_count": 214,
   "id": "5f04db63",
   "metadata": {},
   "outputs": [
    {
     "data": {
      "image/png": "[encoded data removed]",
      "text/plain": [
       "<Figure size 432x288 with 1 Axes>"
      ]
     },
     "metadata": {
      "needs_background": "light"
     },
     "output_type": "display_data"
    }
   ],
   "source": [
    "camp2_open = apertura_per_fascia_oraria(data['CAMPAIGN.CAMPAIGN_NAME'].unique()[2], comm_or_camp = 'campaign')\n",
    "bins = 48\n",
    "plt.xlim([0, 48])\n",
    "plt.hist(camp2_open, bins=bins, alpha=0.5)\n",
    "plt.xlabel('bin = 1h')\n",
    "plt.ylabel('count')\n",
    "\n",
    "plt.show()"
   ]
  },
  {
   "cell_type": "markdown",
   "id": "b81c9086",
   "metadata": {},
   "source": [
    "**Tassi di click per campagna per fascia oraria**"
   ]
  },
  {
   "cell_type": "code",
   "execution_count": 216,
   "id": "df00b6c7",
   "metadata": {},
   "outputs": [
    {
     "data": {
      "image/png": "[encoded data removed]",
      "text/plain": [
       "<Figure size 432x288 with 1 Axes>"
      ]
     },
     "metadata": {
      "needs_background": "light"
     },
     "output_type": "display_data"
    }
   ],
   "source": [
    "camp0_click = click_per_fascia_oraria(data['CAMPAIGN.CAMPAIGN_NAME'].unique()[0], comm_or_camp = 'campaign')\n",
    "bins = 48\n",
    "plt.xlim([0, 48])\n",
    "plt.hist(camp0_click, bins=bins, alpha=0.5)\n",
    "plt.xlabel('bin = 1h')\n",
    "plt.ylabel('count')\n",
    "\n",
    "plt.show()"
   ]
  },
  {
   "cell_type": "code",
   "execution_count": 217,
   "id": "1c19715d",
   "metadata": {},
   "outputs": [
    {
     "data": {
      "image/png": "[encoded data removed]",
      "text/plain": [
       "<Figure size 432x288 with 1 Axes>"
      ]
     },
     "metadata": {
      "needs_background": "light"
     },
     "output_type": "display_data"
    }
   ],
   "source": [
    "camp1_click = click_per_fascia_oraria(data['CAMPAIGN.CAMPAIGN_NAME'].unique()[1], comm_or_camp = 'campaign')\n",
    "bins = 48\n",
    "plt.xlim([0, 48])\n",
    "plt.hist(camp1_click, bins=bins, alpha=0.5)\n",
    "plt.xlabel('bin = 1h')\n",
    "plt.ylabel('count')\n",
    "\n",
    "plt.show()"
   ]
  },
  {
   "cell_type": "code",
   "execution_count": 218,
   "id": "b11d4780",
   "metadata": {},
   "outputs": [
    {
     "data": {
      "image/png": "[encoded data removed]",
      "text/plain": [
       "<Figure size 432x288 with 1 Axes>"
      ]
     },
     "metadata": {
      "needs_background": "light"
     },
     "output_type": "display_data"
    }
   ],
   "source": [
    "camp2_click = click_per_fascia_oraria(data['CAMPAIGN.CAMPAIGN_NAME'].unique()[2], comm_or_camp = 'campaign')\n",
    "bins = 48\n",
    "plt.xlim([0, 48])\n",
    "plt.hist(camp2_click, bins=bins, alpha=0.5)\n",
    "plt.xlabel('bin = 1h')\n",
    "plt.ylabel('count')\n",
    "\n",
    "plt.show()"
   ]
  },
  {
   "cell_type": "markdown",
   "id": "69c23a61",
   "metadata": {},
   "source": [
    "**Quanti messaggi di quelli aperti vengono clickate nella prima ora, quante nella seconda ecc. fino a 24+**"
   ]
  },
  {
   "cell_type": "code",
   "execution_count": 199,
   "id": "a5ddda7e",
   "metadata": {},
   "outputs": [],
   "source": [
    "# get hours\n",
    "hours_list = []\n",
    "for i in range(len(list_deltas_click_minus_open)):\n",
    "    hours_list.append((list_deltas_click_minus_open[i].days*24) + list_deltas_click_minus_open[i].seconds//3600)"
   ]
  },
  {
   "cell_type": "code",
   "execution_count": 200,
   "id": "2710bf2e",
   "metadata": {},
   "outputs": [],
   "source": [
    "# all the number greater than 24 make it equal to 24\n",
    "for i in range(len(hours_list)):\n",
    "    if hours_list[i] > 24:\n",
    "        hours_list[i] = 24\n",
    "    if hours_list[i] < 0: # excluding click date < open date\n",
    "        hours_list[i] = 0"
   ]
  },
  {
   "cell_type": "code",
   "execution_count": 201,
   "id": "fa147651",
   "metadata": {},
   "outputs": [
    {
     "data": {
      "image/png": "[encoded data removed]",
      "text/plain": [
       "<Figure size 432x288 with 1 Axes>"
      ]
     },
     "metadata": {
      "needs_background": "light"
     },
     "output_type": "display_data"
    }
   ],
   "source": [
    "from matplotlib import pyplot as plt\n",
    "\n",
    "bins = 24\n",
    "plt.xlim([0, 24])\n",
    "plt.hist(hours_list, bins=bins, alpha=0.5)\n",
    "plt.xlabel('bin = 1h')\n",
    "plt.ylabel('count')\n",
    "\n",
    "plt.show()"
   ]
  },
  {
   "cell_type": "markdown",
   "id": "6637c4d6",
   "metadata": {},
   "source": [
    "**Lifetime medio dei contatti (es. tempo tra prima e ultima mail aperta per ogni contatto)**"
   ]
  },
  {
   "cell_type": "code",
   "execution_count": 34,
   "id": "00bf6672",
   "metadata": {},
   "outputs": [],
   "source": [
    "d7 = {}\n",
    "for i in data[\"HashContatto\"].unique():\n",
    "    if i not in d7:\n",
    "        d7[i] = {'OpenOldest': [], 'OpenNewest': []}"
   ]
  },
  {
   "cell_type": "code",
   "execution_count": 35,
   "id": "253ca9ec",
   "metadata": {},
   "outputs": [],
   "source": [
    "for i in range(len(data)):\n",
    "    if \"nan\" not in str(data[\"EVENT.DATE\"][i]) and str(data[\"EVENT.TYPE\"][i]) == 'Open':\n",
    "        d7[data[\"HashContatto\"][i]]['OpenOldest'].append(pd.to_datetime(data[\"EVENT.DATE\"][i], format='%Y/%m/%d %H:%M'))\n",
    "        d7[data[\"HashContatto\"][i]]['OpenNewest'].append(pd.to_datetime(data[\"EVENT.DATE\"][i], format='%Y/%m/%d %H:%M'))\n",
    "    else:\n",
    "        pass"
   ]
  },
  {
   "cell_type": "code",
   "execution_count": 36,
   "id": "bf036c7b",
   "metadata": {},
   "outputs": [],
   "source": [
    "# preserve the oldest 'Open' date and delete the others\n",
    "for i in data[\"HashContatto\"].unique():\n",
    "    if i in d7:\n",
    "        # keep the oldest\n",
    "        timestamp_open_oldest_list = d7[i]['OpenOldest']\n",
    "        oldest = None\n",
    "        for j in timestamp_open_oldest_list:\n",
    "            if oldest is None:\n",
    "                oldest = j\n",
    "            elif j < oldest:\n",
    "                oldest = j\n",
    "        d7[i]['OpenOldest'] = oldest\n",
    "        # keep the newest\n",
    "        timestamp_open_newest_list = d7[i]['OpenNewest']\n",
    "        newest = None\n",
    "        for j in timestamp_open_newest_list:\n",
    "            if newest is None:\n",
    "                newest = j\n",
    "            elif j > newest:\n",
    "                newest = j\n",
    "        d7[i]['OpenNewest'] = newest"
   ]
  },
  {
   "cell_type": "code",
   "execution_count": 38,
   "id": "d817c793",
   "metadata": {},
   "outputs": [],
   "source": [
    "# get differences between 'OpenNewest' and 'OpenOldest'\n",
    "list_deltas_opens_newest_minus_open_oldest = []\n",
    "for i in data[\"HashContatto\"].unique():\n",
    "    if (i in d7) and (d7[i]['OpenNewest'] is not None) and (d7[i]['OpenOldest'] is not None):\n",
    "        list_deltas_opens_newest_minus_open_oldest.append(d7[i]['OpenNewest'] - d7[i]['OpenOldest'])"
   ]
  },
  {
   "cell_type": "code",
   "execution_count": 39,
   "id": "f02c3e6d",
   "metadata": {},
   "outputs": [
    {
     "data": {
      "text/plain": [
       "1905"
      ]
     },
     "execution_count": 39,
     "metadata": {},
     "output_type": "execute_result"
    }
   ],
   "source": [
    "# numero di contatti che hanno aperto almeno due mail, che quindi vengono presi in considerazione per il calolo\n",
    "# del lifetime\n",
    "len(list_deltas_opens_newest_minus_open_oldest)"
   ]
  },
  {
   "cell_type": "code",
   "execution_count": 53,
   "id": "5e6155dd",
   "metadata": {},
   "outputs": [
    {
     "data": {
      "text/plain": [
       "Timedelta('226 days 01:03:08.865046612')"
      ]
     },
     "execution_count": 53,
     "metadata": {},
     "output_type": "execute_result"
    }
   ],
   "source": [
    "# get the mean of time elapsed between sent -> open mail\n",
    "mean_open_newest_minus_open_oldest1 = list_deltas_opens_newest_minus_open_oldest[0]\n",
    "for i in range(1, 472):\n",
    "    mean_open_newest_minus_open_oldest1 += list_deltas_opens_newest_minus_open_oldest[i]\n",
    "mean_open_newest_minus_open_oldest1 / 472"
   ]
  },
  {
   "cell_type": "code",
   "execution_count": 54,
   "id": "ed67c2da",
   "metadata": {},
   "outputs": [
    {
     "data": {
      "text/plain": [
       "Timedelta('149 days 09:55:14.206857750')"
      ]
     },
     "execution_count": 54,
     "metadata": {},
     "output_type": "execute_result"
    }
   ],
   "source": [
    "# get the mean of time elapsed between sent -> open mail\n",
    "mean_open_newest_minus_open_oldest2 = list_deltas_opens_newest_minus_open_oldest[472]\n",
    "for i in range(472+1, 472*2):\n",
    "    mean_open_newest_minus_open_oldest2 += list_deltas_opens_newest_minus_open_oldest[i]\n",
    "mean_open_newest_minus_open_oldest2 / (472 - 1)"
   ]
  },
  {
   "cell_type": "code",
   "execution_count": 55,
   "id": "366ec037",
   "metadata": {},
   "outputs": [
    {
     "data": {
      "text/plain": [
       "Timedelta('218 days 16:11:03.361730360')"
      ]
     },
     "execution_count": 55,
     "metadata": {},
     "output_type": "execute_result"
    }
   ],
   "source": [
    "# get the mean of time elapsed between sent -> open mail\n",
    "mean_open_newest_minus_open_oldest3 = list_deltas_opens_newest_minus_open_oldest[472*2]\n",
    "for i in range((472*2)+1, 472*3):\n",
    "    mean_open_newest_minus_open_oldest3 += list_deltas_opens_newest_minus_open_oldest[i]\n",
    "mean_open_newest_minus_open_oldest3 / (472-1)"
   ]
  },
  {
   "cell_type": "code",
   "execution_count": 56,
   "id": "8e2b2943",
   "metadata": {},
   "outputs": [
    {
     "data": {
      "text/plain": [
       "Timedelta('83 days 07:12:19.192142251')"
      ]
     },
     "execution_count": 56,
     "metadata": {},
     "output_type": "execute_result"
    }
   ],
   "source": [
    "# get the mean of time elapsed between sent -> open mail\n",
    "mean_open_newest_minus_open_oldest4 = list_deltas_opens_newest_minus_open_oldest[472*3]\n",
    "for i in range((472*3)+1, 472*4):\n",
    "    mean_open_newest_minus_open_oldest4 += list_deltas_opens_newest_minus_open_oldest[i]\n",
    "mean_open_newest_minus_open_oldest4 / (472-1)"
   ]
  },
  {
   "cell_type": "code",
   "execution_count": 57,
   "id": "5c8c6b4d",
   "metadata": {},
   "outputs": [
    {
     "data": {
      "text/plain": [
       "Timedelta('4 days 08:38:43.159812500')"
      ]
     },
     "execution_count": 57,
     "metadata": {},
     "output_type": "execute_result"
    }
   ],
   "source": [
    "# get the mean of time elapsed between sent -> open mail\n",
    "mean_open_newest_minus_open_oldest5 = list_deltas_opens_newest_minus_open_oldest[472*4]\n",
    "for i in range((472*4)+1, 1905):\n",
    "    mean_open_newest_minus_open_oldest5 += list_deltas_opens_newest_minus_open_oldest[i]\n",
    "mean_open_newest_minus_open_oldest5 / (1905-(472*4)-1)"
   ]
  },
  {
   "cell_type": "code",
   "execution_count": 148,
   "id": "d2d56d42",
   "metadata": {},
   "outputs": [],
   "source": [
    "# this gives an overflow because the number is too big, I computed it by hand\n",
    "# (mean_open_newest_minus_open_oldest1 + mean_open_newest_minus_open_oldest2 + mean_open_newest_minus_open_oldest3 + mean_open_newest_minus_open_oldest4 + mean_open_newest_minus_open_oldest5) / 5"
   ]
  },
  {
   "cell_type": "markdown",
   "id": "717af87b",
   "metadata": {},
   "source": [
    "**Quanti hanno un lifetime di 10gg, 20gg, 30gg ecc.**"
   ]
  },
  {
   "cell_type": "code",
   "execution_count": 82,
   "id": "2127f7bd",
   "metadata": {},
   "outputs": [],
   "source": [
    "# get days\n",
    "days_list = []\n",
    "for i in range(len(list_deltas_opens_newest_minus_open_oldest)):\n",
    "    days_list.append(list_deltas_opens_newest_minus_open_oldest[i].days)"
   ]
  },
  {
   "cell_type": "code",
   "execution_count": 99,
   "id": "4b7a5abc",
   "metadata": {},
   "outputs": [
    {
     "data": {
      "image/png": "[encoded data removed]",
      "text/plain": [
       "<Figure size 432x288 with 1 Axes>"
      ]
     },
     "metadata": {
      "needs_background": "light"
     },
     "output_type": "display_data"
    }
   ],
   "source": [
    "from matplotlib import pyplot as plt\n",
    "\n",
    "bins = 35\n",
    "plt.xlim([min(days_list)-5, max(days_list)+5])\n",
    "plt.hist(days_list, bins=bins, alpha=0.5)\n",
    "plt.xlabel('bin = 10 giorni')\n",
    "plt.ylabel('count')\n",
    "\n",
    "plt.show()"
   ]
  },
  {
   "cell_type": "markdown",
   "id": "db071611",
   "metadata": {},
   "source": [
    "**Fasce orarie in cui sono stati aperti i messaggi inviati dalle 6 alle 9**"
   ]
  },
  {
   "cell_type": "code",
   "execution_count": 29,
   "id": "d7b770a3",
   "metadata": {},
   "outputs": [
    {
     "data": {
      "text/plain": [
       "<AxesSubplot:>"
      ]
     },
     "execution_count": 29,
     "metadata": {},
     "output_type": "execute_result"
    },
    {
     "data": {
      "image/png": "[encoded data removed]",
      "text/plain": [
       "<Figure size 432x288 with 1 Axes>"
      ]
     },
     "metadata": {
      "needs_background": "light"
     },
     "output_type": "display_data"
    }
   ],
   "source": [
    "hash_messages_sent_mail_list_6_9 = []\n",
    "for i in range(len(data)):\n",
    "    if \"nan\" not in str(data[\"EVENT.DATE\"][i]) and str(data[\"EVENT.TYPE\"][i]) == 'Sent' and ((pd.to_datetime(data[\"EVENT.DATE\"][i], format='%Y/%m/%d %H:%M').hour) >= 6) and ((pd.to_datetime(data[\"EVENT.DATE\"][i], format='%Y/%m/%d %H:%M').hour) <= 9):\n",
    "        hash_messages_sent_mail_list_6_9.append(data[\"HashMessaggio\"][i])\n",
    "        \n",
    "dates_6_9 = []\n",
    "for i in range(len(data)):\n",
    "    if \"nan\" not in str(data[\"EVENT.DATE\"][i]) and (str(data[\"EVENT.TYPE\"][i]) == 'Open' or str(data[\"EVENT.TYPE\"][i]) == 'Click') and (data[\"HashMessaggio\"][i] in hash_messages_sent_mail_list_6_9):\n",
    "        dates_6_9.append(pd.to_datetime(data[\"EVENT.DATE\"][i], format='%Y/%m/%d %H:%M'))\n",
    "        \n",
    "df = pd.DataFrame(dates_6_9, columns =['dates_6_9'])\n",
    "df=df.assign(session=pd.cut(df[\"dates_6_9\"].dt.hour,\n",
    "                            [0,3,6,9,12,15,18,21,24],\n",
    "                            labels=['Night0-3','Nigh3-6','Morning6-9','Morning9-12','Afternoon12-15','Afternoon15-18','Evening18-21', 'Evening21-24'],\n",
    "                            include_lowest=True))\n",
    "df['session'].value_counts().sort_index().plot.bar()"
   ]
  },
  {
   "cell_type": "code",
   "execution_count": 30,
   "id": "8e7d56e7",
   "metadata": {},
   "outputs": [
    {
     "data": {
      "text/plain": [
       "55.086661642803314"
      ]
     },
     "execution_count": 30,
     "metadata": {},
     "output_type": "execute_result"
    }
   ],
   "source": [
    "df['session'].value_counts()[0] / df['session'].value_counts().sum() * 100"
   ]
  },
  {
   "cell_type": "markdown",
   "id": "06c5a774",
   "metadata": {},
   "source": [
    "**Fasce orarie in cui sono stati aperti i messaggi inviati dalle 9 alle 12**"
   ]
  },
  {
   "cell_type": "code",
   "execution_count": 31,
   "id": "68ec3cee",
   "metadata": {},
   "outputs": [
    {
     "data": {
      "text/plain": [
       "<AxesSubplot:>"
      ]
     },
     "execution_count": 31,
     "metadata": {},
     "output_type": "execute_result"
    },
    {
     "data": {
      "image/png": "[encoded data removed]",
      "text/plain": [
       "<Figure size 432x288 with 1 Axes>"
      ]
     },
     "metadata": {
      "needs_background": "light"
     },
     "output_type": "display_data"
    }
   ],
   "source": [
    "hash_messages_sent_mail_list_9_12 = []\n",
    "for i in range(len(data)):\n",
    "    if \"nan\" not in str(data[\"EVENT.DATE\"][i]) and str(data[\"EVENT.TYPE\"][i]) == 'Sent' and ((pd.to_datetime(data[\"EVENT.DATE\"][i], format='%Y/%m/%d %H:%M').hour) >= 9) and ((pd.to_datetime(data[\"EVENT.DATE\"][i], format='%Y/%m/%d %H:%M').hour) <= 12):\n",
    "        hash_messages_sent_mail_list_9_12.append(data[\"HashMessaggio\"][i])\n",
    "        \n",
    "dates_9_12 = []\n",
    "for i in range(len(data)):\n",
    "    if \"nan\" not in str(data[\"EVENT.DATE\"][i]) and (str(data[\"EVENT.TYPE\"][i]) == 'Open' or str(data[\"EVENT.TYPE\"][i]) == 'Click') and (data[\"HashMessaggio\"][i] in hash_messages_sent_mail_list_9_12):\n",
    "        dates_9_12.append(pd.to_datetime(data[\"EVENT.DATE\"][i], format='%Y/%m/%d %H:%M'))\n",
    "        \n",
    "df2 = pd.DataFrame(dates_9_12, columns =['dates_9_12'])\n",
    "\n",
    "df2 = df2.assign(session2=pd.cut(df2[\"dates_9_12\"].dt.hour,\n",
    "                            [0,3,6,9,12,15,18,21,24],\n",
    "                            labels=['Night0-3','Nigh3-6','Morning6-9','Morning9-12','Afternoon12-15','Afternoon15-18','Evening18-21', 'Evening21-24'],\n",
    "                            include_lowest=True))\n",
    "\n",
    "df2['session2'].value_counts().sort_index().plot.bar()"
   ]
  },
  {
   "cell_type": "code",
   "execution_count": 32,
   "id": "c041b36f",
   "metadata": {},
   "outputs": [
    {
     "data": {
      "text/plain": [
       "55.90691605045672"
      ]
     },
     "execution_count": 32,
     "metadata": {},
     "output_type": "execute_result"
    }
   ],
   "source": [
    "df2['session2'].value_counts()[0] / df2['session2'].value_counts().sum() * 100"
   ]
  },
  {
   "cell_type": "markdown",
   "id": "642ca75f",
   "metadata": {},
   "source": [
    "**Fasce orarie in cui sono stati aperti i messaggi inviati dalle 12 alle 15**"
   ]
  },
  {
   "cell_type": "code",
   "execution_count": 33,
   "id": "eb4f8340",
   "metadata": {},
   "outputs": [
    {
     "data": {
      "text/plain": [
       "<AxesSubplot:>"
      ]
     },
     "execution_count": 33,
     "metadata": {},
     "output_type": "execute_result"
    },
    {
     "data": {
      "image/png": "[encoded data removed]",
      "text/plain": [
       "<Figure size 432x288 with 1 Axes>"
      ]
     },
     "metadata": {
      "needs_background": "light"
     },
     "output_type": "display_data"
    }
   ],
   "source": [
    "hash_messages_sent_mail_list_12_15 = []\n",
    "for i in range(len(data)):\n",
    "    if \"nan\" not in str(data[\"EVENT.DATE\"][i]) and str(data[\"EVENT.TYPE\"][i]) == 'Sent' and ((pd.to_datetime(data[\"EVENT.DATE\"][i], format='%Y/%m/%d %H:%M').hour) >= 12) and ((pd.to_datetime(data[\"EVENT.DATE\"][i], format='%Y/%m/%d %H:%M').hour) <= 15):\n",
    "        hash_messages_sent_mail_list_12_15.append(data[\"HashMessaggio\"][i])\n",
    "        \n",
    "dates_12_15 = []\n",
    "for i in range(len(data)):\n",
    "    if \"nan\" not in str(data[\"EVENT.DATE\"][i]) and (str(data[\"EVENT.TYPE\"][i]) == 'Open' or str(data[\"EVENT.TYPE\"][i]) == 'Click') and (data[\"HashMessaggio\"][i] in hash_messages_sent_mail_list_12_15):\n",
    "        dates_12_15.append(pd.to_datetime(data[\"EVENT.DATE\"][i], format='%Y/%m/%d %H:%M'))\n",
    "        \n",
    "df3 = pd.DataFrame(dates_12_15, columns =['dates_12_15'])\n",
    "\n",
    "df3 = df3.assign(session3=pd.cut(df3[\"dates_12_15\"].dt.hour,\n",
    "                            [0,3,6,9,12,15,18,21,24],\n",
    "                            labels=['Night0-3','Nigh3-6','Morning6-9','Morning9-12','Afternoon12-15','Afternoon15-18','Evening18-21', 'Evening21-24'],\n",
    "                            include_lowest=True))\n",
    "\n",
    "df3['session3'].value_counts().sort_index().plot.bar()"
   ]
  },
  {
   "cell_type": "code",
   "execution_count": 34,
   "id": "bcd5646b",
   "metadata": {},
   "outputs": [
    {
     "data": {
      "text/plain": [
       "39.888640146949086"
      ]
     },
     "execution_count": 34,
     "metadata": {},
     "output_type": "execute_result"
    }
   ],
   "source": [
    "df3['session3'].value_counts()[0] / df3['session3'].value_counts().sum() * 100"
   ]
  },
  {
   "cell_type": "markdown",
   "id": "fa27cbd3",
   "metadata": {},
   "source": [
    "**Fasce orarie in cui sono stati aperti i messaggi inviati dalle 15 alle 18**"
   ]
  },
  {
   "cell_type": "code",
   "execution_count": 35,
   "id": "4e21ef85",
   "metadata": {},
   "outputs": [
    {
     "data": {
      "text/plain": [
       "<AxesSubplot:>"
      ]
     },
     "execution_count": 35,
     "metadata": {},
     "output_type": "execute_result"
    },
    {
     "data": {
      "image/png": "[encoded data removed]",
      "text/plain": [
       "<Figure size 432x288 with 1 Axes>"
      ]
     },
     "metadata": {
      "needs_background": "light"
     },
     "output_type": "display_data"
    }
   ],
   "source": [
    "hash_messages_sent_mail_list_15_18 = []\n",
    "for i in range(len(data)):\n",
    "    if \"nan\" not in str(data[\"EVENT.DATE\"][i]) and str(data[\"EVENT.TYPE\"][i]) == 'Sent' and ((pd.to_datetime(data[\"EVENT.DATE\"][i], format='%Y/%m/%d %H:%M').hour) >= 15) and ((pd.to_datetime(data[\"EVENT.DATE\"][i], format='%Y/%m/%d %H:%M').hour) <= 18):\n",
    "        hash_messages_sent_mail_list_15_18.append(data[\"HashMessaggio\"][i])\n",
    "        \n",
    "dates_15_18 = []\n",
    "for i in range(len(data)):\n",
    "    if \"nan\" not in str(data[\"EVENT.DATE\"][i]) and (str(data[\"EVENT.TYPE\"][i]) == 'Open' or str(data[\"EVENT.TYPE\"][i]) == 'Click') and (data[\"HashMessaggio\"][i] in hash_messages_sent_mail_list_15_18):\n",
    "        dates_15_18.append(pd.to_datetime(data[\"EVENT.DATE\"][i], format='%Y/%m/%d %H:%M'))\n",
    "        \n",
    "df4 = pd.DataFrame(dates_15_18, columns =['dates_15_18'])\n",
    "\n",
    "df4 = df4.assign(session4=pd.cut(df4[\"dates_15_18\"].dt.hour,\n",
    "                            [0,3,6,9,12,15,18,21,24],\n",
    "                            labels=['Night0-3','Nigh3-6','Morning6-9','Morning9-12','Afternoon12-15','Afternoon15-18','Evening18-21', 'Evening21-24'],\n",
    "                            include_lowest=True))\n",
    "\n",
    "df4['session4'].value_counts().sort_index().plot.bar()"
   ]
  },
  {
   "cell_type": "code",
   "execution_count": 33,
   "id": "f26dd964",
   "metadata": {},
   "outputs": [
    {
     "data": {
      "text/plain": [
       "37.86078098471987"
      ]
     },
     "execution_count": 33,
     "metadata": {},
     "output_type": "execute_result"
    }
   ],
   "source": [
    "df4['session4'].value_counts()[0] / df4['session4'].value_counts().sum() * 100"
   ]
  },
  {
   "cell_type": "markdown",
   "id": "692f1593",
   "metadata": {},
   "source": []
  },
  {
   "cell_type": "code",
   "execution_count": 282,
   "id": "427f8e47",
   "metadata": {},
   "outputs": [],
   "source": [
    "def fasce_orarie(first, second, day_of_week=None):\n",
    "    hash_messages_sent_mail_list = []\n",
    "    \n",
    "    for i in range(len(data)):\n",
    "        if \"nan\" not in str(data[\"EVENT.DATE\"][i]) and str(data[\"EVENT.TYPE\"][i]) == 'Sent' and ((pd.to_datetime(data[\"EVENT.DATE\"][i], format='%Y/%m/%d %H:%M').hour) >= first) and ((pd.to_datetime(data[\"EVENT.DATE\"][i], format='%Y/%m/%d %H:%M').hour) <= second):\n",
    "            hash_messages_sent_mail_list.append(data[\"HashMessaggio\"][i])\n",
    "    dates = []\n",
    "    if day_of_week is not None:\n",
    "        for i in range(len(data)):\n",
    "            if \"nan\" not in str(data[\"EVENT.DATE\"][i]) and (str(data[\"EVENT.TYPE\"][i]) == 'Open' or str(data[\"EVENT.TYPE\"][i]) == 'Click') and data['day_of_week'][i] == day_of_week and (data[\"HashMessaggio\"][i] in hash_messages_sent_mail_list):\n",
    "                dates.append(pd.to_datetime(data[\"EVENT.DATE\"][i], format='%Y/%m/%d %H:%M'))\n",
    "    else:\n",
    "        for i in range(len(data)):\n",
    "            if \"nan\" not in str(data[\"EVENT.DATE\"][i]) and (str(data[\"EVENT.TYPE\"][i]) == 'Open' or str(data[\"EVENT.TYPE\"][i]) == 'Click') and (data[\"HashMessaggio\"][i] in hash_messages_sent_mail_list):\n",
    "                dates.append(pd.to_datetime(data[\"EVENT.DATE\"][i], format='%Y/%m/%d %H:%M'))\n",
    "\n",
    "    df = pd.DataFrame(dates, columns =['dates'])\n",
    "\n",
    "    df = df.assign(session=pd.cut(df[\"dates\"].dt.hour,\n",
    "                                [0,1,2,3,4,5,6,7,8,9,10,11,12,13,14,15,16,17,18,19,20,21,22,23,24],\n",
    "                                labels=['0-1','1-2','2-3','3-4','4-5','5-6','6-7', '7-8', '8-9', '9-10', '10-11', '11-12', '12-13', '13-14', '14-15', '15-16', '16-17', '17-18', '18-19', '19-20', '20-21', '21-22', '22-23', '23-24'],\n",
    "                                include_lowest=True))\n",
    "\n",
    "    return df['session'].value_counts().sort_index()\n",
    "    "
   ]
  },
  {
   "cell_type": "code",
   "execution_count": 283,
   "id": "10fd25a1",
   "metadata": {},
   "outputs": [
    {
     "data": {
      "text/plain": [
       "array(['Wednesday', 'Monday', 'Tuesday', 'Thursday', 'Friday', 'Saturday',\n",
       "       'Sunday'], dtype=object)"
      ]
     },
     "execution_count": 283,
     "metadata": {},
     "output_type": "execute_result"
    }
   ],
   "source": [
    "data['day_of_week'].unique()"
   ]
  },
  {
   "cell_type": "markdown",
   "id": "80c06576",
   "metadata": {},
   "source": [
    "**Fasce orarie in cui sono stati aperti i messaggi inviati dalle 6 alle 9**"
   ]
  },
  {
   "cell_type": "code",
   "execution_count": 295,
   "id": "cd14eb0c",
   "metadata": {},
   "outputs": [
    {
     "data": {
      "image/png": "[encoded data removed]",
      "text/plain": [
       "<Figure size 432x288 with 1 Axes>"
      ]
     },
     "metadata": {
      "needs_background": "light"
     },
     "output_type": "display_data"
    }
   ],
   "source": [
    "six_nine = fasce_orarie(6, 9) # all\n",
    "six_nine.plot.bar();"
   ]
  },
  {
   "cell_type": "markdown",
   "id": "a6a74ea8",
   "metadata": {},
   "source": [
    "**Messaggi aperti di Monday dei messaggi inviati dalle 6 alle 9.**"
   ]
  },
  {
   "cell_type": "code",
   "execution_count": 297,
   "id": "d8b4be87",
   "metadata": {},
   "outputs": [
    {
     "data": {
      "image/png": "[encoded data removed]",
      "text/plain": [
       "<Figure size 432x288 with 1 Axes>"
      ]
     },
     "metadata": {
      "needs_background": "light"
     },
     "output_type": "display_data"
    }
   ],
   "source": [
    "six_nine2 = fasce_orarie(6, 9, day_of_week='Monday')\n",
    "six_nine2.plot.bar();"
   ]
  },
  {
   "cell_type": "code",
   "execution_count": 299,
   "id": "9d222422",
   "metadata": {},
   "outputs": [
    {
     "data": {
      "image/png": "[encoded data removed]",
      "text/plain": [
       "<Figure size 432x288 with 1 Axes>"
      ]
     },
     "metadata": {
      "needs_background": "light"
     },
     "output_type": "display_data"
    }
   ],
   "source": [
    "six_nine3 = fasce_orarie(6, 9, day_of_week='Tuesday')\n",
    "six_nine3.plot.bar();"
   ]
  },
  {
   "cell_type": "code",
   "execution_count": 301,
   "id": "447495a1",
   "metadata": {},
   "outputs": [
    {
     "data": {
      "image/png": "[encoded data removed]",
      "text/plain": [
       "<Figure size 432x288 with 1 Axes>"
      ]
     },
     "metadata": {
      "needs_background": "light"
     },
     "output_type": "display_data"
    }
   ],
   "source": [
    "six_nine4 = fasce_orarie(6, 9, day_of_week='Wednesday')\n",
    "six_nine4.plot.bar();"
   ]
  },
  {
   "cell_type": "code",
   "execution_count": 303,
   "id": "c1a0f28c",
   "metadata": {},
   "outputs": [
    {
     "data": {
      "image/png": "[encoded data removed]",
      "text/plain": [
       "<Figure size 432x288 with 1 Axes>"
      ]
     },
     "metadata": {
      "needs_background": "light"
     },
     "output_type": "display_data"
    }
   ],
   "source": [
    "six_nine5 = fasce_orarie(6, 9, day_of_week='Thursday')\n",
    "six_nine5.plot.bar();"
   ]
  },
  {
   "cell_type": "code",
   "execution_count": 307,
   "id": "c2fe6fcc",
   "metadata": {},
   "outputs": [
    {
     "data": {
      "image/png": "[encoded data removed]",
      "text/plain": [
       "<Figure size 432x288 with 1 Axes>"
      ]
     },
     "metadata": {
      "needs_background": "light"
     },
     "output_type": "display_data"
    }
   ],
   "source": [
    "six_nine6 = fasce_orarie(6, 9, day_of_week='Friday')\n",
    "six_nine6.plot.bar();"
   ]
  },
  {
   "cell_type": "code",
   "execution_count": 309,
   "id": "40491b25",
   "metadata": {},
   "outputs": [
    {
     "data": {
      "image/png": "[encoded data removed]",
      "text/plain": [
       "<Figure size 432x288 with 1 Axes>"
      ]
     },
     "metadata": {
      "needs_background": "light"
     },
     "output_type": "display_data"
    }
   ],
   "source": [
    "six_nine7 = fasce_orarie(6, 9, day_of_week='Saturday')\n",
    "six_nine7.plot.bar();"
   ]
  },
  {
   "cell_type": "code",
   "execution_count": 311,
   "id": "99b533d2",
   "metadata": {},
   "outputs": [
    {
     "data": {
      "image/png": "[encoded data removed]",
      "text/plain": [
       "<Figure size 432x288 with 1 Axes>"
      ]
     },
     "metadata": {
      "needs_background": "light"
     },
     "output_type": "display_data"
    }
   ],
   "source": [
    "six_nine8 = fasce_orarie(6, 9, day_of_week='Sunday')\n",
    "six_nine8.plot.bar();"
   ]
  },
  {
   "cell_type": "markdown",
   "id": "f36bdde5",
   "metadata": {},
   "source": [
    "From here onwards, I just computed fasce orarie in general."
   ]
  },
  {
   "cell_type": "code",
   "execution_count": 208,
   "id": "40e3a41e",
   "metadata": {},
   "outputs": [
    {
     "data": {
      "image/png": "[encoded data removed]",
      "text/plain": [
       "<Figure size 432x288 with 1 Axes>"
      ]
     },
     "metadata": {
      "needs_background": "light"
     },
     "output_type": "display_data"
    }
   ],
   "source": [
    "nine_twelve = fasce_orarie(9, 12)\n",
    "nine_twelve.plot.bar();"
   ]
  },
  {
   "cell_type": "code",
   "execution_count": 209,
   "id": "196ae39c",
   "metadata": {},
   "outputs": [
    {
     "data": {
      "image/png": "[encoded data removed]",
      "text/plain": [
       "<Figure size 432x288 with 1 Axes>"
      ]
     },
     "metadata": {
      "needs_background": "light"
     },
     "output_type": "display_data"
    }
   ],
   "source": [
    "twelve_fifteen = fasce_orarie(12, 15)\n",
    "twelve_fifteen.plot.bar();"
   ]
  },
  {
   "cell_type": "code",
   "execution_count": 210,
   "id": "20902f76",
   "metadata": {},
   "outputs": [
    {
     "data": {
      "image/png": "[encoded data removed]",
      "text/plain": [
       "<Figure size 432x288 with 1 Axes>"
      ]
     },
     "metadata": {
      "needs_background": "light"
     },
     "output_type": "display_data"
    }
   ],
   "source": [
    "fifteen_eighteen = fasce_orarie(15, 18)\n",
    "fifteen_eighteen.plot.bar();"
   ]
  },
  {
   "cell_type": "markdown",
   "id": "f1662962",
   "metadata": {},
   "source": [
    "**Calcolare il rapporto tra gli eventi Apertura distinti e il totale degli eventi Sent, per ciascuna Campagna distinta.**"
   ]
  },
  {
   "cell_type": "code",
   "execution_count": 222,
   "id": "9072fcf5",
   "metadata": {},
   "outputs": [],
   "source": [
    "dd = {}\n",
    "for i in data[\"CAMPAIGN.CAMPAIGN_ID\"].unique():\n",
    "    if i not in dd:\n",
    "        dd[i] = {'Sent': 0, 'Open': 0}"
   ]
  },
  {
   "cell_type": "code",
   "execution_count": 224,
   "id": "d2d58f22",
   "metadata": {},
   "outputs": [],
   "source": [
    "hash_mex_for_open_distinct = []\n",
    "for i in range(len(data)):\n",
    "    if \"nan\" not in str(data[\"EVENT.DATE\"][i]) and str(data[\"EVENT.TYPE\"][i]) == 'Open' and (data[\"HashMessaggio\"][i] not in hash_mex_for_open_distinct):\n",
    "        dd[data[\"CAMPAIGN.CAMPAIGN_ID\"][i]]['Open'] += 1\n",
    "        hash_mex_for_open_distinct.append(data[\"HashMessaggio\"][i])\n",
    "    elif \"nan\" not in str(data[\"EVENT.DATE\"][i]) and str(data[\"EVENT.TYPE\"][i]) == 'Sent':\n",
    "        dd[data[\"CAMPAIGN.CAMPAIGN_ID\"][i]]['Sent'] += 1\n",
    "    else:\n",
    "        pass"
   ]
  },
  {
   "cell_type": "code",
   "execution_count": 238,
   "id": "cd8e2b80",
   "metadata": {},
   "outputs": [],
   "source": [
    "list_percentage_open_divided_sent_per_campaign = []\n",
    "for i in dd.values():\n",
    "    list_percentage_open_divided_sent_per_campaign.append(i['Open'] / i['Sent']*100)"
   ]
  },
  {
   "cell_type": "code",
   "execution_count": 239,
   "id": "01fc08bb",
   "metadata": {},
   "outputs": [
    {
     "data": {
      "text/plain": [
       "[25.08780409215402, 21.619919862621636, 21.348109358826036]"
      ]
     },
     "execution_count": 239,
     "metadata": {},
     "output_type": "execute_result"
    }
   ],
   "source": [
    "list_percentage_open_divided_sent_per_campaign"
   ]
  },
  {
   "cell_type": "code",
   "execution_count": 245,
   "id": "a807cd7b",
   "metadata": {},
   "outputs": [
    {
     "data": {
      "image/png": "[encoded data removed]",
      "text/plain": [
       "<Figure size 432x288 with 1 Axes>"
      ]
     },
     "metadata": {
      "needs_background": "light"
     },
     "output_type": "display_data"
    }
   ],
   "source": [
    "plt.plot(range(0, len(list_percentage_open_divided_sent_per_campaign)), list_percentage_open_divided_sent_per_campaign, 'bo', alpha=0.5)\n",
    "plt.xlabel('\\'tbd\\', \\'Diennea\\', \\'MagNews Comunicazioni 2021\\'')\n",
    "plt.show()"
   ]
  },
  {
   "cell_type": "markdown",
   "id": "41745277",
   "metadata": {},
   "source": [
    "**Calcolare il rapporto tra gli eventi Apertura distinti e il totale degli eventi Sent, per ciascuna Comunicazione distinta.**"
   ]
  },
  {
   "cell_type": "code",
   "execution_count": 246,
   "id": "b65344cc",
   "metadata": {},
   "outputs": [],
   "source": [
    "dm = {}\n",
    "for i in data[\"COMUNICATION.COMUNICATION_NAME\"].unique():\n",
    "    if i not in dd:\n",
    "        dm[i] = {'Sent': 0, 'Open': 0}"
   ]
  },
  {
   "cell_type": "code",
   "execution_count": 248,
   "id": "f67fe2ac",
   "metadata": {},
   "outputs": [],
   "source": [
    "hash_mex_for_open_distinct2 = []\n",
    "for i in range(len(data)):\n",
    "    if \"nan\" not in str(data[\"EVENT.DATE\"][i]) and str(data[\"EVENT.TYPE\"][i]) == 'Open' and (data[\"HashMessaggio\"][i] not in hash_mex_for_open_distinct2):\n",
    "        dm[data[\"COMUNICATION.COMUNICATION_NAME\"][i]]['Open'] += 1\n",
    "        hash_mex_for_open_distinct2.append(data[\"HashMessaggio\"][i])\n",
    "    elif \"nan\" not in str(data[\"EVENT.DATE\"][i]) and str(data[\"EVENT.TYPE\"][i]) == 'Sent':\n",
    "        dm[data[\"COMUNICATION.COMUNICATION_NAME\"][i]]['Sent'] += 1\n",
    "    else:\n",
    "        pass"
   ]
  },
  {
   "cell_type": "code",
   "execution_count": 250,
   "id": "ab87b624",
   "metadata": {},
   "outputs": [],
   "source": [
    "list_percentage_open_divided_sent_per_comm = []\n",
    "for i in dm.values():\n",
    "    list_percentage_open_divided_sent_per_comm.append(i['Open'] / i['Sent']*100)"
   ]
  },
  {
   "cell_type": "code",
   "execution_count": 253,
   "id": "4bf50c21",
   "metadata": {},
   "outputs": [
    {
     "data": {
      "image/png": "[encoded data removed]",
      "text/plain": [
       "<Figure size 432x288 with 1 Axes>"
      ]
     },
     "metadata": {
      "needs_background": "light"
     },
     "output_type": "display_data"
    }
   ],
   "source": [
    "plt.plot(range(0, len(list_percentage_open_divided_sent_per_comm)), list_percentage_open_divided_sent_per_comm, 'bo', alpha=0.5)\n",
    "plt.show()"
   ]
  },
  {
   "cell_type": "markdown",
   "id": "b3e741bf",
   "metadata": {},
   "source": [
    "**Lunedì -> x% ( con semantica: tra le mail inviate il Lunedì, l'x% delle inviate sono state Open/Clicked in futuro) <br>\n",
    "Martedi -> y% (con semantica: ..)**"
   ]
  },
  {
   "cell_type": "code",
   "execution_count": 289,
   "id": "070b9fd2",
   "metadata": {},
   "outputs": [],
   "source": [
    "day_of_week = []\n",
    "for i in range(len(data)):\n",
    "    day_of_week.append(pd.to_datetime(data[\"EVENT.DATE\"][i], format='%Y/%m/%d %H:%M').day_name())\n",
    "data['day_of_week'] = pd.DataFrame(day_of_week)"
   ]
  },
  {
   "cell_type": "code",
   "execution_count": 296,
   "id": "58dd5fe8",
   "metadata": {},
   "outputs": [],
   "source": [
    "d = {}\n",
    "for i in data[\"day_of_week\"].unique():\n",
    "    if i not in d:\n",
    "        d[i] = {'Sent': 0, 'Open': 0}"
   ]
  },
  {
   "cell_type": "code",
   "execution_count": 297,
   "id": "75292e46",
   "metadata": {},
   "outputs": [],
   "source": [
    "list_contact_concatenated_mex  = []\n",
    "for i in range(len(data)):\n",
    "    if str(data[\"EVENT.TYPE\"][i]) == 'Sent':\n",
    "        d[data[\"day_of_week\"][i]]['Sent'] += 1\n",
    "    elif (str(data[\"EVENT.TYPE\"][i]) == 'Open') and (data['HashContatto'][i] + data['HashMessaggio'][i] not in list_contact_concatenated_mex):\n",
    "        list_contact_concatenated_mex.append(data['HashContatto'][i] + data['HashMessaggio'][i])\n",
    "        d[data[\"day_of_week\"][i]]['Open'] += 1\n",
    "    else:\n",
    "        pass"
   ]
  },
  {
   "cell_type": "code",
   "execution_count": 300,
   "id": "eabcae16",
   "metadata": {},
   "outputs": [],
   "source": [
    "list_percentage_open_divided_sent_per_comm = []\n",
    "for i in d.values():\n",
    "    if i['Sent'] > 0:\n",
    "        list_percentage_open_divided_sent_per_comm.append(i['Open'] / i['Sent']*100)"
   ]
  },
  {
   "cell_type": "code",
   "execution_count": 335,
   "id": "865742f9",
   "metadata": {},
   "outputs": [],
   "source": [
    "names = ['','Monday', 'Tuesday', 'Wednesday', 'Thursday', 'Friday', 'Saturday', 'Sunday']"
   ]
  },
  {
   "cell_type": "code",
   "execution_count": 336,
   "id": "3e773508",
   "metadata": {},
   "outputs": [],
   "source": [
    "# Creating dataset\n",
    "marks = np.array([23.4, 19.3, 21.4, 23.2, 0, 0, 0])"
   ]
  },
  {
   "cell_type": "code",
   "execution_count": 337,
   "id": "2b5c7292",
   "metadata": {},
   "outputs": [
    {
     "name": "stderr",
     "output_type": "stream",
     "text": [
      "/home/ec2-user/anaconda3/envs/python3/lib/python3.6/site-packages/ipykernel/__main__.py:3: UserWarning: FixedFormatter should only be used together with FixedLocator\n",
      "  app.launch_new_instance()\n"
     ]
    },
    {
     "data": {
      "image/png": "[encoded data removed]",
      "text/plain": [
       "<Figure size 432x288 with 1 Axes>"
      ]
     },
     "metadata": {
      "needs_background": "light"
     },
     "output_type": "display_data"
    }
   ],
   "source": [
    "ax = plt.subplot(111)\n",
    "ax.plot(range(0, len(marks)), marks, 'bo', alpha=0.5)\n",
    "ax.set_xticklabels(names,rotation=45, rotation_mode=\"anchor\", ha=\"right\");"
   ]
  },
  {
   "cell_type": "markdown",
   "id": "d0809927",
   "metadata": {},
   "source": [
    "**Dei messaggi inviati nella campagna tbd nei giorni X, quali sono stati \n",
    "aperti/clickati in futuro? Ovvero, dei messaggi inviati di lunedì per la campagna X, quanti di questi in percentuale sono stati in futuro aperti/clickati?**"
   ]
  },
  {
   "cell_type": "code",
   "execution_count": 354,
   "id": "4628e4bb",
   "metadata": {},
   "outputs": [
    {
     "data": {
      "text/plain": [
       "(array([25, 24, 28]),\n",
       " array(['tbd', 'Diennea', 'MagNews Comunicazioni 2021'], dtype=object))"
      ]
     },
     "execution_count": 354,
     "metadata": {},
     "output_type": "execute_result"
    }
   ],
   "source": [
    "data[\"CAMPAIGN.CAMPAIGN_ID\"].unique(),data[\"CAMPAIGN.CAMPAIGN_NAME\"].unique() "
   ]
  },
  {
   "cell_type": "code",
   "execution_count": 366,
   "id": "455b6c8b",
   "metadata": {},
   "outputs": [],
   "source": [
    "d = {}\n",
    "for i in data[\"day_of_week\"].unique():\n",
    "    if i not in d:\n",
    "        d[i] = {'Sent': 0, 'Open': 0}"
   ]
  },
  {
   "cell_type": "code",
   "execution_count": 367,
   "id": "0945c73a",
   "metadata": {},
   "outputs": [],
   "source": [
    "# change 28 with the id of other campaigns to do the stats for the other campaign\n",
    "# TODO: make a function of this with \"CAMPAIGN.CAMPAIGN_ID\" as parameter\n",
    "list_contact_concatenated_mex  = []\n",
    "for i in range(len(data)):\n",
    "    if str(data[\"EVENT.TYPE\"][i]) == 'Sent' and data[\"CAMPAIGN.CAMPAIGN_ID\"][i] == 28:\n",
    "        d[data[\"day_of_week\"][i]]['Sent'] += 1\n",
    "    elif (str(data[\"EVENT.TYPE\"][i]) == 'Open' and data[\"CAMPAIGN.CAMPAIGN_ID\"][i] == 28) and (data['HashContatto'][i] + data['HashMessaggio'][i] not in list_contact_concatenated_mex):\n",
    "        list_contact_concatenated_mex.append(data['HashContatto'][i] + data['HashMessaggio'][i])\n",
    "        d[data[\"day_of_week\"][i]]['Open'] += 1\n",
    "    else:\n",
    "        pass"
   ]
  },
  {
   "cell_type": "code",
   "execution_count": 368,
   "id": "675c9e32",
   "metadata": {},
   "outputs": [],
   "source": [
    "list_percentage_open_divided_sent_per_comm = []\n",
    "for i in d.values():\n",
    "    if i['Sent'] > 0:\n",
    "        list_percentage_open_divided_sent_per_comm.append(i['Open'] / i['Sent']*100)"
   ]
  },
  {
   "cell_type": "code",
   "execution_count": 369,
   "id": "efba95db",
   "metadata": {},
   "outputs": [
    {
     "data": {
      "text/plain": [
       "{'Wednesday': {'Sent': 5049, 'Open': 1023},\n",
       " 'Monday': {'Sent': 0, 'Open': 61},\n",
       " 'Tuesday': {'Sent': 4593, 'Open': 877},\n",
       " 'Thursday': {'Sent': 6781, 'Open': 1338},\n",
       " 'Friday': {'Sent': 0, 'Open': 158},\n",
       " 'Saturday': {'Sent': 0, 'Open': 30},\n",
       " 'Sunday': {'Sent': 0, 'Open': 19}}"
      ]
     },
     "execution_count": 369,
     "metadata": {},
     "output_type": "execute_result"
    }
   ],
   "source": [
    "d"
   ]
  },
  {
   "cell_type": "code",
   "execution_count": 370,
   "id": "9e3402ac",
   "metadata": {},
   "outputs": [],
   "source": [
    "marks2 = [0, 877/4593*100, 1023/5049*100, 1338/6781*100, 0, 0, 0]"
   ]
  },
  {
   "cell_type": "code",
   "execution_count": 371,
   "id": "c99365b9",
   "metadata": {},
   "outputs": [
    {
     "name": "stderr",
     "output_type": "stream",
     "text": [
      "/home/ec2-user/anaconda3/envs/python3/lib/python3.6/site-packages/ipykernel/__main__.py:4: UserWarning: FixedFormatter should only be used together with FixedLocator\n"
     ]
    },
    {
     "data": {
      "image/png": "[encoded data removed]",
      "text/plain": [
       "<Figure size 432x288 with 1 Axes>"
      ]
     },
     "metadata": {
      "needs_background": "light"
     },
     "output_type": "display_data"
    }
   ],
   "source": [
    "ax = plt.subplot(111)\n",
    "ax.plot(range(0, len(marks2)), marks2, 'bo', alpha=0.5)\n",
    "ax.title.set_text('MagNews Comunicazioni 2021')\n",
    "ax.set_xticklabels(names,rotation=45, rotation_mode=\"anchor\", ha=\"right\");"
   ]
  },
  {
   "cell_type": "markdown",
   "id": "d72ea00e",
   "metadata": {},
   "source": [
    "NOTE: le mail inviate per ogni comunicazione vengono inviate tutte in giorni specifici. Function `distribution_mex_for_comm_with_day`. Ad esempio le mail della prima comunicazione vengono inviate tutte di Lunedì. Seconda Lunedì. Altre solo Mercoledì e Giovedì ad esempio. "
   ]
  },
  {
   "cell_type": "code",
   "execution_count": null,
   "id": "3bd9d096",
   "metadata": {},
   "outputs": [],
   "source": []
  }
 ],
 "metadata": {
  "kernelspec": {
   "display_name": "conda_python3",
   "language": "python",
   "name": "conda_python3"
  },
  "language_info": {
   "codemirror_mode": {
    "name": "ipython",
    "version": 3
   },
   "file_extension": ".py",
   "mimetype": "text/x-python",
   "name": "python",
   "nbconvert_exporter": "python",
   "pygments_lexer": "ipython3",
   "version": "3.6.13"
  }
 },
 "nbformat": 4,
 "nbformat_minor": 5
}
